{
 "cells": [
  {
   "cell_type": "code",
   "execution_count": 2,
   "id": "e564a2e9",
   "metadata": {},
   "outputs": [
    {
     "name": "stdout",
     "output_type": "stream",
     "text": [
      "\n"
     ]
    }
   ],
   "source": [
    "# 제어문\n",
    "# bool을 이용앻서 원하는 명령어를 실행시킨다.\n",
    "# 조건식 : bool 타입의 결과 값이 와야한다.\n",
    "# if문에서 조건식의 뒤에는 \":\" 이 꼭 와야한다.\n",
    "# if문 다음의 명령문은 들어쓰기가 되어있어야 한다.(tap) \n",
    "# 들여쓰기는 공백문자와 탭을 이용할 수 있는데 두개 같이 사용할 수 없다.\n",
    "# \"명령문10\"은 독립적인 명령문이 된다.\n",
    "# 일반적으로 조건식은 비교연산자나 논리연산자를 가진다. \n",
    "\n",
    "\n",
    "'''\n",
    "if 조건식:\n",
    "    명령문1\n",
    "    명령문2\n",
    "    ...\n",
    "명령문10\n",
    "예)\n",
    "if 조건식 :\n",
    "    print(\"1\") # if문에 해당되는 명령문\n",
    "    \n",
    "print(\"2\") # if문과 상관없이 실행되는 명령문이다.\n",
    "'''\n",
    "print()"
   ]
  },
  {
   "cell_type": "code",
   "execution_count": 4,
   "id": "848a709c",
   "metadata": {},
   "outputs": [
    {
     "name": "stdout",
     "output_type": "stream",
     "text": [
      "차를 타고 가시오\n",
      "if문과 관계없이 실행되는 명령문\n",
      "if문과 관계없이 실행되는 명령문\n"
     ]
    }
   ],
   "source": [
    "# 조건문 : 단일 if\n",
    "# 돈이 3000원 이상이 있으면 \"차를 타고 가시오\"를 출력하시오.\n",
    "money=4000\n",
    "if money>=3000: # 조건문\n",
    "    print(\"차를 타고 가시오\")\n",
    "# if문 다음에 있는 조건식의 결과 값이 True면 if문 다음의 명령어가 실행된다.\n",
    "print(\"if문과 관계없이 실행되는 명령문\")\n",
    "money=2900\n",
    "if money>=3000: # 조건문\n",
    "    print(\"차를 타고 가시오\")\n",
    "# if에 있는 결과값이 False면 명령문이 실행되지 않는다. \n",
    "print(\"if문과 관계없이 실행되는 명령문\")"
   ]
  },
  {
   "cell_type": "code",
   "execution_count": 6,
   "id": "e27d4792",
   "metadata": {},
   "outputs": [
    {
     "name": "stdout",
     "output_type": "stream",
     "text": [
      "성인입니다.\n"
     ]
    }
   ],
   "source": [
    "age=35\n",
    "height=170\n",
    "# 나이가 35 이상입니까?\n",
    "if age>=19:\n",
    "    print(\"성인입니다.\")\n",
    "# 키가 175 이상입니까?\n",
    "if height>=175:\n",
    "    print(\"175이상입니다.\")"
   ]
  },
  {
   "cell_type": "code",
   "execution_count": 9,
   "id": "77b08f1d",
   "metadata": {},
   "outputs": [
    {
     "name": "stdout",
     "output_type": "stream",
     "text": [
      "입력 받은 값이 없습니다.\n"
     ]
    }
   ],
   "source": [
    "# if ~ else\n",
    "\n",
    "'''\n",
    "if 조건식 : #True\n",
    "    명령문1\n",
    "    ...\n",
    "else : # False\n",
    "    명령문2\n",
    "    ...\n",
    "'''\n",
    "\n",
    "# 문자열을 조건식을 사용할 수 있다. \n",
    "s=\"\"\n",
    "if s:\n",
    "    print(s+\"입니다.\")\n",
    "else:\n",
    "    print(\"입력 받은 값이 없습니다.\")\n",
    "    \n",
    "\n",
    "\n"
   ]
  },
  {
   "cell_type": "code",
   "execution_count": 11,
   "id": "3c13574c",
   "metadata": {},
   "outputs": [
    {
     "name": "stdout",
     "output_type": "stream",
     "text": [
      "차를 타고 가시오\n",
      "차를 타고 가시오\n"
     ]
    }
   ],
   "source": [
    "\n",
    "# 돈이 있다면 \"차를 타고 가시오\"\n",
    "money=1\n",
    "if money:\n",
    "    print(\"차를 타고 가시오\")\n",
    "else:\n",
    "    print(\"돈이 0원이에요\")\n",
    "    \n",
    "\n",
    "if 1:\n",
    "    print(\"차를 타고 가시오\")\n",
    "else:\n",
    "    print(\"돈이 0원이에요\")"
   ]
  },
  {
   "cell_type": "code",
   "execution_count": 13,
   "id": "9a407fde",
   "metadata": {},
   "outputs": [
    {
     "name": "stdout",
     "output_type": "stream",
     "text": [
      "0입니다.\n"
     ]
    }
   ],
   "source": [
    "if 0:\n",
    "    print(\"0이 아닙니다.\")\n",
    "else :\n",
    "    print(\"0입니다.\")\n",
    "    "
   ]
  },
  {
   "cell_type": "code",
   "execution_count": 18,
   "id": "617b37ff",
   "metadata": {},
   "outputs": [
    {
     "name": "stdout",
     "output_type": "stream",
     "text": [
      "[1, 2, 3]\n",
      "============================================================\n",
      "리스트에 요소가 없습니다.\n"
     ]
    }
   ],
   "source": [
    "L=[1,2,3]\n",
    "if L:\n",
    "    print(L)\n",
    "else:\n",
    "    print(\"리스트에 요소가 없습니다.\")\n",
    "\n",
    "print(\"==\"*30)\n",
    "    \n",
    "L=[]\n",
    "if L:\n",
    "    print(1)\n",
    "else:\n",
    "    print(\"리스트에 요소가 없습니다.\")"
   ]
  },
  {
   "cell_type": "code",
   "execution_count": 22,
   "id": "a3f7f239",
   "metadata": {},
   "outputs": [
    {
     "name": "stdout",
     "output_type": "stream",
     "text": [
      "0입니다.\n",
      "============================================================\n",
      "0입니다.\n"
     ]
    }
   ],
   "source": [
    "money=0\n",
    "if money:\n",
    "    print(\"0이 아닙니다.\")\n",
    "else:\n",
    "    print(\"0입니다.\")\n",
    "\n",
    "print(\"==\"*30)\n",
    "\n",
    "if not money:\n",
    "    print(\"0입니다.\")\n",
    "else:\n",
    "    print(\"0이 아닙니다.\")"
   ]
  },
  {
   "cell_type": "code",
   "execution_count": 24,
   "id": "733ea884",
   "metadata": {},
   "outputs": [
    {
     "name": "stdout",
     "output_type": "stream",
     "text": [
      "False\n",
      "True\n",
      "True\n",
      "False\n"
     ]
    }
   ],
   "source": [
    "print(bool(0))\n",
    "print(not bool(0))\n",
    "print(bool(1))\n",
    "print(not bool(1))   # not True = False"
   ]
  },
  {
   "cell_type": "code",
   "execution_count": 28,
   "id": "559be21d",
   "metadata": {},
   "outputs": [
    {
     "name": "stdout",
     "output_type": "stream",
     "text": [
      "False\n",
      "평년\n"
     ]
    }
   ],
   "source": [
    "# 2200은 윤년입니까?\n",
    "# 4년마다 윤년, 100년마다 평년, 400년마다 윤년\n",
    "\n",
    "z=2200%4==0 and 2200%100!=0 or 2200%400==0\n",
    "#    True          False\n",
    "#           False            or     False\n",
    "print(z)\n",
    "\n",
    "if 2200%4==0 and 2200%100!=0 or 2200%400==0:\n",
    "    print(\"윤년\")\n",
    "else :\n",
    "    print(\"평년\")"
   ]
  },
  {
   "cell_type": "code",
   "execution_count": null,
   "id": "c5d0ed11",
   "metadata": {},
   "outputs": [],
   "source": [
    "\n",
    "\n",
    "\n",
    "\n",
    "\n",
    "\n",
    "\n",
    "\n",
    "\n",
    "\n",
    "\n",
    "\n",
    "\n",
    "\n",
    "\n",
    "\n",
    "\n",
    "\n",
    "\n",
    "\n",
    "\n",
    "\n",
    "\n",
    "\n",
    "\n",
    "\n",
    "\n",
    "\n",
    "\n"
   ]
  },
  {
   "cell_type": "code",
   "execution_count": 32,
   "id": "49ae65cf",
   "metadata": {},
   "outputs": [
    {
     "name": "stdout",
     "output_type": "stream",
     "text": [
      "True\n",
      "False\n",
      "============================================================\n",
      "리스트에 1이 포함되어 있습니다.\n",
      "============================================================\n",
      "리스트에 7이 포함되어 있지 않습니다.\n"
     ]
    }
   ],
   "source": [
    "### in 연산자 . 결과값을 bool타입을 받아오는 연산자이다.\n",
    "##\n",
    "\n",
    "z=1 in [1,2,3,4]\n",
    "print(z)\n",
    "z=7 in [1,2,3,4]\n",
    "print(z)\n",
    "\n",
    "print(\"==\"*30)\n",
    "\n",
    "if 1 in [1,2,3,4]:\n",
    "    print(\"리스트에 1이 포함되어 있습니다.\")\n",
    "else:\n",
    "    print(\"리스트에 1이 포함되어 있지 않습니다.\")\n",
    "    \n",
    "print(\"==\"*30)\n",
    "\n",
    "if 7 in [1,2,3,4]:\n",
    "    print(\"리스트에 7이 포함되어 있습니다.\")\n",
    "else:\n",
    "    print(\"리스트에 7이 포함되어 있지 않습니다.\")"
   ]
  },
  {
   "cell_type": "code",
   "execution_count": 34,
   "id": "9a5543cb",
   "metadata": {},
   "outputs": [
    {
     "name": "stdout",
     "output_type": "stream",
     "text": [
      "리스트에 7이 포함되어 있지 않습니다.\n"
     ]
    }
   ],
   "source": [
    "l=[1,2,3,4]\n",
    "if not 7 in l:\n",
    "    print(\"리스트에 7이 포함되어 있지 않습니다.\")\n",
    "else:\n",
    "    print(\"리스트에 7이 포함되어 있습니다.\")\n",
    "    "
   ]
  },
  {
   "cell_type": "code",
   "execution_count": 37,
   "id": "198149e3",
   "metadata": {},
   "outputs": [
    {
     "name": "stdout",
     "output_type": "stream",
     "text": [
      "True\n",
      "키 a가 존재합니다.\n",
      "키 c가 존재하지 않습니다.\n"
     ]
    }
   ],
   "source": [
    "print(\"a\" in {\"a\":1, \"b\":2})\n",
    "if \"a\" in {\"a\":1, \"b\":2}:\n",
    "    print(\"키 a가 존재합니다.\")\n",
    "else:\n",
    "    print(\"키 a가 존재하지 않습니다.\")\n",
    "\n",
    "if \"c\" not in {\"a\":1,\"b\":2}:\n",
    "    print(\"키 c가 존재하지 않습니다.\")"
   ]
  },
  {
   "cell_type": "code",
   "execution_count": 40,
   "id": "c71c7b39",
   "metadata": {},
   "outputs": [
    {
     "name": "stdout",
     "output_type": "stream",
     "text": [
      "True\n",
      "변수 s가 가진 문자열에는 p를 포함하고 있다.\n",
      "변수 s가 가진 문자열에는 Life를 포함하고 있지 않다.\n"
     ]
    }
   ],
   "source": [
    "print(\"p\" in \"python\")\n",
    "s=\"pythion\"\n",
    "if \"p\" in s:\n",
    "    print(\"변수 s가 가진 문자열에는 p를 포함하고 있다.\")\n",
    "s=\"Your leg is too short\"\n",
    "if \"Life\" in s:\n",
    "    print(\"변수 s가 가진 문자열에는 Life를 포함하고 있다.\")\n",
    "else:\n",
    "    print(\"변수 s가 가진 문자열에는 Life를 포함하고 있지 않다.\")"
   ]
  },
  {
   "cell_type": "code",
   "execution_count": 42,
   "id": "76ad5ce9",
   "metadata": {},
   "outputs": [
    {
     "name": "stdout",
     "output_type": "stream",
     "text": [
      "카드가 없어서 차를 타고 갈 수 없다.\n"
     ]
    }
   ],
   "source": [
    "pocket=[\"paper\",\"cellphon\",\"card\"]\n",
    "\n",
    "if \"card\" in \"pocket\":\n",
    "    print(\"카드가 있어서 차를 타고 갈 수 있다.\")\n",
    "else:\n",
    "    print(\"카드가 없어서 차를 타고 갈 수 없다.\")\n",
    "    "
   ]
  },
  {
   "cell_type": "code",
   "execution_count": 48,
   "id": "58818bb9",
   "metadata": {},
   "outputs": [
    {
     "name": "stdout",
     "output_type": "stream",
     "text": [
      "C\n"
     ]
    }
   ],
   "source": [
    "# 조건문 if, if~else, if~elif, ... , else\n",
    "# 90점 이상이면 A, 80점 이상이면 B, 70점 이상이면 C, 60점 이상이면 D, 아니면 F\n",
    "score=75\n",
    "if score>=90:\n",
    "    print(\"A\")\n",
    "elif score>=80:\n",
    "    print(\"B\")\n",
    "elif score>=70:\n",
    "    print(\"C\")\n",
    "elif score>=60:\n",
    "    print(\"D\")\n",
    "else:\n",
    "    print(\"F\")"
   ]
  },
  {
   "cell_type": "code",
   "execution_count": 1,
   "id": "eaeab28a",
   "metadata": {},
   "outputs": [
    {
     "name": "stdout",
     "output_type": "stream",
     "text": [
      "C+\n"
     ]
    }
   ],
   "source": [
    "# 95 A+ 90 A \n",
    "# 85 B+ 80 B\n",
    "# 75 C+ 70 C\n",
    "# 65 D+ 60 D\n",
    "# 나머지 F\n",
    "# 다중 if문 \n",
    "\n",
    "score=75\n",
    "if score>=90:\n",
    "    if score>=95:\n",
    "        print(\"A+\")\n",
    "    else:\n",
    "        print(\"A\")\n",
    "elif score>=80:\n",
    "    if score>=85:\n",
    "        print(\"B+\")\n",
    "    else:\n",
    "        print(\"B\")\n",
    "elif score>=70:\n",
    "    if score>=75:\n",
    "        print(\"C+\")\n",
    "    else:\n",
    "        print(\"C\")\n",
    "elif score>=60:\n",
    "    if score>=65:\n",
    "        print(\"D+\")\n",
    "    else:\n",
    "        print(\"D\")\n",
    "else:\n",
    "    print(\"F\")\n"
   ]
  },
  {
   "cell_type": "code",
   "execution_count": 55,
   "id": "379ac550",
   "metadata": {},
   "outputs": [
    {
     "name": "stdout",
     "output_type": "stream",
     "text": [
      "합격\n",
      "불합격\n"
     ]
    }
   ],
   "source": [
    "# 평균이 60점 이상이면 합격, 그렇지 않으면 불합격\n",
    "\n",
    "kor=70\n",
    "eng=38\n",
    "math=90\n",
    "\n",
    "sum=(kor+eng+math)/3\n",
    "\n",
    "if sum>=60:\n",
    "    print(\"합격\")\n",
    "else:\n",
    "    print(\"불합격\")\n",
    "    \n",
    "\n",
    "# 평균이 60 이상이고, 모든 과목이 40 이상이면 합격, 아니면 불합격\n",
    "\n",
    "if sum>=60 and kor>=40 and eng>=40 and math>=0:\n",
    "    print(\"합격\")\n",
    "else:\n",
    "    print(\"불합격\")"
   ]
  },
  {
   "cell_type": "code",
   "execution_count": 58,
   "id": "4649de5b",
   "metadata": {},
   "outputs": [
    {
     "name": "stdout",
     "output_type": "stream",
     "text": [
      "합격\n",
      "============================================================\n",
      "합격\n"
     ]
    }
   ],
   "source": [
    "score=70\n",
    "if score>=60:\n",
    "    message=\"합격\"\n",
    "else:\n",
    "    message=\"불합격\"\n",
    "print(message)\n",
    "\n",
    "print(\"==\"*30)\n",
    "\n",
    "message=\"합격\" if score>=60 else \"불합격\"     # 파이썬에선 이렇게 많이 사용\n",
    "print(message)"
   ]
  },
  {
   "cell_type": "code",
   "execution_count": 9,
   "id": "ea1ed52b",
   "metadata": {},
   "outputs": [
    {
     "data": {
      "text/plain": [
       "'\\nscore=75\\nswicth(score){\\n    case 90:print(\"A\"); break;\\n    case 80:print(\"B\"); break;\\n...\\n}\\n\\n'"
      ]
     },
     "execution_count": 9,
     "metadata": {},
     "output_type": "execute_result"
    }
   ],
   "source": [
    "'''\n",
    "score=75\n",
    "swicth(score){\n",
    "    case 90:print(\"A\"); break;\n",
    "    case 80:print(\"B\"); break;\n",
    "...\n",
    "}\n",
    "\n",
    "'''\n",
    "\n",
    "# 파이썬에는 스위치-케이스문이 존재하지 않는다.\n",
    "# 대신에 switch~case 딕셔너리 를 사용한다.\n",
    "\n",
    "# dic={'A':90,'B':80,'C':70}\n",
    "\n"
   ]
  },
  {
   "cell_type": "code",
   "execution_count": null,
   "id": "c5b3574c",
   "metadata": {},
   "outputs": [],
   "source": [
    "\n",
    "\n",
    "\n",
    "\n",
    "\n",
    "\n",
    "\n",
    "\n",
    "\n",
    "\n",
    "\n",
    "\n",
    "\n",
    "\n",
    "\n",
    "\n",
    "\n",
    "\n",
    "\n",
    "\n",
    "\n",
    "\n",
    "\n",
    "\n",
    "\n",
    "\n",
    "\n",
    "\n",
    "\n"
   ]
  },
  {
   "cell_type": "code",
   "execution_count": 8,
   "id": "cb5fa412",
   "metadata": {},
   "outputs": [
    {
     "name": "stdout",
     "output_type": "stream",
     "text": [
      "나무를 1번 찍었습니다.\n",
      "나무를 2번 찍었습니다.\n",
      "나무를 3번 찍었습니다.\n",
      "나무를 4번 찍었습니다.\n",
      "나무를 5번 찍었습니다.\n",
      "나무를 6번 찍었습니다.\n",
      "나무를 7번 찍었습니다.\n",
      "나무를 8번 찍었습니다.\n",
      "나무를 9번 찍었습니다.\n",
      "나무를 10번 찍었습니다.\n",
      "나무가 넘어갑니다.\n",
      "============================================================\n",
      "나무를 1번 찍었습니다.\n",
      "나무를 2번 찍었습니다.\n",
      "나무를 3번 찍었습니다.\n",
      "나무를 4번 찍었습니다.\n",
      "나무를 5번 찍었습니다.\n",
      "나무를 6번 찍었습니다.\n",
      "나무를 7번 찍었습니다.\n",
      "나무를 8번 찍었습니다.\n",
      "나무를 9번 찍었습니다.\n",
      "나무를 10번 찍었습니다.\n",
      "나무가 넘어갑니다.\n",
      "============================================================\n",
      "나무를 1번 찍었습니다.\n",
      "나무를 2번 찍었습니다.\n",
      "나무를 3번 찍었습니다.\n",
      "나무를 4번 찍었습니다.\n",
      "나무를 5번 찍었습니다.\n",
      "나무를 6번 찍었습니다.\n",
      "나무를 7번 찍었습니다.\n",
      "나무를 8번 찍었습니다.\n",
      "나무를 9번 찍었습니다.\n",
      "나무를 10번 찍었습니다.\n",
      "나무가 넘어갑니다.\n",
      "i는11\n",
      "============================================================\n",
      "나무를 1번 찍었습니다.\n",
      "나무를 2번 찍었습니다.\n",
      "나무를 3번 찍었습니다.\n",
      "나무를 4번 찍었습니다.\n",
      "나무를 5번 찍었습니다.\n",
      "나무를 6번 찍었습니다.\n",
      "나무를 7번 찍었습니다.\n",
      "나무를 8번 찍었습니다.\n",
      "나무를 9번 찍었습니다.\n",
      "나무를 10번 찍었습니다.\n",
      "나무가 넘어갑니다.\n"
     ]
    }
   ],
   "source": [
    "# 반복문\n",
    "\n",
    "print(\"나무를 1번 찍었습니다.\")\n",
    "print(\"나무를 2번 찍었습니다.\")\n",
    "print(\"나무를 3번 찍었습니다.\")\n",
    "print(\"나무를 4번 찍었습니다.\")\n",
    "print(\"나무를 5번 찍었습니다.\")\n",
    "print(\"나무를 6번 찍었습니다.\")\n",
    "print(\"나무를 7번 찍었습니다.\")\n",
    "print(\"나무를 8번 찍었습니다.\")\n",
    "print(\"나무를 9번 찍었습니다.\")\n",
    "print(\"나무를 10번 찍었습니다.\")\n",
    "print(\"나무가 넘어갑니다.\")\n",
    "\n",
    "print(\"==\"*30)\n",
    "\n",
    "# 반복문이란 반복적으로 실행되는 몀령문을 한번만 사용해서 실행되게 하는것.\n",
    "\n",
    "i=1\n",
    "while i<=10:\n",
    "   \n",
    "    print(f\"나무를 {i}번 찍었습니다.\")\n",
    "    i=i+1# 증가식. 증가식이 없으면 무한루프에 빠진다.\n",
    "print(\"나무가 넘어갑니다.\")\n",
    "\n",
    "\n",
    "print(\"==\"*30)\n",
    "    \n",
    "        \n",
    "i=1\n",
    "while i<=10:\n",
    "    print(\"나무를 %d번 찍었습니다.\" % i)\n",
    "    i+=1 \n",
    "print(\"나무가 넘어갑니다.\")\n",
    "print(f\"i는{i}\")\n",
    "\n",
    "\n",
    "print(\"==\"*30)\n",
    "\n",
    "\n",
    "i=1\n",
    "while i<=10:\n",
    "    print(\"나무를 {0}번 찍었습니다.\".format(i))\n",
    "    i+=1\n",
    "print(\"나무가 넘어갑니다.\")"
   ]
  },
  {
   "cell_type": "code",
   "execution_count": 19,
   "id": "8e59b5ee",
   "metadata": {},
   "outputs": [
    {
     "name": "stdout",
     "output_type": "stream",
     "text": [
      "8*1=8\n",
      "8*2=16\n",
      "8*3=24\n",
      "8*4=32\n",
      "8*5=40\n",
      "8*6=48\n",
      "8*7=56\n",
      "8*8=64\n",
      "8*9=72\n",
      "============================================================\n",
      "8*1=8\n",
      "8*2=16\n",
      "8*3=24\n",
      "8*4=32\n",
      "8*5=40\n",
      "8*6=48\n",
      "8*7=56\n",
      "8*8=64\n",
      "8*9=72\n",
      "============================================================\n",
      "8*1=8\n",
      "8*2=16\n",
      "8*3=24\n",
      "8*4=32\n",
      "8*5=40\n",
      "8*6=48\n",
      "8*7=56\n",
      "8*8=64\n",
      "8*9=72\n"
     ]
    }
   ],
   "source": [
    "print(\"8*1=8\")\n",
    "print(\"8*2=16\")\n",
    "print(\"8*3=24\")\n",
    "print(\"8*4=32\")\n",
    "print(\"8*5=40\")\n",
    "print(\"8*6=48\")\n",
    "print(\"8*7=56\")\n",
    "print(\"8*8=64\")\n",
    "print(\"8*9=72\")\n",
    "\n",
    "print(\"==\"*30)\n",
    "\n",
    "i=1\n",
    "while i<10:\n",
    "    print(f\"8*{i}={8*i}\")\n",
    "    i+=1\n",
    "\n",
    "    \n",
    "    \n",
    "print(\"==\"*30)\n",
    "\n",
    "\n",
    "# 포멧 문자를 이용해서 출력\n",
    "\n",
    "i=1\n",
    "while i<10:\n",
    "    print(\"8*%d=%d\"%(i,8*i))\n",
    "    i+=1"
   ]
  },
  {
   "cell_type": "code",
   "execution_count": 2,
   "id": "20e128ef",
   "metadata": {},
   "outputs": [
    {
     "name": "stdout",
     "output_type": "stream",
     "text": [
      "원하는 단을 입력해주세요. : 4\n",
      "4\n",
      "원하는 단을 입력해주세요. : 4\n",
      "4*1=4\n",
      "4*2=8\n",
      "4*3=12\n",
      "4*4=16\n",
      "4*5=20\n",
      "4*6=24\n",
      "4*7=28\n",
      "4*8=32\n",
      "4*9=36\n",
      "============================================================\n",
      "원하는 단을 입력해주세요. : 4\n",
      "4*1=4\n",
      "4*2=8\n",
      "4*3=12\n",
      "4*4=16\n",
      "4*5=20\n",
      "4*6=24\n",
      "4*7=28\n",
      "4*8=32\n",
      "4*9=36\n"
     ]
    }
   ],
   "source": [
    "dan=input(\"원하는 단을 입력해주세요. : \")\n",
    "print(dan)\n",
    "# 키보드 값은 모두 문자이기때문에 숫자로 변환해줘야한다. \n",
    "\n",
    "dan=int(input(\"원하는 단을 입력해주세요. : \"))\n",
    "i=1\n",
    "while i<10:\n",
    "    print(\"%d*%d=%d\"%(dan,i,dan*i))\n",
    "    i+=1\n",
    "    \n",
    "    \n",
    "    \n",
    "print(\"==\"*30)\n",
    "\n",
    "\n",
    "    \n",
    "# f 문자를 사용해서 출력해보자\n",
    "\n",
    "dan=int(input(\"원하는 단을 입력해주세요. : \"))\n",
    "i=1\n",
    "while i<10:\n",
    "    print(f\"{dan}*{i}={dan*i}\")\n",
    "    i+=1"
   ]
  },
  {
   "cell_type": "code",
   "execution_count": 7,
   "id": "e578b7e5",
   "metadata": {},
   "outputs": [
    {
     "name": "stdout",
     "output_type": "stream",
     "text": [
      "8*3=24\n",
      "8*4=32\n",
      "8*5=40\n",
      "8*6=48\n",
      "원하는 단을 입력하세요 : 5\n",
      "시작 : 3\n",
      "끝 : 7\n",
      "5*3=15\n",
      "5*4=20\n",
      "5*5=25\n",
      "5*6=30\n",
      "5*7=35\n",
      "============================================================\n",
      "원하는 단을 입력하세요 : 5\n",
      "시작 : 2\n",
      "끝 : 6\n",
      "5*2=10\n",
      "5*3=15\n",
      "5*4=20\n",
      "5*5=25\n",
      "5*6=30\n"
     ]
    }
   ],
   "source": [
    "i=3\n",
    "while i<7:\n",
    "    print(\"8*%d=%d\"%(i,8*i))\n",
    "    i+=1\n",
    "    \n",
    "    \n",
    "    \n",
    "    \n",
    "# 원하는 단의 시작과 끝을 받아서 출력\n",
    "    \n",
    "dan=int(input(\"원하는 단을 입력하세요 : \"))\n",
    "start=int(input(\"시작 : \"))\n",
    "end=int(input(\"끝 : \"))\n",
    "\n",
    "while start<=end:\n",
    "    print(\"%d*%d=%d\"%(dan,start,dan*start))\n",
    "    start+=1\n",
    "    \n",
    "    \n",
    "    \n",
    "print(\"==\"*30)\n",
    "\n",
    "\n",
    "# f 문자를 사용해서 출력해보자\n",
    "dan=int(input(\"원하는 단을 입력하세요 : \"))\n",
    "start=int(input(\"시작 : \"))\n",
    "end=int(input(\"끝 : \"))\n",
    "\n",
    "while start<=end:\n",
    "    print(f\"{dan}*{start}={dan*start}\")\n",
    "    start+=1\n"
   ]
  },
  {
   "cell_type": "code",
   "execution_count": 8,
   "id": "1c96fa32",
   "metadata": {},
   "outputs": [
    {
     "name": "stdout",
     "output_type": "stream",
     "text": [
      "원하는 단을 입력하세요 : 5\n",
      "시작 : 4\n",
      "끝 : 5\n",
      "5*4=20\n",
      "5*5=25\n",
      "원하는 단을 입력하세요 : 5\n",
      "시작 : 4\n",
      "끝 : 5\n",
      "5*4=20\n",
      "5*5=25\n"
     ]
    }
   ],
   "source": [
    "# format() 함수를 이용해서 출력1\n",
    "dan=int(input(\"원하는 단을 입력하세요 : \"))\n",
    "start=int(input(\"시작 : \"))\n",
    "end=int(input(\"끝 : \"))\n",
    "\n",
    "while start<=end:\n",
    "    print(\"{0}*{1}={2}\".format(dan,start,dan*start))\n",
    "    start+=1\n",
    "    \n",
    "    \n",
    "    \n",
    "# format() 함수를 이용해서 출력2\n",
    "dan=int(input(\"원하는 단을 입력하세요 : \"))\n",
    "start=int(input(\"시작 : \"))\n",
    "end=int(input(\"끝 : \"))\n",
    "\n",
    "while start<=end:\n",
    "    print(\"{0}*{1}={r}\".format(dan,start,r=dan*start))\n",
    "    start+=1"
   ]
  },
  {
   "cell_type": "code",
   "execution_count": 9,
   "id": "7b7ff309",
   "metadata": {},
   "outputs": [
    {
     "name": "stdout",
     "output_type": "stream",
     "text": [
      "*\n",
      "**\n",
      "***\n",
      "****\n",
      "*****\n"
     ]
    }
   ],
   "source": [
    "'''\n",
    "*\n",
    "**\n",
    "***\n",
    "****\n",
    "*****\n",
    "'''\n",
    "\n",
    "i=1\n",
    "while i<=5:\n",
    "    print(\"*\"*i)\n",
    "    i+=1\n"
   ]
  },
  {
   "cell_type": "code",
   "execution_count": 13,
   "id": "c0abd777",
   "metadata": {},
   "outputs": [
    {
     "name": "stdout",
     "output_type": "stream",
     "text": [
      "5050\n",
      "============================================================\n",
      "시작 : 4\n",
      "끝 : 6\n",
      "15\n"
     ]
    }
   ],
   "source": [
    "# 1~100까지의 합을 sum에 저장한 후 sum을 출력하세요.\n",
    "\n",
    "i=1\n",
    "sum=0\n",
    "\n",
    "while i<=100:\n",
    "    sum+=i\n",
    "    i+=1\n",
    "print(sum)\n",
    "\n",
    "\n",
    "print(\"==\"*30)\n",
    "\n",
    "\n",
    "# 원하는 범위의 합을 구하세요.\n",
    "start=int(input(\"시작 : \"))\n",
    "end=int(input(\"끝 : \"))\n",
    "sum=0\n",
    "while start<=end:\n",
    "    sum+=start\n",
    "    start+=1\n",
    "print(sum)\n"
   ]
  },
  {
   "cell_type": "code",
   "execution_count": 70,
   "id": "6e251964",
   "metadata": {},
   "outputs": [
    {
     "name": "stdout",
     "output_type": "stream",
     "text": [
      "[1, 2, 3, 4, 5, 6, 7, 8, 9, 10, 11, 12, 13, 14, 15, 16, 17, 18, 19, 20, 21, 22, 23, 24, 25, 26, 27, 28, 29, 30, 31, 32, 33, 34, 35, 36, 37, 38, 39, 40, 41, 42, 43, 44, 45]\n",
      "45\n",
      "12\n",
      "44\n",
      "[1, 2, 3, 4, 5, 6, 7, 8, 9, 10, 11, 13, 14, 15, 16, 17, 18, 19, 20, 21, 22, 23, 24, 25, 26, 27, 28, 29, 30, 31, 32, 33, 34, 35, 36, 37, 38, 39, 40, 41, 42, 43, 44, 45]\n",
      "32\n",
      "43\n",
      "[1, 2, 3, 4, 5, 6, 7, 8, 9, 10, 11, 13, 14, 15, 16, 17, 18, 19, 20, 21, 22, 23, 24, 25, 26, 27, 28, 29, 30, 31, 33, 34, 35, 36, 37, 38, 39, 40, 41, 42, 43, 44, 45]\n",
      "[1, 2, 3, 4, 5, 6, 7, 8, 9, 10, 11, 12, 13, 14, 15, 16, 17, 18, 19, 20, 21, 22, 23, 24, 25, 26, 27, 28, 29, 30, 31, 32, 33, 34, 35, 36, 37, 38, 39, 40, 41, 42, 43, 44, 45]\n",
      "45\n",
      "14 8 32 28 13 7 "
     ]
    }
   ],
   "source": [
    "lotto=[]\n",
    "i=1\n",
    "while i<46:\n",
    "    lotto.append(i)\n",
    "    i+=1\n",
    "print(lotto)\n",
    "print(len(lotto))\n",
    "\n",
    "num1=lotto.pop(11)\n",
    "print(num1)\n",
    "print(len(lotto))\n",
    "print(lotto)\n",
    "num2=lotto.pop(30)\n",
    "print(num2)\n",
    "print(len(lotto))\n",
    "print(lotto)\n",
    "\n",
    "# pop을 사용하면 뽑아왔기 때문에 크기가 1씩 줄어드는 것을 확인할 수 있다.\n",
    "\n",
    "\n",
    "import random\n",
    "\n",
    "lotto=[]\n",
    "i=1\n",
    "while i<=45:\n",
    "    lotto.append(i)\n",
    "    i+=1\n",
    "print(lotto)\n",
    "print(len(lotto))\n",
    "\n",
    "cnt=1\n",
    "listsize=len(lotto)\n",
    "while cnt<=6:\n",
    "    listsize-=1 # 44, 43, 42, 41, ... , 0\n",
    "    idx=random.randint(0,listsize) # index0부터 45전까지\n",
    "    num=lotto.pop(idx)\n",
    "    print(num, end=\" \") # 옆으로 출력\n",
    "    cnt+=1\n",
    "    "
   ]
  },
  {
   "cell_type": "code",
   "execution_count": null,
   "id": "39bbb92e",
   "metadata": {},
   "outputs": [],
   "source": [
    "\n",
    "\n",
    "\n",
    "\n",
    "\n",
    "\n",
    "\n",
    "\n",
    "\n",
    "\n",
    "\n",
    "\n",
    "\n",
    "\n",
    "\n",
    "\n",
    "\n",
    "\n",
    "\n",
    "\n",
    "\n",
    "\n",
    "\n",
    "\n",
    "\n",
    "\n",
    "\n",
    "\n",
    "\n"
   ]
  },
  {
   "cell_type": "code",
   "execution_count": 46,
   "id": "294fb4ee",
   "metadata": {},
   "outputs": [
    {
     "name": "stdout",
     "output_type": "stream",
     "text": [
      "7*1=7\n",
      "7*2=14\n",
      "7*3=21\n",
      "7*4=28\n",
      "7*5=35\n",
      "7*6=42\n",
      "7*7=49\n",
      "7*8=56\n",
      "7*9=63\n",
      "============================================================\n",
      "7*1=7\n",
      "7*2=14\n",
      "7*3=21\n",
      "7*4=28\n",
      "7*5=35\n",
      "7*6=42\n",
      "7*7=49\n",
      "7*8=56\n",
      "7*9=63\n",
      "9\n"
     ]
    }
   ],
   "source": [
    "# break \n",
    "\n",
    "i=1\n",
    "while True:\n",
    "    print(f\"7*{i}={7*i}\")\n",
    "    i+=1\n",
    "    if i==10:\n",
    "        break\n",
    "        \n",
    "print(\"==\"*30)\n",
    "        \n",
    "i=1\n",
    "while True:\n",
    "    print(f\"7*{i}={7*i}\")\n",
    "    if i==9:\n",
    "        break    # 더 이상 반복하지 않고 종료\n",
    "    i+=1         # break문을 만나면 다음 명령문은 실행되지 않는다. \n",
    "print(i)"
   ]
  },
  {
   "cell_type": "code",
   "execution_count": 61,
   "id": "6213292b",
   "metadata": {},
   "outputs": [
    {
     "name": "stdout",
     "output_type": "stream",
     "text": [
      "5050\n",
      "원하는 범위의 값을 입력하세요.\n",
      "시작 : 5\n",
      "끝 : 7\n",
      "18\n"
     ]
    }
   ],
   "source": [
    "#### 문제 : 1~100까지 합을 구할 때 while 문에는 True를 준다.\n",
    "\n",
    "i=1\n",
    "sum=0\n",
    "\n",
    "while True:\n",
    "    sum+=i\n",
    "    i+=1\n",
    "    if i>100:\n",
    "        break        \n",
    "print(sum)\n",
    "\n",
    "### 조건을 True로 주고 원하는 범위 값을 입력받아 합계를 출력하세요.\n",
    "\n",
    "print(\"원하는 범위의 값을 입력하세요.\")\n",
    "start=int(input(\"시작 : \"))\n",
    "end=int(input(\"끝 : \"))\n",
    "sum=0\n",
    "while True:\n",
    "    sum+=start\n",
    "    start+=1\n",
    "    if start>end:\n",
    "        break\n",
    "print(sum)"
   ]
  },
  {
   "cell_type": "code",
   "execution_count": 71,
   "id": "f48b8a8d",
   "metadata": {},
   "outputs": [
    {
     "name": "stdout",
     "output_type": "stream",
     "text": [
      "2\n",
      "4\n",
      "6\n",
      "8\n",
      "10\n",
      "1\n",
      "3\n",
      "5\n",
      "7\n",
      "9\n",
      "1\n",
      "3\n",
      "5\n",
      "7\n",
      "9\n"
     ]
    }
   ],
   "source": [
    "# continue\n",
    "# 1~10 중 짝수만 출력하세요.\n",
    "\n",
    "i=0\n",
    "while i<10:\n",
    "    i+=1\n",
    "    if i%2!=0:\n",
    "        continue # 아래를 더 이상 실행하지 않고 while문으로 올라가서 반복한다. \n",
    "    print(i)\n",
    "\n",
    "\n",
    "# 1~10 중 홀수만 출력하세요.\n",
    "\n",
    "i=0\n",
    "while i<10:\n",
    "    i+=1\n",
    "    if i%2==0:\n",
    "        continue\n",
    "    print(i)\n",
    "    \n",
    "# continue 안쓰면?\n",
    "\n",
    "i=0\n",
    "while i<10:\n",
    "    i+=1\n",
    "    if i%2!=0:\n",
    "        print(i)"
   ]
  },
  {
   "cell_type": "code",
   "execution_count": 90,
   "id": "8307e5b1",
   "metadata": {},
   "outputs": [
    {
     "name": "stdout",
     "output_type": "stream",
     "text": [
      "3*1=3\n",
      "3*2=6\n",
      "3*3=9\n",
      "3*4=12\n",
      "3*5=15\n",
      "3*6=18\n",
      "3*7=21\n",
      "3*8=24\n",
      "3*9=27\n",
      "4*1=4\n",
      "4*2=8\n",
      "4*3=12\n",
      "4*4=16\n",
      "4*5=20\n",
      "4*6=24\n",
      "4*7=28\n",
      "4*8=32\n",
      "4*9=36\n",
      "5*1=5\n",
      "5*2=10\n",
      "5*3=15\n",
      "5*4=20\n",
      "5*5=25\n",
      "5*6=30\n",
      "5*7=35\n",
      "5*8=40\n",
      "5*9=45\n",
      "1*1=1\n",
      "1*2=2\n",
      "1*3=3\n",
      "1*4=4\n",
      "1*5=5\n",
      "1*6=6\n",
      "1*7=7\n",
      "1*8=8\n",
      "1*9=9\n",
      "2*1=2\n",
      "2*2=4\n",
      "2*3=6\n",
      "2*4=8\n",
      "2*5=10\n",
      "2*6=12\n",
      "2*7=14\n",
      "2*8=16\n",
      "2*9=18\n",
      "3*1=3\n",
      "3*2=6\n",
      "3*3=9\n",
      "3*4=12\n",
      "3*5=15\n",
      "3*6=18\n",
      "3*7=21\n",
      "3*8=24\n",
      "3*9=27\n",
      "4*1=4\n",
      "4*2=8\n",
      "4*3=12\n",
      "4*4=16\n",
      "4*5=20\n",
      "4*6=24\n",
      "4*7=28\n",
      "4*8=32\n",
      "4*9=36\n",
      "5*1=5\n",
      "5*2=10\n",
      "5*3=15\n",
      "5*4=20\n",
      "5*5=25\n",
      "5*6=30\n",
      "5*7=35\n",
      "5*8=40\n",
      "5*9=45\n",
      "6*1=6\n",
      "6*2=12\n",
      "6*3=18\n",
      "6*4=24\n",
      "6*5=30\n",
      "6*6=36\n",
      "6*7=42\n",
      "6*8=48\n",
      "6*9=54\n",
      "7*1=7\n",
      "7*2=14\n",
      "7*3=21\n",
      "7*4=28\n",
      "7*5=35\n",
      "7*6=42\n",
      "7*7=49\n",
      "7*8=56\n",
      "7*9=63\n",
      "8*1=8\n",
      "8*2=16\n",
      "8*3=24\n",
      "8*4=32\n",
      "8*5=40\n",
      "8*6=48\n",
      "8*7=56\n",
      "8*8=64\n",
      "8*9=72\n",
      "9*1=9\n",
      "9*2=18\n",
      "9*3=27\n",
      "9*4=36\n",
      "9*5=45\n",
      "9*6=54\n",
      "9*7=63\n",
      "9*8=72\n",
      "9*9=81\n"
     ]
    }
   ],
   "source": [
    "# 3단, 4단, 5단 출력\n",
    "\n",
    "i=1\n",
    "while True:\n",
    "    print(\"3*%d=%d\"% (i,3*i))\n",
    "    i+=1\n",
    "    if i>9:\n",
    "        break\n",
    "        \n",
    "i=1\n",
    "while True:\n",
    "    print(f\"4*{i}={4*i}\")\n",
    "    i+=1\n",
    "    if i>9:\n",
    "        break\n",
    "        \n",
    "        \n",
    "i=1\n",
    "while True:\n",
    "    print(f\"5*{i}={5*i}\")\n",
    "    i+=1\n",
    "    if i>9:\n",
    "        break\n",
    "        \n",
    "\n",
    "# 반복적인 문법이 존재하면? 반복문 활용하기\n",
    "# 이중 반복문 \n",
    "\n",
    "dan=1\n",
    "while dan<=9:\n",
    "    i=1\n",
    "    while i<=9:\n",
    "        print(f\"{dan}*{i}={dan*i}\")\n",
    "        i+=1\n",
    "    dan +=1"
   ]
  },
  {
   "cell_type": "code",
   "execution_count": 92,
   "id": "fea7ae7f",
   "metadata": {},
   "outputs": [
    {
     "name": "stdout",
     "output_type": "stream",
     "text": [
      "2*1=2\n",
      "2*2=4\n",
      "2*3=6\n",
      "2*4=8\n",
      "2*5=10\n",
      "2*6=12\n",
      "2*7=14\n",
      "2*8=16\n",
      "2*9=18\n",
      "3*1=3\n",
      "3*2=6\n",
      "3*3=9\n",
      "3*4=12\n",
      "3*5=15\n",
      "3*6=18\n",
      "3*7=21\n",
      "3*8=24\n",
      "3*9=27\n",
      "4*1=4\n",
      "4*2=8\n",
      "4*3=12\n",
      "4*4=16\n",
      "4*5=20\n",
      "4*6=24\n",
      "4*7=28\n",
      "4*8=32\n",
      "4*9=36\n",
      "5*1=5\n",
      "5*2=10\n",
      "5*3=15\n",
      "5*4=20\n",
      "5*5=25\n",
      "5*6=30\n",
      "5*7=35\n",
      "5*8=40\n",
      "5*9=45\n"
     ]
    }
   ],
   "source": [
    "dan=2\n",
    "while dan<=5:\n",
    "    gop=1\n",
    "    while gop<=9:\n",
    "        print(f\"{dan}*{gop}={dan*gop}\")\n",
    "        gop+=1\n",
    "    dan+=1"
   ]
  },
  {
   "cell_type": "code",
   "execution_count": null,
   "id": "1a5b394c",
   "metadata": {},
   "outputs": [],
   "source": [
    "# 왜 틀렸쩡..\n",
    "# 초기값을 \"받고\" 변수로 따로 선언해주지 않으면 초기값은 변하지 않는다. \n",
    "\n",
    "\n",
    "s_dan=int(input(\"원하는 단의 시작을 입력하세요 : \"))\n",
    "e_dan=int(input(\"원하는 단의 끝을 입력하세요 : \"))\n",
    "\n",
    "s_gop=int(input(\"원하는 곱의 시작을 입력하세요 : \"))\n",
    "e_gop=int(input(\"원하는 곱의 끝을 입력하세요 : \"))\n",
    "\n",
    "while s_dan<=e_dan:\n",
    "    while s_gop<=e_gop:\n",
    "        print(f\"{s_dan}*{s_gop}={s_dan*s_gop}\")\n",
    "        s_gop+=1\n",
    "    s_dan+=1\n",
    "    "
   ]
  },
  {
   "cell_type": "code",
   "execution_count": null,
   "id": "2419d53a",
   "metadata": {},
   "outputs": [],
   "source": [
    "startDan=int(input(\"시작 단을 입력하세요 : \"))\n",
    "endDan=int(input(\"마지막 단을 입력하세요 : \"))\n",
    "startGop=int(input(\"시작 곱을 입력하세요 : \"))\n",
    "endGop=int(input(\"마지막 곱을 입력하세요 : \"))\n",
    "\n",
    "dan=startDan\n",
    "while dan<=endDan:\n",
    "    gop=startGop\n",
    "    while gop<=endGop:\n",
    "        print(f\"{dan}*{gop}={dan*gop}\")\n",
    "        gop+=1\n",
    "    dan+=1"
   ]
  },
  {
   "cell_type": "code",
   "execution_count": 106,
   "id": "3cfaed29",
   "metadata": {},
   "outputs": [
    {
     "name": "stdout",
     "output_type": "stream",
     "text": [
      "시작 단을 입력하세요 : 1\n",
      "마지막 단을 입력하세요 : 5\n",
      "시작 곱을 입력하세요 : 1\n",
      "마지막 곱을 입력하세요 : 4\n",
      "1*1=1\n",
      "1*2=2\n",
      "1*3=3\n",
      "1*4=4\n",
      "2*1=2\n",
      "2*2=4\n",
      "2*3=6\n",
      "2*4=8\n",
      "3*1=3\n",
      "3*2=6\n",
      "3*3=9\n",
      "3*4=12\n",
      "4*1=4\n",
      "4*2=8\n",
      "4*3=12\n",
      "4*4=16\n",
      "5*1=5\n",
      "5*2=10\n",
      "5*3=15\n",
      "5*4=20\n",
      "프로그램을 종료 하시려면 'Y'또는 'y'를 누르고 계속하려면 아무키나 눌러주세요.\n",
      "시작 단을 입력하세요 : 1\n",
      "마지막 단을 입력하세요 : 5\n",
      "시작 곱을 입력하세요 : 3\n",
      "마지막 곱을 입력하세요 : 6\n",
      "1*3=3\n",
      "1*4=4\n",
      "1*5=5\n",
      "1*6=6\n",
      "2*3=6\n",
      "2*4=8\n",
      "2*5=10\n",
      "2*6=12\n",
      "3*3=9\n",
      "3*4=12\n",
      "3*5=15\n",
      "3*6=18\n",
      "4*3=12\n",
      "4*4=16\n",
      "4*5=20\n",
      "4*6=24\n",
      "5*3=15\n",
      "5*4=20\n",
      "5*5=25\n",
      "5*6=30\n",
      "프로그램을 종료 하시려면 'Y'또는 'y'를 누르고 계속하려면 아무키나 눌러주세요.ㅛ\n",
      "시작 단을 입력하세요 : 1\n",
      "마지막 단을 입력하세요 : 3\n",
      "시작 곱을 입력하세요 : 1\n",
      "마지막 곱을 입력하세요 : 5\n",
      "1*1=1\n",
      "1*2=2\n",
      "1*3=3\n",
      "1*4=4\n",
      "1*5=5\n",
      "2*1=2\n",
      "2*2=4\n",
      "2*3=6\n",
      "2*4=8\n",
      "2*5=10\n",
      "3*1=3\n",
      "3*2=6\n",
      "3*3=9\n",
      "3*4=12\n",
      "3*5=15\n",
      "프로그램을 종료 하시려면 'Y'또는 'y'를 누르고 계속하려면 아무키나 눌러주세요.y\n",
      "구구단 프로그램을 종료합니다.\n"
     ]
    }
   ],
   "source": [
    "\n",
    "### 구구단\n",
    "\n",
    "\n",
    "\n",
    "while True:\n",
    "    startDan=int(input(\"시작 단을 입력하세요 : \"))\n",
    "    endDan=int(input(\"마지막 단을 입력하세요 : \"))\n",
    "    startGop=int(input(\"시작 곱을 입력하세요 : \"))\n",
    "    endGop=int(input(\"마지막 곱을 입력하세요 : \"))\n",
    "\n",
    "    dan=startDan\n",
    "    while dan<=endDan:\n",
    "        gop=startGop\n",
    "        while gop<=endGop:\n",
    "            print(f\"{dan}*{gop}={dan*gop}\")\n",
    "            gop+=1\n",
    "    stop=input(\"프로그램을 종료 하시려면 'Y'또는 'y'를 누르고 계속하려면 아무키나 눌러주세요.\")\n",
    "            dan+=1\n",
    "if stop=='Y' or stop=='y':\n",
    "        print(\"구구단 프로그램을 종료합니다.\")\n",
    "        break"
   ]
  },
  {
   "cell_type": "code",
   "execution_count": null,
   "id": "22006c57",
   "metadata": {},
   "outputs": [],
   "source": [
    "\n",
    "### 로또 \n",
    "\n",
    "import random\n",
    "\n",
    "\n",
    "lot=int(input(\"몇 장의 로또를 사시겠습니까? : \"))\n",
    "y=1\n",
    "\n",
    "while y<=lot:\n",
    "    lotto=[]\n",
    "    i=1\n",
    "    while i<=45:\n",
    "        lotto.append(i)\n",
    "        i+=1\n",
    "    cnt=1\n",
    "    while cnt<=6:\n",
    "        listsize=len(lotto)-1\n",
    "        idx=random.randint(0,listsize)\n",
    "        num=lotto.pop(idx)\n",
    "        print(num,end=\"  \")\n",
    "        cnt+=1\n",
    "    y+=1\n",
    "    print(\"\\n\")\n",
    "\n"
   ]
  },
  {
   "cell_type": "code",
   "execution_count": null,
   "id": "ab867c9e",
   "metadata": {},
   "outputs": [],
   "source": [
    "\n",
    "\n",
    "\n",
    "\n",
    "\n",
    "\n",
    "\n",
    "\n",
    "\n",
    "\n",
    "\n",
    "\n",
    "\n",
    "\n",
    "\n",
    "\n",
    "\n",
    "\n",
    "\n",
    "\n",
    "\n",
    "\n",
    "\n",
    "\n",
    "\n",
    "\n",
    "\n",
    "\n",
    "\n"
   ]
  },
  {
   "cell_type": "code",
   "execution_count": 126,
   "id": "f295d99a",
   "metadata": {},
   "outputs": [
    {
     "name": "stdout",
     "output_type": "stream",
     "text": [
      "2550\n",
      "2550\n",
      "2550\n",
      "1683\n"
     ]
    }
   ],
   "source": [
    "### continue, break\n",
    "# 1~100까지의 수중 짝수만 더하세요. (continue 사용)\n",
    "\n",
    "i=0\n",
    "sum=0\n",
    "while i<100:\n",
    "    i+=1\n",
    "    if i%2==0:\n",
    "        sum+=i\n",
    "#    else:\n",
    "#        continue                # 이렇게 할거면 continue 쓰는 의미가 없다 .\n",
    "print(sum)\n",
    "        \n",
    "    \n",
    "    \n",
    "    \n",
    "i=0\n",
    "sum=0\n",
    "while i<100:\n",
    "    i+=1\n",
    "    if i%2!=0:\n",
    "        continue\n",
    "    sum+=i\n",
    "print(sum)\n",
    "\n",
    "\n",
    "\n",
    "\n",
    "i=0\n",
    "sum=0\n",
    "while True:\n",
    "    i+=1\n",
    "    if i>100:\n",
    "        break\n",
    "    if i%2!=0:\n",
    "        continue\n",
    "    sum+=i\n",
    "print(sum)\n",
    "\n",
    "\n",
    "\n",
    "\n",
    "\n",
    "### 1~100까지 수중 3의 배수의 합을 구하시오. continue 사용\n",
    "\n",
    "i=0\n",
    "sum=0\n",
    "while i<100:\n",
    "    i+=1\n",
    "    if i%3!=0:\n",
    "        continue\n",
    "    sum+=i\n",
    "print(sum)\n",
    "    "
   ]
  },
  {
   "cell_type": "code",
   "execution_count": null,
   "id": "206d9d20",
   "metadata": {},
   "outputs": [
    {
     "name": "stdout",
     "output_type": "stream",
     "text": [
      "22*6의 값을 구하세요 : 18\n",
      "틀렸습니다. 다시푸세요.\n",
      "22*6의 값을 구하세요 : 58\n",
      "틀렸습니다. 다시푸세요.\n",
      "22*6의 값을 구하세요 : 132\n",
      "맞았습니다.\n",
      "다음 문제를 푸시겠습니까? 멈추시려면 'N'를, 계속 하려면 아무키나 눌러주세요. \n"
     ]
    }
   ],
   "source": [
    "### 랜덤값 두개를 받아 곱하기 한 값이 맞으면 다음문제, 틀리면 다시 푸는 프로그램 작성\n",
    "\n",
    "import random\n",
    "\n",
    "while True:\n",
    "    a=random.randint(0,100)\n",
    "    b=random.randint(0,100)\n",
    "    while True: \n",
    "        sol=int(input(f\"{a}*{b}의 값을 구하세요 : \"))\n",
    "        if sol!=a*b:\n",
    "            print(\"틀렸습니다. 다시푸세요.\")\n",
    "            continue\n",
    "        else:\n",
    "            print(\"맞았습니다.\")\n",
    "            break\n",
    "    stop=input(\"다음 문제를 푸시겠습니까? 멈추시려면 'N'를, 계속 하려면 아무키나 눌러주세요. \")\n",
    "    if stop=='N':\n",
    "        print(\"프로그램을 종료합니다.\")\n",
    "        break\n",
    "    \n"
   ]
  },
  {
   "cell_type": "code",
   "execution_count": null,
   "id": "5431782b",
   "metadata": {},
   "outputs": [],
   "source": []
  },
  {
   "cell_type": "code",
   "execution_count": null,
   "id": "f82c8e42",
   "metadata": {},
   "outputs": [],
   "source": []
  }
 ],
 "metadata": {
  "kernelspec": {
   "display_name": "Python 3 (ipykernel)",
   "language": "python",
   "name": "python3"
  },
  "language_info": {
   "codemirror_mode": {
    "name": "ipython",
    "version": 3
   },
   "file_extension": ".py",
   "mimetype": "text/x-python",
   "name": "python",
   "nbconvert_exporter": "python",
   "pygments_lexer": "ipython3",
   "version": "3.8.12"
  }
 },
 "nbformat": 4,
 "nbformat_minor": 5
}
