{
 "cells": [
  {
   "cell_type": "code",
   "execution_count": 7,
   "id": "b5a1b7f0",
   "metadata": {},
   "outputs": [
    {
     "name": "stdout",
     "output_type": "stream",
     "text": [
      "15\n",
      "============================================================\n",
      "15\n",
      "============================================================\n",
      "1\n",
      "45\n",
      "76\n",
      "30\n",
      "152\n"
     ]
    }
   ],
   "source": [
    "# for문\n",
    "# while문을 사용하면 인덱스를 이용해서 갖고오므로\n",
    "# 인덱스 값을 하나씩 증가시켜야하지만\n",
    "# for문을 이용하면 인덱스 값을 증가시킬 필요가 없다. \n",
    "# 그래서 \"리스트, 튜플\"은 for문을 이용하여 반복문을 실행하는 것이 편하다. \n",
    "\n",
    "sum=0\n",
    "for j in[1,2,3,4,5]:\n",
    "    sum+=j # 1,2,3,4,5를 순서대로 갖고온다.\n",
    "print(sum)\n",
    "\n",
    "print(\"==\"*30)\n",
    "\n",
    "l=[1,2,3,4,5]\n",
    "sum=0\n",
    "for j in l:\n",
    "    sum+=j\n",
    "print(sum)\n",
    "\n",
    "print(\"==\"*30)\n",
    "\n",
    "t=(1,45,76,30)\n",
    "sum=0\n",
    "for j in t:\n",
    "    print(j) # t에 있는 갑을 하나씩 출력\n",
    "    sum+=j\n",
    "print(sum)"
   ]
  },
  {
   "cell_type": "code",
   "execution_count": 18,
   "id": "c893b84c",
   "metadata": {},
   "outputs": [
    {
     "name": "stdout",
     "output_type": "stream",
     "text": [
      "75.375\n",
      "============================================================\n",
      "0번째 학생은 80점입니다.\n",
      "1번째 학생은 88점입니다.\n",
      "2번째 학생은 90점입니다.\n",
      "3번째 학생은 95점입니다.\n",
      "============================================================\n",
      "5050\n",
      "============================================================\n",
      "5050\n"
     ]
    }
   ],
   "source": [
    "l=[70,65,50,80,88,90,95,65]\n",
    "# 리스트 값의 평균을 구하세요.\n",
    "sum=0\n",
    "for j in l:\n",
    "    sum+=j\n",
    "print(sum/len(l))\n",
    "\n",
    "print(\"==\"*30)\n",
    "\n",
    "## 80점 이상인 학생을 출력할 때 몇 번째 학생인지 같이 출력하세요.\n",
    "# (예시) 4번째 학생은 80점 입니다. \n",
    "\n",
    "i=0\n",
    "for j in l:\n",
    "    if j>=80:\n",
    "        print(f\"{i}번째 학생은 {j}점입니다.\")\n",
    "        i+=1\n",
    "\n",
    "\n",
    "print(\"==\"*30)\n",
    "        \n",
    "## 1~100까지의 합을 구하세요.\n",
    "i=1\n",
    "sum=0\n",
    "while i<=100:\n",
    "    sum+=i\n",
    "    i+=1\n",
    "print(sum)\n",
    "\n",
    "print(\"==\"*30)\n",
    "\n",
    "i=1\n",
    "sum=0\n",
    "for j in range(1,101):\n",
    "    sum+=j\n",
    "print(sum)"
   ]
  },
  {
   "cell_type": "code",
   "execution_count": 2,
   "id": "426ec542",
   "metadata": {},
   "outputs": [
    {
     "name": "stdout",
     "output_type": "stream",
     "text": [
      "시작 값: 1\n",
      "끝 값: 10\n",
      "55\n",
      "============================================================\n",
      "시작 값: 1\n",
      "끝 값: 10\n",
      "30\n"
     ]
    }
   ],
   "source": [
    "# for문을 이용해서 원하는 범위의 값을 입력받아 더하시오.\n",
    "\n",
    "\n",
    "start=int(input(\"시작 값: \"))\n",
    "end=int(input(\"끝 값: \"))\n",
    "sum=0\n",
    "for j in range(start,end+1):\n",
    "    sum+=j\n",
    "    j+=1\n",
    "print(sum)\n",
    "\n",
    "print(\"==\"*30)\n",
    "\n",
    "# 짝수만 더하시오 \n",
    "    \n",
    "start=int(input(\"시작 값: \"))\n",
    "end=int(input(\"끝 값: \"))\n",
    "sum=0\n",
    "for j in range(start,end+1):\n",
    "    if j%2==0:\n",
    "        sum+=j\n",
    "    j+=1\n",
    "print(sum)\n"
   ]
  },
  {
   "cell_type": "code",
   "execution_count": 8,
   "id": "cabc81a0",
   "metadata": {},
   "outputs": [
    {
     "name": "stdout",
     "output_type": "stream",
     "text": [
      "(1, 2)\n",
      "(3, 4)\n",
      "(5, 6)\n",
      "============================================================\n",
      "1 2 3\n",
      "3 4 7\n",
      "5 6 11\n",
      "============================================================\n",
      "1 2 3 6\n",
      "4 5 6 15\n",
      "7 8 9 24\n"
     ]
    }
   ],
   "source": [
    "# 리스트 안에 있는 튜플의 값을 갖고오고 싶다면? \n",
    "\n",
    "l=[(1,2),(3,4),(5,6)]\n",
    "for j in l:\n",
    "    print(j)\n",
    "\n",
    "print(\"==\"*30)\n",
    "\n",
    "for (a,b) in l:\n",
    "    print(a,b,a+b)\n",
    "    \n",
    "    \n",
    "print(\"==\"*30)\n",
    "\n",
    "\n",
    "l=[(1,2,3),(4,5,6),(7,8,9)]\n",
    "for (a,b,c) in l:\n",
    "    print(a,b,c,a+b+c)\n",
    "    \n",
    "\n",
    "# 튜플의 개수가 틀린다면? -> 오류난다. \n",
    "# 즉, 튜플 안에 있는 요소의 개수가 같아야한다. \n"
   ]
  },
  {
   "cell_type": "code",
   "execution_count": 15,
   "id": "d9a15035",
   "metadata": {},
   "outputs": [
    {
     "name": "stdout",
     "output_type": "stream",
     "text": [
      "1683\n",
      "============================================================\n",
      "[1, 2, 3, 4, 5, 6, 7, 8, 9, 10, 11, 12, 13, 14, 15, 16, 17, 18, 19, 20, 21, 22, 23, 24, 25, 26, 27, 28, 29, 30, 31, 32, 33, 34, 35, 36, 37, 38, 39, 40, 41, 42, 43, 44, 45]\n",
      "23 19 5 30 7 34 "
     ]
    }
   ],
   "source": [
    "# 1~100까지의 수중 3의 배수만 더하세요.\n",
    "\n",
    "sum=0\n",
    "for j in range(1,101):\n",
    "    if j%3==0:\n",
    "        sum+=j\n",
    "    j+=1\n",
    "print(sum)\n",
    "\n",
    "print(\"==\"*30)\n",
    "\n",
    "# 1~45까지의 수를 lotto라는 list에 담으세요. for\n",
    "\n",
    "import random\n",
    "\n",
    "lotto=[]\n",
    "for j in range(1,46):\n",
    "    lotto.append(j)\n",
    "print(lotto)\n",
    "for cnt in range(1,7):\n",
    "    index=random.randint(0,len(lotto)-1)\n",
    "    num=lotto.pop(index)\n",
    "    print(num,end=\" \")\n",
    "\n",
    "\n",
    "    "
   ]
  },
  {
   "cell_type": "code",
   "execution_count": 187,
   "id": "0da661a4",
   "metadata": {},
   "outputs": [
    {
     "name": "stdout",
     "output_type": "stream",
     "text": [
      "[1, 2, 3, 4, 5, 6, 7, 8, 9, 10, 11, 12, 13, 14, 15, 16, 17, 18, 19, 20, 21, 22, 23, 24, 25, 26, 27, 28, 29, 30, 31, 32, 33, 34, 35, 36, 37, 38, 39, 40, 41, 42, 43, 44, 45]\n",
      "24, 43, 10, 35, 39, 12, "
     ]
    }
   ],
   "source": [
    " # 1~45까지의 수를 lotto라는 list에 담으세요. while\n",
    "\n",
    "    \n",
    "lotto=[]\n",
    "i=1\n",
    "while i<=45:\n",
    "    lotto.append(i)\n",
    "    i+=1\n",
    "print(lotto)\n",
    "cnt=1\n",
    "while cnt<=6:\n",
    "    index=random.randint(0,len(lotto)-1)\n",
    "    num=lotto.pop(index)\n",
    "    print(num,end=\", \")\n",
    "    cnt+=1\n"
   ]
  },
  {
   "cell_type": "code",
   "execution_count": 22,
   "id": "9fcd102c",
   "metadata": {},
   "outputs": [
    {
     "name": "stdout",
     "output_type": "stream",
     "text": [
      "6*1=6\n",
      "6*2=12\n",
      "6*3=18\n",
      "6*4=24\n",
      "6*5=30\n",
      "6*6=36\n",
      "6*7=42\n",
      "6*8=48\n",
      "6*9=54\n",
      "7*1=7\n",
      "7*2=14\n",
      "7*3=21\n",
      "7*4=28\n",
      "7*5=35\n",
      "7*6=42\n",
      "7*7=49\n",
      "7*8=56\n",
      "7*9=63\n",
      "8*1=8\n",
      "8*2=16\n",
      "8*3=24\n",
      "8*4=32\n",
      "8*5=40\n",
      "8*6=48\n",
      "8*7=56\n",
      "8*8=64\n",
      "8*9=72\n",
      "============================================================\n",
      "6*1=6\n",
      "6*2=12\n",
      "6*3=18\n",
      "6*4=24\n",
      "6*5=30\n",
      "6*6=36\n",
      "6*7=42\n",
      "6*8=48\n",
      "6*9=54\n",
      "7*1=7\n",
      "7*2=14\n",
      "7*3=21\n",
      "7*4=28\n",
      "7*5=35\n",
      "7*6=42\n",
      "7*7=49\n",
      "7*8=56\n",
      "7*9=63\n",
      "8*1=8\n",
      "8*2=16\n",
      "8*3=24\n",
      "8*4=32\n",
      "8*5=40\n",
      "8*6=48\n",
      "8*7=56\n",
      "8*8=64\n",
      "8*9=72\n"
     ]
    }
   ],
   "source": [
    "### 6단을 출력하세요. for\n",
    "\n",
    "for j in range(1,10):\n",
    "    print(f\"6*{j}={6*j}\")\n",
    "    \n",
    "### 7단을 출력하세요. for\n",
    "\n",
    "for j in range(1,10):\n",
    "    print(f\"7*{j}={7*j}\")\n",
    "    \n",
    "### 8단을 출력하세요. for\n",
    "\n",
    "for j in range(1,10):\n",
    "    print(f\"8*{j}={8*j}\")\n",
    "    \n",
    "    \n",
    "    \n",
    "print(\"==\"*30)\n",
    "\n",
    "\n",
    "\n",
    "    \n",
    "### 6~8단 구구단 출력 for \n",
    "\n",
    "for dan in range(6,9):\n",
    "    for j in range(1,10):\n",
    "        print(f\"{dan}*{j}={dan*j}\")\n",
    "    "
   ]
  },
  {
   "cell_type": "code",
   "execution_count": 179,
   "id": "bd156828",
   "metadata": {},
   "outputs": [
    {
     "name": "stdout",
     "output_type": "stream",
     "text": [
      "단의 시작 : 1\n",
      "단의 끝: 5\n",
      "곱의 시작 : 1\n",
      "곱의 시작 : 5\n",
      "1*1=1\n",
      "1*2=2\n",
      "1*3=3\n",
      "1*4=4\n",
      "1*5=5\n",
      "2*1=2\n",
      "2*2=4\n",
      "2*3=6\n",
      "2*4=8\n",
      "2*5=10\n",
      "3*1=3\n",
      "3*2=6\n",
      "3*3=9\n",
      "3*4=12\n",
      "3*5=15\n",
      "4*1=4\n",
      "4*2=8\n",
      "4*3=12\n",
      "4*4=16\n",
      "4*5=20\n",
      "5*1=5\n",
      "5*2=10\n",
      "5*3=15\n",
      "5*4=20\n",
      "5*5=25\n"
     ]
    }
   ],
   "source": [
    "### 단과 곱의 범위를 입력받아서 출력하세요. for\n",
    "\n",
    "\n",
    "s_dan=int(input(\"단의 시작 : \"))\n",
    "e_dan=int(input(\"단의 끝: \"))\n",
    "s_gop=int(input(\"곱의 시작 : \"))\n",
    "e_gop=int(input(\"곱의 시작 : \"))\n",
    "\n",
    "for dan in range(s_dan,e_dan+1):\n",
    "    for gop in range(s_gop,e_gop+1):\n",
    "        print(f\"{dan}*{gop}={dan*gop}\")\n",
    "        \n",
    "        \n",
    "        "
   ]
  },
  {
   "cell_type": "code",
   "execution_count": 38,
   "id": "2e38ba03",
   "metadata": {},
   "outputs": [
    {
     "name": "stdout",
     "output_type": "stream",
     "text": [
      "시작 숫자를 입력하세요. : 10\n",
      "마지막 숫자를 입력하세요. : 100\n",
      "10\n",
      "15\n",
      "20\n",
      "25\n",
      "30\n",
      "35\n",
      "40\n",
      "45\n",
      "50\n",
      "55\n",
      "60\n",
      "65\n",
      "70\n",
      "75\n",
      "80\n",
      "85\n",
      "90\n",
      "95\n",
      "100\n",
      "1045\n",
      "시작 숫자를 입력하세요. : 10\n",
      "마지막 숫자를 입력하세요. : 100\n",
      "10\n",
      "15\n",
      "20\n",
      "25\n",
      "30\n",
      "35\n",
      "40\n",
      "45\n",
      "50\n",
      "55\n",
      "60\n",
      "65\n",
      "70\n",
      "75\n",
      "80\n",
      "85\n",
      "90\n",
      "95\n",
      "100\n",
      "1045\n"
     ]
    }
   ],
   "source": [
    "# 범위를 입력받아 5의 배수만 출력하세요. 마지막에 합계를 구하세요.\n",
    "\n",
    "start=int(input(\"시작 숫자를 입력하세요. : \"))\n",
    "end=int(input(\"마지막 숫자를 입력하세요. : \"))\n",
    "sum=0\n",
    "for i in range(start,end+1):\n",
    "    if i%5==0:\n",
    "        print(i)\n",
    "        sum+=i\n",
    "print(sum)        \n",
    "\n",
    "start=int(input(\"시작 숫자를 입력하세요. : \"))\n",
    "end=int(input(\"마지막 숫자를 입력하세요. : \"))\n",
    "sum=0\n",
    "for i in range(start,end+1):\n",
    "    if i%5!=0:\n",
    "        continue\n",
    "        print(i) #1 실행되지 않는다. 왜? continue로 인해 올라가버림 \n",
    "    print(i) #2\n",
    "    sum+=i\n",
    "print(sum)\n"
   ]
  },
  {
   "cell_type": "code",
   "execution_count": null,
   "id": "3247f479",
   "metadata": {},
   "outputs": [],
   "source": [
    " \n",
    "    \n",
    "    \n",
    "    \n",
    "    \n",
    "    \n",
    "    \n",
    "    \n",
    "    \n",
    "    \n",
    "    \n",
    "    \n",
    "    \n",
    "    \n",
    "    \n",
    "    \n",
    "    \n",
    "    \n",
    "    \n",
    "    \n",
    "    \n",
    "    \n",
    "    \n",
    "    \n",
    "    \n",
    "    \n",
    "    \n",
    "    \n",
    "    \n",
    "\n",
    "    "
   ]
  },
  {
   "cell_type": "code",
   "execution_count": 41,
   "id": "4af7c48e",
   "metadata": {},
   "outputs": [
    {
     "name": "stdout",
     "output_type": "stream",
     "text": [
      "[3, 6, 9, 12, 15]\n",
      "[3, 6, 9, 12, 15]\n"
     ]
    }
   ],
   "source": [
    "# a리스트에 있는 값을 result라는 리스트에 곱하기 3한 값을 저장하세요.\n",
    "\n",
    "a=[1,2,3,4,5]\n",
    "result=[]\n",
    "\n",
    "for i in a:\n",
    "    result.append(i*3)\n",
    "print(result)\n",
    "\n",
    "result=[i*3 for i in a]\n",
    "print(result)"
   ]
  },
  {
   "cell_type": "code",
   "execution_count": 47,
   "id": "54df8f74",
   "metadata": {},
   "outputs": [
    {
     "name": "stdout",
     "output_type": "stream",
     "text": [
      "[3, 9, 15]\n",
      "[3, 9, 15]\n"
     ]
    }
   ],
   "source": [
    "# 홀수만 저장 (3 곱해서 )\n",
    "\n",
    "a=[1,2,3,4,5]\n",
    "result=[]\n",
    "for i in a:\n",
    "    if i%2!=0:\n",
    "        result.append(i*3)\n",
    "print(result)\n",
    "\n",
    "result=[i*3 for i in a if i%2!=0]\n",
    "print(result)"
   ]
  },
  {
   "cell_type": "code",
   "execution_count": 56,
   "id": "61466ab0",
   "metadata": {},
   "outputs": [
    {
     "name": "stdout",
     "output_type": "stream",
     "text": [
      "[1, 2, 3, 4, 5, 6, 7, 8, 9, 2, 4, 6, 8, 10, 12, 14, 16, 18, 3, 6, 9, 12, 15, 18, 21, 24, 27, 4, 8, 12, 16, 20, 24, 28, 32, 36, 5, 10, 15, 20, 25, 30, 35, 40, 45, 6, 12, 18, 24, 30, 36, 42, 48, 54, 7, 14, 21, 28, 35, 42, 49, 56, 63, 8, 16, 24, 32, 40, 48, 56, 64, 72, 9, 18, 27, 36, 45, 54, 63, 72, 81]\n",
      "[1, 2, 3, 4, 5, 6, 7, 8, 9, 2, 4, 6, 8, 10, 12, 14, 16, 18, 3, 6, 9, 12, 15, 18, 21, 24, 27, 4, 8, 12, 16, 20, 24, 28, 32, 36, 5, 10, 15, 20, 25, 30, 35, 40, 45, 6, 12, 18, 24, 30, 36, 42, 48, 54, 7, 14, 21, 28, 35, 42, 49, 56, 63, 8, 16, 24, 32, 40, 48, 56, 64, 72, 9, 18, 27, 36, 45, 54, 63, 72, 81]\n",
      "============================================================\n",
      "[2, 6, 10, 14, 18, 4, 12, 20, 28, 36, 6, 18, 30, 42, 54, 8, 24, 40, 56, 72]\n",
      "[2, 6, 10, 14, 18, 4, 12, 20, 28, 36, 6, 18, 30, 42, 54, 8, 24, 40, 56, 72]\n",
      "[2, 6, 10, 14, 18, 4, 12, 20, 28, 36, 6, 18, 30, 42, 54, 8, 24, 40, 56, 72]\n"
     ]
    }
   ],
   "source": [
    "# result 라는 리스트에 구구단의 값을 저장하세요.\n",
    "\n",
    "result=[]\n",
    "for dan in range(1,10):\n",
    "    for gop in range(1,10):\n",
    "        result.append(dan*gop)\n",
    "print(result)\n",
    "\n",
    "result=[dan*gop for dan in range(1,10) for gop in range(1,10)]\n",
    "print(result)\n",
    "\n",
    "print(\"==\"*30)\n",
    "\n",
    "### 구구단 중 짝수단과 홀수 곱만 곱한 값을 result에 저장\n",
    "\n",
    "result=[]\n",
    "for dan in range(1,10):\n",
    "    if dan%2==0:\n",
    "        for gop in range(1,10):\n",
    "            if gop%2!=0:\n",
    "                result.append(dan*gop)\n",
    "print(result)\n",
    "\n",
    "\n",
    "## 리스트를 내포하는 방식 \n",
    "\n",
    "result=[dan*gop for dan in range(1,10) for gop in range(1,10)\n",
    "        if dan%2==0 and gop%2!=0]\n",
    "print(result)\n",
    "\n",
    "\n",
    "result=[dan*gop for dan in range(1,10) if dan%2==0\n",
    "                for gop in range(1,10) if gop%2!=0]\n",
    "print(result)"
   ]
  },
  {
   "cell_type": "code",
   "execution_count": null,
   "id": "52a2da9e",
   "metadata": {},
   "outputs": [],
   "source": [
    "\n",
    "\n",
    "\n",
    "\n",
    "\n",
    "\n",
    "\n",
    "\n",
    "\n",
    "\n",
    "\n",
    "\n",
    "\n",
    "\n",
    "\n",
    "\n",
    "\n",
    "\n",
    "\n",
    "\n",
    "\n",
    "\n",
    "\n",
    "\n",
    "\n",
    "\n",
    "\n",
    "\n",
    "\n"
   ]
  },
  {
   "cell_type": "code",
   "execution_count": 57,
   "id": "49712f71",
   "metadata": {},
   "outputs": [],
   "source": [
    "# 제어문 : 조건문 : if, if~else, if,~elif,.... ~ else\n",
    "#                   switch ~ cacs : 딕셔너리\n",
    "#                   반복문 : while, for, ※리스트 내포하는 방식※\n"
   ]
  },
  {
   "cell_type": "code",
   "execution_count": 68,
   "id": "f06310dc",
   "metadata": {},
   "outputs": [
    {
     "name": "stdout",
     "output_type": "stream",
     "text": [
      "3*1=3\n",
      "3*2=6\n",
      "3*3=9\n",
      "3*4=12\n",
      "3*5=15\n",
      "3*6=18\n",
      "3*7=21\n",
      "3*8=24\n",
      "3*9=27\n",
      "============================================================\n",
      "3*1=3\n",
      "3*2=6\n",
      "3*3=9\n",
      "3*4=12\n",
      "3*5=15\n",
      "3*6=18\n",
      "3*7=21\n",
      "3*8=24\n",
      "3*9=27\n",
      "============================================================\n",
      "1*1=1\n",
      "1*2=2\n",
      "1*3=3\n",
      "1*4=4\n",
      "1*5=5\n",
      "1*6=6\n",
      "1*7=7\n",
      "1*8=8\n",
      "1*9=9\n",
      "2*1=2\n",
      "2*2=4\n",
      "2*3=6\n",
      "2*4=8\n",
      "2*5=10\n",
      "2*6=12\n",
      "2*7=14\n",
      "2*8=16\n",
      "2*9=18\n",
      "3*1=3\n",
      "3*2=6\n",
      "3*3=9\n",
      "3*4=12\n",
      "3*5=15\n",
      "3*6=18\n",
      "3*7=21\n",
      "3*8=24\n",
      "3*9=27\n",
      "4*1=4\n",
      "4*2=8\n",
      "4*3=12\n",
      "4*4=16\n",
      "4*5=20\n",
      "4*6=24\n",
      "4*7=28\n",
      "4*8=32\n",
      "4*9=36\n",
      "5*1=5\n",
      "5*2=10\n",
      "5*3=15\n",
      "5*4=20\n",
      "5*5=25\n",
      "5*6=30\n",
      "5*7=35\n",
      "5*8=40\n",
      "5*9=45\n",
      "6*1=6\n",
      "6*2=12\n",
      "6*3=18\n",
      "6*4=24\n",
      "6*5=30\n",
      "6*6=36\n",
      "6*7=42\n",
      "6*8=48\n",
      "6*9=54\n",
      "7*1=7\n",
      "7*2=14\n",
      "7*3=21\n",
      "7*4=28\n",
      "7*5=35\n",
      "7*6=42\n",
      "7*7=49\n",
      "7*8=56\n",
      "7*9=63\n",
      "8*1=8\n",
      "8*2=16\n",
      "8*3=24\n",
      "8*4=32\n",
      "8*5=40\n",
      "8*6=48\n",
      "8*7=56\n",
      "8*8=64\n",
      "8*9=72\n",
      "9*1=9\n",
      "9*2=18\n",
      "9*3=27\n",
      "9*4=36\n",
      "9*5=45\n",
      "9*6=54\n",
      "9*7=63\n",
      "9*8=72\n",
      "9*9=81\n"
     ]
    }
   ],
   "source": [
    "# 함수 : 코드가 반복적일 때 미리 정의한 후 필요할 때마다 가져와서 실행 가능 \n",
    "# 3단 출력 \n",
    "for gop in range(1,10):\n",
    "    print(f\"3*{gop}={3*gop}\")\n",
    "# 4,5,6...단 출력할 경우 반복문 사용 \n",
    "\n",
    "print(\"==\"*30)\n",
    "\n",
    "def gugu3():\n",
    "    for gop in range(1,10):\n",
    "        print(f\"3*{gop}={3*gop}\")\n",
    "gugu3()\n",
    "\n",
    "\n",
    "\n",
    "print(\"==\"*30)\n",
    "\n",
    "# 구구단 전체 출력\n",
    "def gugu():\n",
    "    for dan in range(1,10):\n",
    "        for gop in range(1,10):\n",
    "            print(f\"{dan}*{gop}={dan*gop}\")\n",
    "gugu()\n",
    "\n"
   ]
  },
  {
   "cell_type": "code",
   "execution_count": 70,
   "id": "ec7e4736",
   "metadata": {},
   "outputs": [
    {
     "name": "stdout",
     "output_type": "stream",
     "text": [
      "2*1=2\n",
      "2*2=4\n",
      "2*3=6\n",
      "2*4=8\n",
      "2*5=10\n",
      "2*6=12\n",
      "2*7=14\n",
      "2*8=16\n",
      "2*9=18\n",
      "7*1=7\n",
      "7*2=14\n",
      "7*3=21\n",
      "7*4=28\n",
      "7*5=35\n",
      "7*6=42\n",
      "7*7=49\n",
      "7*8=56\n",
      "7*9=63\n"
     ]
    }
   ],
   "source": [
    "# 원하는 단만 출력 \n",
    "\n",
    "\n",
    "def gugu(dan):    # 매개변수 : parameter(para), 가인자 (실제로 값을 갖고있지 않음.)\n",
    "    for gop in range(1,10):\n",
    "        print(f\"{dan}*{gop}={dan*gop}\")\n",
    "\n",
    "gugu(2)    # 인자 : argument (arg), 실인자 (실제로 값을 갖고 있음)\n",
    "gugu(7)\n",
    "\n",
    "#gugu3(3)  # 매가변수(para)가 없는 경우에는 인수(arg)를 주면 안된다. \n",
    "#gugu()    # 매개변수(para)가 있느 경우에는 인수(arg)를 무조건 줘야 한다. "
   ]
  },
  {
   "cell_type": "code",
   "execution_count": 75,
   "id": "3ff8dbdc",
   "metadata": {},
   "outputs": [
    {
     "name": "stdout",
     "output_type": "stream",
     "text": [
      "3*4=12\n",
      "3*5=15\n",
      "3*6=18\n",
      "============================================================\n",
      "3*1=3\n",
      "3*2=6\n",
      "3*3=9\n",
      "3*4=12\n",
      "3*5=15\n",
      "3*6=18\n"
     ]
    }
   ],
   "source": [
    "# 3단에서 4~6곱 까지 출력\n",
    "\n",
    "for gop in range(4,7):\n",
    "    print(f\"3*{gop}={3*gop}\")\n",
    "\n",
    "\n",
    "print(\"==\"*30)\n",
    "\n",
    "\n",
    "# 함수를 활용한다면?\n",
    "def gugu_3(start,end):\n",
    "    for gop in range(start,end+1):\n",
    "        print(f\"3*{gop}={3*gop}\")\n",
    "        \n",
    "# 3단을 1~6곱까지 출력\n",
    "gugu_3(1,6)"
   ]
  },
  {
   "cell_type": "code",
   "execution_count": 78,
   "id": "d7a6d1c5",
   "metadata": {},
   "outputs": [
    {
     "name": "stdout",
     "output_type": "stream",
     "text": [
      "3\n",
      "7\n"
     ]
    }
   ],
   "source": [
    "def add(a,b):\n",
    "    print(a+b)\n",
    "    \n",
    "add(1,2)\n",
    "add(3,4)"
   ]
  },
  {
   "cell_type": "code",
   "execution_count": 81,
   "id": "772c9205",
   "metadata": {},
   "outputs": [
    {
     "name": "stdout",
     "output_type": "stream",
     "text": [
      "9\n"
     ]
    }
   ],
   "source": [
    "def add(a,b):\n",
    "    return a+b\n",
    "\n",
    "print(add(4,5))\n"
   ]
  },
  {
   "cell_type": "code",
   "execution_count": 232,
   "id": "916647d2",
   "metadata": {},
   "outputs": [
    {
     "name": "stdout",
     "output_type": "stream",
     "text": [
      "4*1=4\n",
      "4*2=8\n",
      "4*3=12\n",
      "4*4=16\n",
      "4*5=20\n",
      "4*6=24\n",
      "4*7=28\n",
      "4*8=32\n",
      "4*9=36\n",
      "5*1=5\n",
      "5*2=10\n",
      "5*3=15\n",
      "5*4=20\n",
      "5*5=25\n",
      "5*6=30\n",
      "5*7=35\n",
      "5*8=40\n",
      "5*9=45\n",
      "============================================================\n",
      "4*1=4\n",
      "4*2=8\n",
      "4*3=12\n",
      "4*4=16\n",
      "4*5=20\n",
      "4*6=24\n",
      "4*7=28\n",
      "4*8=32\n",
      "4*9=36\n",
      "5*1=5\n",
      "5*2=10\n",
      "5*3=15\n",
      "5*4=20\n",
      "5*5=25\n",
      "5*6=30\n",
      "5*7=35\n",
      "5*8=40\n",
      "5*9=45\n"
     ]
    }
   ],
   "source": [
    "gugu(4)\n",
    "gugu(5)\n",
    "\n",
    "print(\"==\"*30)\n",
    "# 반복적이네?\n",
    "\n",
    "for i in range(4,6):\n",
    "    gugu(i)\n",
    "    \n",
    "# for문에도 함수를 넣어서 사용할 수 있다. "
   ]
  },
  {
   "cell_type": "code",
   "execution_count": null,
   "id": "fd2d3672",
   "metadata": {},
   "outputs": [],
   "source": [
    "\n",
    "\n",
    "\n",
    "\n",
    "\n",
    "\n",
    "\n",
    "\n",
    "\n",
    "\n",
    "\n",
    "\n",
    "\n",
    "\n",
    "\n",
    "\n",
    "\n",
    "\n",
    "\n",
    "\n",
    "\n",
    "\n",
    "\n",
    "\n",
    "\n",
    "\n",
    "\n",
    "\n",
    "\n"
   ]
  },
  {
   "cell_type": "code",
   "execution_count": 88,
   "id": "d1716506",
   "metadata": {},
   "outputs": [],
   "source": [
    "# 1. 함수 정의 \n",
    "# def 함수명(parameter1,2,3,...):\n",
    "#     명령어1\n",
    "#     명령어2\n",
    "#     ...\n",
    "#     return 결과값 \n",
    "    \n",
    "# 2. 함수 실행\n",
    "# 3. 함수명(argument1,2,3,...)\n",
    "\n",
    "\n",
    "# ctrl + / = 주석처리 "
   ]
  },
  {
   "cell_type": "code",
   "execution_count": 231,
   "id": "df616bbf",
   "metadata": {},
   "outputs": [
    {
     "name": "stdout",
     "output_type": "stream",
     "text": [
      "27\n",
      "27\n"
     ]
    }
   ],
   "source": [
    "# f(x,y)=3+3x+3y\n",
    "# # f(3,5)=? 를 함수를 통해 풀 수 있다. \n",
    "\n",
    "def f(x,y):\n",
    "    return 3+3*x+3*y\n",
    "result=f(3,5)    # 실행방법1\n",
    "print(result)    # 실행방법1\n",
    "print(f(3,5))    # 실행방법2\n",
    "\n"
   ]
  },
  {
   "cell_type": "code",
   "execution_count": 122,
   "id": "0488f839",
   "metadata": {},
   "outputs": [
    {
     "name": "stdout",
     "output_type": "stream",
     "text": [
      "6\n",
      "12\n",
      "============================================================\n",
      "7\n",
      "7\n",
      "a : 3\n",
      "b : 4\n",
      "7\n",
      "a : 3\n",
      "b : 4\n",
      "7\n",
      "============================================================\n",
      "6\n",
      "None\n",
      "6\n",
      "============================================================\n",
      "숫자를 입력해주세요 : 3\n",
      "숫자를 입력해주세요 : 5\n",
      "8\n"
     ]
    }
   ],
   "source": [
    "### 정리 \n",
    "# 함수를 선언하는 방법 4가지\n",
    "\n",
    "\n",
    "# 1. 일반적인 방식 : 입력값과 결과값이 둘다 있는 경우\n",
    "def add(a,b):\n",
    "    return a+b # return 문에 있는 값을 결과값\n",
    "                # 결과값은 실행함수로 전달됨\n",
    "print(add(2,4)) # 2,4가 입력값이며\n",
    "result=add(4,8) # 12 \n",
    "print(result)\n",
    "\n",
    "print(\"==\"*30)\n",
    "\n",
    "\n",
    "\n",
    "\n",
    "# 2. 입력값은 없고 결과값만 있는 경우\n",
    "def add():\n",
    "    a=3\n",
    "    b=4\n",
    "    c=a+b\n",
    "    return c\n",
    "result=add() # c 값이 전달됨 (7)\n",
    "print(result)\n",
    "print(add())\n",
    "\n",
    "\n",
    "def add():\n",
    "    a=int(input(\"a : \"))\n",
    "    b=int(input(\"b : \"))\n",
    "    c=a+b\n",
    "    return c\n",
    "result=add() # c 값이 전달됨 \n",
    "print(result)\n",
    "print(add())\n",
    "\n",
    "print(\"==\"*30)\n",
    "\n",
    "\n",
    "\n",
    "\n",
    "# 3. 입력값만 있고 결과값은 없는 경우 \n",
    "\n",
    "def add(a,b):\n",
    "    print(a+b)\n",
    "print(add(2,4)) # 입력값이 있으면 함수에 입력값을 전달 후 출력을 해버리기때문에\n",
    "                # 결과값을 줄 수 없다. 그러므로 none이 출력된다. \n",
    "add(2,4)        # 함수만 적어줘도 출력이 된다. \n",
    "\n",
    "print(\"==\"*30)\n",
    "\n",
    "\n",
    "\n",
    "\n",
    "# 4. 입력값과 결과값이 둘다 없는 경우\n",
    "\n",
    "def add():\n",
    "    a=int(input(\"숫자를 입력해주세요 : \"))\n",
    "    b=int(input(\"숫자를 입력해주세요 : \"))\n",
    "    print(a+b)\n",
    "add()\n",
    "# 결과값이 없어서 result를 받아올 수 없다.\n",
    "\n"
   ]
  },
  {
   "cell_type": "code",
   "execution_count": 136,
   "id": "913e721d",
   "metadata": {},
   "outputs": [
    {
     "name": "stdout",
     "output_type": "stream",
     "text": [
      "5050\n",
      "============================================================\n",
      "5050\n",
      "============================================================\n",
      "5050\n",
      "============================================================\n",
      "5050\n"
     ]
    }
   ],
   "source": [
    "# 1~100까지의 합을 구하세요.\n",
    "# 1. 입력값과 결과값이 모두 있는 함수로 만드세요.\n",
    "\n",
    "def add(start,end):\n",
    "    sum=0\n",
    "    for i in range(start,end+1):\n",
    "        sum+=i\n",
    "    return sum\n",
    "\n",
    "result=add(1,100)\n",
    "print(result)\n",
    "\n",
    "print(\"==\"*30)\n",
    "\n",
    "\n",
    "\n",
    "\n",
    "# 2. 입력값은 없고 결과값만 있는 경우\n",
    "\n",
    "def add():\n",
    "    sum=0\n",
    "    for i in range(1,101):\n",
    "        sum+=i\n",
    "    return sum\n",
    "result=add()\n",
    "print(result)\n",
    "\n",
    "\n",
    "print(\"==\"*30)\n",
    "\n",
    "\n",
    "\n",
    "\n",
    "# 3. 입력값만 있고 결과값은 없는 경우 \n",
    "def add(start,end):\n",
    "    sum=0\n",
    "    for i in range(start,end+1):\n",
    "        sum+=i\n",
    "    print(sum)\n",
    "add(1,100)\n",
    "\n",
    "print(\"==\"*30)\n",
    "\n",
    "\n",
    "\n",
    "\n",
    "# 4. 입력값과 결과값이 둘다 없는 경우\n",
    "\n",
    "def add():\n",
    "    sum=0\n",
    "    for i in range(1,101):\n",
    "        sum+=i\n",
    "    print(sum)\n",
    "add()\n"
   ]
  },
  {
   "cell_type": "code",
   "execution_count": 141,
   "id": "08b96ac6",
   "metadata": {},
   "outputs": [
    {
     "name": "stdout",
     "output_type": "stream",
     "text": [
      "14 7 6 31 8 38 "
     ]
    }
   ],
   "source": [
    "### 로또\n",
    "\n",
    "import random\n",
    "\n",
    "def lottoPlay():\n",
    "    lotto=[i for i in range(1,46)]\n",
    "    for cnt in range(1,7):\n",
    "        idx=random.randint(0,len(lotto)-1)\n",
    "        num=lotto.pop(idx)\n",
    "        print(num,end=\" \")\n",
    "        \n",
    "lottoPlay()"
   ]
  },
  {
   "cell_type": "code",
   "execution_count": 146,
   "id": "df20cc70",
   "metadata": {},
   "outputs": [
    {
     "name": "stdout",
     "output_type": "stream",
     "text": [
      "15 9 14 31 39 43 "
     ]
    }
   ],
   "source": [
    "### 로또\n",
    "\n",
    "import random\n",
    "\n",
    "def lottoPlay():\n",
    "    lotto=[i for i in range(1,46)]\n",
    "    for cnt in range(1,7):\n",
    "        idx=random.randint(0,len(lotto)-1)\n",
    "        num=lotto[idx]\n",
    "        print(num,end=\" \")\n",
    "        \n",
    "lottoPlay()"
   ]
  },
  {
   "cell_type": "code",
   "execution_count": 158,
   "id": "9a59eb7a",
   "metadata": {},
   "outputs": [
    {
     "name": "stdout",
     "output_type": "stream",
     "text": [
      "구매 수량을 입력하세요. : 5\n",
      "13 30 35 34 20 38 \n",
      "13 22 28 34 30 39 \n",
      "16 5 35 19 13 13 \n",
      "22 30 23 32 41 25 \n",
      "9 32 41 29 9 16 \n"
     ]
    }
   ],
   "source": [
    "c=int(input(\"구매 수량을 입력하세요. : \"))\n",
    "for y in range(1,c+1):\n",
    "    lottoPlay()\n",
    "    print()"
   ]
  },
  {
   "cell_type": "code",
   "execution_count": 170,
   "id": "877fd9f2",
   "metadata": {},
   "outputs": [
    {
     "name": "stdout",
     "output_type": "stream",
     "text": [
      "a: 1\n",
      "b: 4\n",
      "10\n",
      "a: 1\n",
      "b: 4\n"
     ]
    },
    {
     "data": {
      "text/plain": [
       "10"
      ]
     },
     "execution_count": 170,
     "metadata": {},
     "output_type": "execute_result"
    }
   ],
   "source": [
    "# 원하는 범위의 값을 입력받아 합을 구하세요. 2번 사용 (입x결o)\n",
    "\n",
    "def sum():\n",
    "    a=int(input(\"a: \"))\n",
    "    b=int(input(\"b: \"))\n",
    "    sum=0\n",
    "    for i in range(a,b+1):\n",
    "        sum+=i\n",
    "    return sum\n",
    "result=sum()\n",
    "print(result)\n",
    "sum()"
   ]
  },
  {
   "cell_type": "code",
   "execution_count": null,
   "id": "73f34b61",
   "metadata": {},
   "outputs": [],
   "source": [
    "\n",
    "\n",
    "\n",
    "\n",
    "\n",
    "\n",
    "\n",
    "\n",
    "\n",
    "\n",
    "\n",
    "\n",
    "\n",
    "\n",
    "\n",
    "\n",
    "\n",
    "\n",
    "\n",
    "\n",
    "\n",
    "\n",
    "\n",
    "\n",
    "\n",
    "\n",
    "\n",
    "\n",
    "\n"
   ]
  },
  {
   "cell_type": "markdown",
   "id": "a758ba89",
   "metadata": {},
   "source": [
    "#### \n",
    "\n",
    "\n",
    "\n",
    "\n",
    "\n",
    "\n",
    "\n",
    "\n",
    "\n"
   ]
  },
  {
   "cell_type": "code",
   "execution_count": 173,
   "id": "ef54c4b6",
   "metadata": {},
   "outputs": [
    {
     "name": "stdout",
     "output_type": "stream",
     "text": [
      "(7, 12)\n",
      "7\n",
      "12\n"
     ]
    }
   ],
   "source": [
    "# 결과값은 오직 하나만 전달된다. \n",
    "def add_mul(a,b):\n",
    "    c=a+b\n",
    "    d=a*b\n",
    "    return c,d\n",
    "\n",
    "result=add_mul(3,4)\n",
    "print(result)                 # 결과값이 여러개가 전달되는 것이 아니라 튜플로 하나로 묶여서 전달된다. \n",
    "print(result[0])\n",
    "print(result[1])\n"
   ]
  },
  {
   "cell_type": "code",
   "execution_count": 174,
   "id": "ad2985ba",
   "metadata": {},
   "outputs": [
    {
     "name": "stdout",
     "output_type": "stream",
     "text": [
      "1\n",
      "3\n"
     ]
    }
   ],
   "source": [
    "# 튜플의 각 값을 출력할 수 있으므로 \n",
    "a,b=(1,3)\n",
    "print(a)\n",
    "print(b)"
   ]
  },
  {
   "cell_type": "code",
   "execution_count": 188,
   "id": "b4fa8e02",
   "metadata": {},
   "outputs": [
    {
     "name": "stdout",
     "output_type": "stream",
     "text": [
      "11\n",
      "28\n"
     ]
    }
   ],
   "source": [
    "# 함수에서 가져온 튜플의 각 값을 출력할 수 있다. \n",
    "a,b=add_mul(4,7)\n",
    "print(a)\n",
    "print(b)"
   ]
  },
  {
   "cell_type": "code",
   "execution_count": 192,
   "id": "fa546d88",
   "metadata": {},
   "outputs": [
    {
     "name": "stdout",
     "output_type": "stream",
     "text": [
      "6\n"
     ]
    }
   ],
   "source": [
    "# return문의 용도\n",
    "# 1. 값을 반환하는 용도\n",
    "# 2. 함수를 강제 종료시키는 용도\n",
    "\n",
    "def test(a,b):\n",
    "    print(a+b)\n",
    "    return      # 함수를 종료시키기 때문에 아래의 명령문은 실행되지 않는다. \n",
    "    print(a*b)\n",
    "    \n",
    "test(2,4)"
   ]
  },
  {
   "cell_type": "code",
   "execution_count": 195,
   "id": "46a75166",
   "metadata": {},
   "outputs": [
    {
     "name": "stdout",
     "output_type": "stream",
     "text": [
      "나의 이름은 노사연\n",
      "나의 나이는 58\n",
      "여자입니다.\n"
     ]
    }
   ],
   "source": [
    "# 못봣다! \n",
    "\n",
    "def say_myself(name,old,man):\n",
    "    print(\"나의 이름은 {0}\".format(name))\n",
    "    print(\"나의 나이는 {age}\".format(age=old))\n",
    "    if man:    # 어떠한 글자가 오면 무조건 True \n",
    "        print(\"남자입니다.\")\n",
    "    else:\n",
    "        print(\"여자입니다.\")\n",
    "        \n",
    "say_myself(\"노사연\",58, False)"
   ]
  },
  {
   "cell_type": "code",
   "execution_count": 202,
   "id": "650ad5f6",
   "metadata": {},
   "outputs": [
    {
     "name": "stdout",
     "output_type": "stream",
     "text": [
      "나의 이름은 이숭무\n",
      "나의 나이는 35\n",
      "남자입니다.\n",
      "나의 이름은 노사연\n",
      "나의 나이는 58\n",
      "여자입니다.\n"
     ]
    }
   ],
   "source": [
    "# 매개변수가 초기값을 갖고있는 경우\n",
    "    \n",
    "def say_myself(name,old,man=True):\n",
    "    print(\"나의 이름은 {0}\".format(name))\n",
    "    print(\"나의 나이는 {age}\".format(age=old))\n",
    "    if man:    # 어떠한 글자가 오면 무조건 True \n",
    "        print(\"남자입니다.\")\n",
    "    else:\n",
    "        print(\"여자입니다.\")\n",
    "        \n",
    "\n",
    "        \n",
    "        \n",
    "say_myself(\"이숭무\",35) \n",
    "# 매개변수가 초기값을 갖고있으면 인자를 전달하지 않아도 된다. \n",
    "say_myself(\"노사연\",58,False)\n"
   ]
  },
  {
   "cell_type": "code",
   "execution_count": 203,
   "id": "8c3d22d8",
   "metadata": {},
   "outputs": [],
   "source": [
    "# 매개변수의 초기값은 뒤에서부터 사용 가능하다! 중간만 주면 오류\n",
    "\n",
    "# def say_myself(name,old=35,man):\n",
    "#     print(\"나의 이름은 {0}\".format(name))\n",
    "#     print(\"나의 나이는 {age}\".format(age=old))\n",
    "#     if man:    # 어떠한 글자가 오면 무조건 True \n",
    "#         print(\"남자입니다.\")\n",
    "#     else:\n",
    "#         print(\"여자입니다.\")\n",
    "        \n",
    "# say_myself(\"이숭무\",True) \n",
    "\n"
   ]
  },
  {
   "cell_type": "code",
   "execution_count": 233,
   "id": "7ebb7296",
   "metadata": {},
   "outputs": [
    {
     "name": "stdout",
     "output_type": "stream",
     "text": [
      "나의 이름은 이숭무\n",
      "나의 나이는 35\n",
      "남자입니다.\n",
      "나의 이름은 이숭무\n",
      "나의 나이는 40\n",
      "남자입니다.\n",
      "나의 이름은 노사연\n",
      "나의 나이는 58\n",
      "남자입니다.\n"
     ]
    }
   ],
   "source": [
    "def say_myself(name,old=35,man=True):\n",
    "    print(\"나의 이름은 {0}\".format(name))\n",
    "    print(\"나의 나이는 {age}\".format(age=old))\n",
    "    if man:    # 어떠한 글자가 오면 무조건 True \n",
    "        print(\"남자입니다.\")\n",
    "    else:\n",
    "        print(\"여자입니다.\")\n",
    "        \n",
    "say_myself(\"이숭무\")\n",
    "say_myself(\"이숭무\",40)\n",
    "say_myself(\"노사연\",58,True)\n"
   ]
  },
  {
   "cell_type": "code",
   "execution_count": null,
   "id": "2223b733",
   "metadata": {},
   "outputs": [],
   "source": [
    "\n",
    "\n",
    "\n",
    "\n",
    "\n",
    "\n",
    "\n",
    "\n",
    "\n",
    "\n",
    "\n",
    "\n",
    "\n",
    "\n",
    "\n",
    "\n",
    "\n",
    "\n",
    "\n",
    "\n",
    "\n",
    "\n",
    "\n",
    "\n",
    "\n",
    "\n",
    "\n",
    "\n",
    "\n",
    "\n"
   ]
  },
  {
   "cell_type": "code",
   "execution_count": 207,
   "id": "84db0adf",
   "metadata": {},
   "outputs": [
    {
     "name": "stdout",
     "output_type": "stream",
     "text": [
      "함수 안에서 실행된 값 : 100\n",
      "1\n"
     ]
    }
   ],
   "source": [
    "# 전역변수와 지역변수\n",
    "\n",
    "b=1                      # 전역변수 \n",
    "def test1():\n",
    "    b=100                # 지역변수 (함수 안에서만 사용 가능)\n",
    "    print(f\"함수 안에서 실행된 값 : {b}\")\n",
    "test1()\n",
    "print(b)"
   ]
  },
  {
   "cell_type": "code",
   "execution_count": 208,
   "id": "555af52b",
   "metadata": {},
   "outputs": [
    {
     "name": "stdout",
     "output_type": "stream",
     "text": [
      "1\n",
      "함수 안에서 실행된 값 : 100\n",
      "100\n"
     ]
    }
   ],
   "source": [
    "b=1         \n",
    "def test1():\n",
    "    global b           # 전역변수 b : 글로벌을 사용하면 전역변수를 쓸 수 있음\n",
    "    b=100\n",
    "    print(f\"함수 안에서 실행된 값 : {b}\")       # 지역변수\n",
    "\n",
    "print(b)\n",
    "test1()\n",
    "print(b)"
   ]
  },
  {
   "cell_type": "code",
   "execution_count": 211,
   "id": "45eed695",
   "metadata": {},
   "outputs": [
    {
     "name": "stdout",
     "output_type": "stream",
     "text": [
      "7\n",
      "9\n"
     ]
    }
   ],
   "source": [
    "# 람다함수 (lambda)\n",
    "\n",
    "def add(a,b):                 # 함수명 (매개변수1,매개변수2)\n",
    "    return a+b               # return 값\n",
    "result=add(3,4)\n",
    "print(result)\n",
    "\n",
    "add=lambda a,b:a+b           # 함수명=lambda 매개변수1,매개변수2:return 값 \n",
    "result=add(4,5)\n",
    "print(result)"
   ]
  },
  {
   "cell_type": "code",
   "execution_count": 219,
   "id": "c43cdaa4",
   "metadata": {},
   "outputs": [
    {
     "name": "stdout",
     "output_type": "stream",
     "text": [
      "12\n"
     ]
    }
   ],
   "source": [
    "def add_mul(opt,a,b):\n",
    "    if opt==\"add\":\n",
    "        return a+b\n",
    "    else:\n",
    "        return a*b\n",
    "    \n",
    "result=add_mul(add,3,4)\n",
    "print(result)\n",
    "\n",
    "add_mul=lambda opt,a,b:a+b if opt==\"add\" else a*b"
   ]
  },
  {
   "cell_type": "code",
   "execution_count": 230,
   "id": "792ae1f3",
   "metadata": {},
   "outputs": [
    {
     "name": "stdout",
     "output_type": "stream",
     "text": [
      "9\n",
      "9\n"
     ]
    }
   ],
   "source": [
    "def calu(opt,a,b):\n",
    "    if opt==\"add\":\n",
    "        return a+b\n",
    "    elif opt==\"sub\":\n",
    "        return a-b\n",
    "    elif opt==\"mul\":\n",
    "        return a*b\n",
    "    else:\n",
    "        return a/b\n",
    "    \n",
    "# lambda 로 바꾸기가 힘들다\n",
    "# 그래서 아래의 함수로 짜는 게 이해하기 쉽다. \n",
    "\n",
    "\n",
    "def calulator(opt,a,b):\n",
    "    if opt==\"add\":\n",
    "        return a+b\n",
    "    else:\n",
    "        if opt==\"sub\":\n",
    "            return a-b\n",
    "        else:\n",
    "            if opt==\"mul\":\n",
    "                return a*b\n",
    "            else:\n",
    "                return a/b\n",
    "        \n",
    "\n",
    "\n",
    "calculator=lambda opt,a,b: a+b if opt==\"add\" else (\\\n",
    "                            a-b if opt==\"sub\" else (\\\n",
    "                            a*b if opt==\"mul\" else a/b))\n",
    "\n",
    "\n",
    "\n",
    "\n",
    "result=calu(\"add\",5,4)\n",
    "print(result)\n",
    "result=calulator(\"add\",5,4)\n",
    "print(result)"
   ]
  },
  {
   "cell_type": "code",
   "execution_count": null,
   "id": "8a8bc1ea",
   "metadata": {},
   "outputs": [],
   "source": [
    "\n",
    "\n",
    "\n",
    "\n",
    "\n",
    "\n",
    "\n",
    "\n",
    "\n",
    "\n",
    "\n",
    "\n",
    "\n",
    "\n",
    "\n",
    "\n",
    "\n",
    "\n",
    "\n",
    "\n",
    "\n",
    "\n",
    "\n",
    "\n",
    "\n",
    "\n",
    "\n",
    "\n",
    "\n"
   ]
  },
  {
   "cell_type": "code",
   "execution_count": 248,
   "id": "da9b3223",
   "metadata": {},
   "outputs": [],
   "source": [
    "### 파일 입력, 출력\n",
    "\n",
    "# 파일 내용 쓰기 \n",
    "#f=open(\"C:\\Users\\user\\Desktop\\anaconda\\test1.txt\",\"w\")\n",
    "f=open(\"test1.txt\",\"w\")      #write\n",
    "f.write(\"1번째 줄입니다.\\n\")\n",
    "f.write(\"2번째 줄입니다.\\n\")\n",
    "f.write(\"3번째 줄입니다.\\n\")\n",
    "f.close()\n"
   ]
  },
  {
   "cell_type": "code",
   "execution_count": 250,
   "id": "05cb7a71",
   "metadata": {},
   "outputs": [],
   "source": [
    "f=open(\"test1.txt\",\"w\")        # 덮어쓰기 \n",
    "for i in range(1,11):\n",
    "    f.write(f\"{i}번째 줄입니다.\\n\")\n",
    "f.close()   \n",
    "\n",
    "\n",
    "# 덮어쓴다? overwrite! \n",
    "\n"
   ]
  },
  {
   "cell_type": "code",
   "execution_count": 252,
   "id": "cf12cfd4",
   "metadata": {},
   "outputs": [],
   "source": [
    "# w 는 오버라이팅 되지만, a 는 있던 내용에 추가해서 사용한다.\n",
    "\n",
    "f=open(\"test1.txt\",\"a\")    # append     : 다음 줄부터 내용을 추가한다. \n",
    "for i in range(11,21):\n",
    "    f.write(f\"{i}번째 줄입니다.\\n\")\n",
    "f.close()"
   ]
  },
  {
   "cell_type": "code",
   "execution_count": 260,
   "id": "4e646002",
   "metadata": {},
   "outputs": [
    {
     "name": "stdout",
     "output_type": "stream",
     "text": [
      "1번째 줄입니다.\n",
      "\n",
      "2번째 줄입니다.\n",
      "\n"
     ]
    },
    {
     "data": {
      "text/plain": [
       "'\\n반복문으로 작성하자!\\n\\n'"
      ]
     },
     "execution_count": 260,
     "metadata": {},
     "output_type": "execute_result"
    }
   ],
   "source": [
    "# 파일 내용 읽어오기\n",
    "f=open(\"test1.txt\",\"r\")     #read\n",
    "line=f.readline()\n",
    "# f변수를 쓰는게 편하다! open함수를 f에 선언해주면 open을 계속 안써도 된다. \n",
    "print(line)\n",
    "line=f.readline()\n",
    "print(line)\n",
    "\n",
    "'''\n",
    "반복문으로 작성하자!\n",
    "\n",
    "'''"
   ]
  },
  {
   "cell_type": "code",
   "execution_count": 263,
   "id": "a99f42ea",
   "metadata": {},
   "outputs": [
    {
     "name": "stdout",
     "output_type": "stream",
     "text": [
      "1번째 줄입니다.\n",
      "\n",
      "2번째 줄입니다.\n",
      "\n",
      "3번째 줄입니다.\n",
      "\n",
      "4번째 줄입니다.\n",
      "\n",
      "5번째 줄입니다.\n",
      "\n",
      "6번째 줄입니다.\n",
      "\n",
      "7번째 줄입니다.\n",
      "\n",
      "8번째 줄입니다.\n",
      "\n",
      "9번째 줄입니다.\n",
      "\n",
      "10번째 줄입니다.\n",
      "\n",
      "11번째 줄입니다.\n",
      "\n",
      "12번째 줄입니다.\n",
      "\n",
      "13번째 줄입니다.\n",
      "\n",
      "14번째 줄입니다.\n",
      "\n",
      "15번째 줄입니다.\n",
      "\n",
      "16번째 줄입니다.\n",
      "\n",
      "17번째 줄입니다.\n",
      "\n",
      "18번째 줄입니다.\n",
      "\n",
      "19번째 줄입니다.\n",
      "\n",
      "20번째 줄입니다.\n",
      "\n",
      "============================================================\n",
      "1번째 줄입니다.\n",
      "\n",
      "2번째 줄입니다.\n",
      "\n",
      "3번째 줄입니다.\n",
      "\n",
      "4번째 줄입니다.\n",
      "\n",
      "5번째 줄입니다.\n",
      "\n",
      "6번째 줄입니다.\n",
      "\n",
      "7번째 줄입니다.\n",
      "\n",
      "8번째 줄입니다.\n",
      "\n",
      "9번째 줄입니다.\n",
      "\n",
      "10번째 줄입니다.\n",
      "\n",
      "11번째 줄입니다.\n",
      "\n",
      "12번째 줄입니다.\n",
      "\n",
      "13번째 줄입니다.\n",
      "\n",
      "14번째 줄입니다.\n",
      "\n",
      "15번째 줄입니다.\n",
      "\n",
      "16번째 줄입니다.\n",
      "\n",
      "17번째 줄입니다.\n",
      "\n",
      "18번째 줄입니다.\n",
      "\n",
      "19번째 줄입니다.\n",
      "\n",
      "20번째 줄입니다.\n",
      "\n"
     ]
    }
   ],
   "source": [
    "\n",
    "f=open(\"test1.txt\",\"r\")\n",
    "while True:            # for문을 사용하려고 했는데 range(길이)를 모름\n",
    "    line=f.readline()\n",
    "    if line:            # 행씩 가져온다(\\n이 나올때가지 한 행 취급)\n",
    "        print(line)\n",
    "    else:\n",
    "        break\n",
    "\n",
    "        \n",
    "print(\"==\"*30)\n",
    "\n",
    "# if \"\": False                            위 , 아래 같은 것! \n",
    "#                                         꼭 이해하기! \n",
    "\n",
    "\n",
    "f=open(\"test1.txt\",\"r\")\n",
    "while True:\n",
    "    line=f.readline()\n",
    "    if not line:  # not '' : nor False : True \n",
    "        break\n",
    "    print(line)\n",
    "\n",
    "# 행이 없을 때까지 = \\n 을 만날 때까지.\n"
   ]
  },
  {
   "cell_type": "code",
   "execution_count": 265,
   "id": "b51583d2",
   "metadata": {},
   "outputs": [
    {
     "name": "stdout",
     "output_type": "stream",
     "text": [
      "['1번째 줄입니다.\\n', '2번째 줄입니다.\\n', '3번째 줄입니다.\\n', '4번째 줄입니다.\\n', '5번째 줄입니다.\\n', '6번째 줄입니다.\\n', '7번째 줄입니다.\\n', '8번째 줄입니다.\\n', '9번째 줄입니다.\\n', '10번째 줄입니다.\\n', '11번째 줄입니다.\\n', '12번째 줄입니다.\\n', '13번째 줄입니다.\\n', '14번째 줄입니다.\\n', '15번째 줄입니다.\\n', '16번째 줄입니다.\\n', '17번째 줄입니다.\\n', '18번째 줄입니다.\\n', '19번째 줄입니다.\\n', '20번째 줄입니다.\\n']\n",
      "1번째 줄입니다.\n",
      "\n",
      "2번째 줄입니다.\n",
      "\n",
      "3번째 줄입니다.\n",
      "\n",
      "4번째 줄입니다.\n",
      "\n",
      "5번째 줄입니다.\n",
      "\n",
      "6번째 줄입니다.\n",
      "\n",
      "7번째 줄입니다.\n",
      "\n",
      "8번째 줄입니다.\n",
      "\n",
      "9번째 줄입니다.\n",
      "\n",
      "10번째 줄입니다.\n",
      "\n",
      "11번째 줄입니다.\n",
      "\n",
      "12번째 줄입니다.\n",
      "\n",
      "13번째 줄입니다.\n",
      "\n",
      "14번째 줄입니다.\n",
      "\n",
      "15번째 줄입니다.\n",
      "\n",
      "16번째 줄입니다.\n",
      "\n",
      "17번째 줄입니다.\n",
      "\n",
      "18번째 줄입니다.\n",
      "\n",
      "19번째 줄입니다.\n",
      "\n",
      "20번째 줄입니다.\n",
      "\n"
     ]
    }
   ],
   "source": [
    "# 한줄씩 가져와야하는가? 전체 다 갖고오기! \n",
    "\n",
    "f=open(\"test1.txt\",\"r\")\n",
    "lines=f.readlines()\n",
    "print(lines)\n",
    "\n",
    "# 오잉 리스트로 갖고오네?\n",
    "# 리스트를 라인별로 출력하려면 반복문 써야겠군 \n",
    "\n",
    "f=open(\"test1.txt\",\"r\")\n",
    "lines=f.readlines()\n",
    "for line in lines:\n",
    "    print(line)\n",
    "    \n",
    "# 너무 번거롭지 않은가?\n",
    "# Join 함수를 이용해서 리스트의 요소를 붙여서 불러올 수 있다. \n"
   ]
  },
  {
   "cell_type": "code",
   "execution_count": 273,
   "id": "74210266",
   "metadata": {},
   "outputs": [
    {
     "name": "stdout",
     "output_type": "stream",
     "text": [
      "['1', '2', '3', '4', '5']\n",
      "1 2 3 4 5\n",
      "12345\n",
      "python\n",
      "p,y,t,h,o,n\n",
      "1번째 줄입니다.\n",
      "2번째 줄입니다.\n",
      "3번째 줄입니다.\n",
      "4번째 줄입니다.\n",
      "5번째 줄입니다.\n",
      "6번째 줄입니다.\n",
      "7번째 줄입니다.\n",
      "8번째 줄입니다.\n",
      "9번째 줄입니다.\n",
      "10번째 줄입니다.\n",
      "11번째 줄입니다.\n",
      "12번째 줄입니다.\n",
      "13번째 줄입니다.\n",
      "14번째 줄입니다.\n",
      "15번째 줄입니다.\n",
      "16번째 줄입니다.\n",
      "17번째 줄입니다.\n",
      "18번째 줄입니다.\n",
      "19번째 줄입니다.\n",
      "20번째 줄입니다.\n",
      "\n"
     ]
    }
   ],
   "source": [
    "## 리스트에서  join을 통해 각 요소를 한꺼번에 (원한다면 붙여서) 불러오기 \n",
    "\n",
    "l=[\"1\",\"2\",\"3\",\"4\",\"5\"] \n",
    "print(l)\n",
    "print(\" \".join(l))   # 공백문자를 포함해서 리스트l을 출력한다. \n",
    "print(\"\".join(l))\n",
    "s=\"python\"\n",
    "print(\"\".join(s))\n",
    "print(\",\".join(s))\n",
    "\n",
    "# 적용해보자 \n",
    "\n",
    "f=open(\"test1.txt\",\"r\")\n",
    "lines=f.readlines()\n",
    "print(\"\".join(lines))\n",
    "\n",
    "\n",
    "# 반복문 없이도 join 함수를 통해서 쉽게 불러올 수 있다. "
   ]
  },
  {
   "cell_type": "code",
   "execution_count": null,
   "id": "364ae14c",
   "metadata": {},
   "outputs": [],
   "source": [
    "\n",
    "\n",
    "\n",
    "\n",
    "\n",
    "\n",
    "\n",
    "\n",
    "\n",
    "\n",
    "\n",
    "\n",
    "\n",
    "\n",
    "\n",
    "\n",
    "\n",
    "\n",
    "\n",
    "\n",
    "\n",
    "\n",
    "\n",
    "\n",
    "\n",
    "\n",
    "\n",
    "\n",
    "\n"
   ]
  },
  {
   "cell_type": "code",
   "execution_count": 274,
   "id": "346a5adb",
   "metadata": {},
   "outputs": [
    {
     "name": "stdout",
     "output_type": "stream",
     "text": [
      "1번째 줄입니다.\n",
      "2번째 줄입니다.\n",
      "3번째 줄입니다.\n",
      "4번째 줄입니다.\n",
      "5번째 줄입니다.\n",
      "6번째 줄입니다.\n",
      "7번째 줄입니다.\n",
      "8번째 줄입니다.\n",
      "9번째 줄입니다.\n",
      "10번째 줄입니다.\n",
      "11번째 줄입니다.\n",
      "12번째 줄입니다.\n",
      "13번째 줄입니다.\n",
      "14번째 줄입니다.\n",
      "15번째 줄입니다.\n",
      "16번째 줄입니다.\n",
      "17번째 줄입니다.\n",
      "18번째 줄입니다.\n",
      "19번째 줄입니다.\n",
      "20번째 줄입니다.\n",
      "\n"
     ]
    }
   ],
   "source": [
    "# 그냥 있는 그대로 부를 땐 read\n",
    "# 한 줄씩 부를땐 readline\n",
    "# 리스트로 부를땐 readlines \n",
    "\n",
    "f=open(\"test1.txt\",\"r\")\n",
    "data=f.read()\n",
    "print(data)\n"
   ]
  },
  {
   "cell_type": "code",
   "execution_count": 275,
   "id": "d4290dfe",
   "metadata": {},
   "outputs": [
    {
     "name": "stdout",
     "output_type": "stream",
     "text": [
      "1번째 줄입니다.\n",
      "2번째 줄입니다.\n",
      "3번째 줄입니다.\n",
      "4번째 줄입니다.\n",
      "5번째 줄입니다.\n",
      "6번째 줄입니다.\n",
      "7번째 줄입니다.\n",
      "8번째 줄입니다.\n",
      "9번째 줄입니다.\n",
      "10번째 줄입니다.\n",
      "11번째 줄입니다.\n",
      "12번째 줄입니다.\n",
      "13번째 줄입니다.\n",
      "14번째 줄입니다.\n",
      "15번째 줄입니다.\n",
      "16번째 줄입니다.\n",
      "17번째 줄입니다.\n",
      "18번째 줄입니다.\n",
      "19번째 줄입니다.\n",
      "20번째 줄입니다.\n",
      "\n"
     ]
    }
   ],
   "source": [
    "#먼저 파일을 열어서 내용을 저장한 후에 \n",
    "f=open(\"test2.txt\",\"w\")\n",
    "for i in range(1,21):\n",
    "    f.write(f\"{i}번째 줄입니다.\\n\")\n",
    "f.close()\n",
    "\n",
    "#저장한 내용을 읽기 위해 불러온다. \n",
    "f=open(\"test2.txt\",\"r\")\n",
    "data=f.read()\n",
    "f.close()                          # 이거 자꾸 까먹으오 \n",
    "print(data)"
   ]
  },
  {
   "cell_type": "code",
   "execution_count": 280,
   "id": "3aac9afb",
   "metadata": {},
   "outputs": [
    {
     "name": "stdout",
     "output_type": "stream",
     "text": [
      "1번째줄입니다.\n",
      "2번째줄입니다.\n",
      "3번째줄입니다.\n",
      "4번째줄입니다.\n",
      "5번째줄입니다.\n",
      "6번째줄입니다.\n",
      "7번째줄입니다.\n",
      "8번째줄입니다.\n",
      "9번째줄입니다.\n",
      "10번째줄입니다.\n",
      "\n",
      "1번째줄입니다.\n",
      "2번째줄입니다.\n",
      "3번째줄입니다.\n",
      "4번째줄입니다.\n",
      "5번째줄입니다.\n",
      "6번째줄입니다.\n",
      "7번째줄입니다.\n",
      "8번째줄입니다.\n",
      "9번째줄입니다.\n",
      "10번째줄입니다.\n",
      "11번째줄입니다.\n",
      "12번째줄입니다.\n",
      "13번째줄입니다.\n",
      "14번째줄입니다.\n",
      "15번째줄입니다.\n",
      "16번째줄입니다.\n",
      "17번째줄입니다.\n",
      "18번째줄입니다.\n",
      "19번째줄입니다.\n",
      "20번째줄입니다.\n",
      "\n"
     ]
    }
   ],
   "source": [
    "#f.close()를 안쓰는 방법\n",
    "\n",
    "with open(\"test3.txt\",\"w\") as f:     # as 뒤에 파일명\n",
    "    for i in range(1,11):\n",
    "        f.write(f\"{i}번째줄입니다.\\n\")\n",
    "with open(\"test3.txt\",\"r\") as f:\n",
    "    data=f.read()\n",
    "print(data)\n",
    "\n",
    "\n",
    "\n",
    "print(\"==\"*30)\n",
    "\n",
    "\n",
    "\n",
    "with open(\"test3.txt\",\"a\") as f:\n",
    "    for i in range(11,21):\n",
    "        f.write(f\"{i}번째줄입니다.\\n\")\n",
    "with open(\"test3.txt\",\"r\") as f:\n",
    "    data=f.read()\n",
    "print(data)"
   ]
  },
  {
   "cell_type": "code",
   "execution_count": 287,
   "id": "eff5cffd",
   "metadata": {},
   "outputs": [],
   "source": [
    "\n",
    "# 엑셀로 열림\n",
    "# csv : ,(c) 구분자가 콤마 / 분류(s) / 값(value)\n",
    "# tsv : tap (t) 으로 구분\n",
    "    \n",
    "#  encoding=\"utd-8\" 로 저장하겠다. \n",
    "#  newline=''  라인 하나가 더 생기는 걸 방지한다. \n",
    "\n",
    "#  encoding=\"cp949\"\n",
    "\n",
    "\n",
    "import csv\n",
    "f=open(\"매수종목.csv\",\"w\",encoding=\"utf-8\",newline='')\n",
    "writer=csv.writer(f)\n",
    "writer.writerow([\"종목명\",\"종목코드\",\"PER\"])   # writerow 한 행씩 써서 저장해라 \n",
    "writer.writerow([\"카카오\",\"005930\",\"15.59\"])\n",
    "writer.writerow([\"다음\",\"03542\",\"55.82\"])\n",
    "f.close()\n"
   ]
  },
  {
   "cell_type": "code",
   "execution_count": 286,
   "id": "b9e56c44",
   "metadata": {},
   "outputs": [],
   "source": [
    "\n",
    "import csv\n",
    "f=open(\"매수종목.csv\",\"w\",encoding=\"cp949\",newline='')\n",
    "writer=csv.writer(f)\n",
    "writer.writerow([\"종목명\",\"종목코드\",\"PER\"])   # writerow 한 행씩 써서 저장해라 \n",
    "writer.writerow([\"카카오\",\"005930\",\"15.59\"])\n",
    "writer.writerow([\"다음\",\"03542\",\"55.82\"])\n",
    "f.close()\n",
    "\n"
   ]
  },
  {
   "cell_type": "code",
   "execution_count": null,
   "id": "1cde71dc",
   "metadata": {},
   "outputs": [],
   "source": []
  },
  {
   "cell_type": "code",
   "execution_count": null,
   "id": "393b40fa",
   "metadata": {},
   "outputs": [],
   "source": []
  },
  {
   "cell_type": "code",
   "execution_count": null,
   "id": "21ccb0d2",
   "metadata": {},
   "outputs": [],
   "source": []
  },
  {
   "cell_type": "code",
   "execution_count": null,
   "id": "95a5c9f0",
   "metadata": {},
   "outputs": [],
   "source": []
  },
  {
   "cell_type": "code",
   "execution_count": null,
   "id": "bbdf6f92",
   "metadata": {},
   "outputs": [],
   "source": []
  },
  {
   "cell_type": "code",
   "execution_count": null,
   "id": "dc0b36d9",
   "metadata": {},
   "outputs": [],
   "source": []
  },
  {
   "cell_type": "code",
   "execution_count": null,
   "id": "0f06e12b",
   "metadata": {},
   "outputs": [],
   "source": []
  }
 ],
 "metadata": {
  "kernelspec": {
   "display_name": "Python 3 (ipykernel)",
   "language": "python",
   "name": "python3"
  },
  "language_info": {
   "codemirror_mode": {
    "name": "ipython",
    "version": 3
   },
   "file_extension": ".py",
   "mimetype": "text/x-python",
   "name": "python",
   "nbconvert_exporter": "python",
   "pygments_lexer": "ipython3",
   "version": "3.8.12"
  }
 },
 "nbformat": 4,
 "nbformat_minor": 5
}
