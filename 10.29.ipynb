{
 "cells": [
  {
   "cell_type": "code",
   "execution_count": 38,
   "id": "8e675e92",
   "metadata": {},
   "outputs": [
    {
     "name": "stdout",
     "output_type": "stream",
     "text": [
      "{1, 2, 3, 4}\n",
      "============================================================\n",
      "{1, 2, 3, 4}\n",
      "{8, 5, 6, 7}\n",
      "[8, 5, 6, 7]\n",
      "(1, 2, 3, 4)\n",
      "============================================================\n",
      "{4, 5, 6}\n",
      "{4, 5, 6}\n",
      "{1, 2, 3, 4, 5, 6, 7, 8, 9}\n",
      "{1, 2, 3, 4, 5, 6, 7, 8, 9}\n",
      "{1, 2, 3}\n",
      "{1, 2, 3}\n"
     ]
    }
   ],
   "source": [
    "# 집합 자료형 \n",
    "\n",
    "# 숫자 자료형 : 1\n",
    "# 문자열 자료형 : '', \"\", '''''', \"\"\"\"\"\"\n",
    "# 리스트 자료형 : []\n",
    "# 튜플 자료형 : ()\n",
    "# 딕셔너리 자료형 : {'key':'value'}\n",
    "# 집합 자료형 : {1,2,3,4}\n",
    "\n",
    "l=[1,2,3,4] # 리스트\n",
    "t=(1,2,3,4) # 튜플\n",
    "d={} # 빈 딕셔너리\n",
    "s={1,2,3,4} # set집합에 빈 집합은 존재하지 않는다. \n",
    "print(s)\n",
    "\n",
    "\n",
    "\n",
    "print(\"==\"*30)\n",
    "\n",
    "\n",
    "\n",
    "s1=set([1,2,3,4])  # set을 통해 리스트를 넣거나 \n",
    "s2=set((5,6,7,8))  # set을 통해 튜플을 넣을 수 있다. \n",
    "print(s1)\n",
    "print(s2)\n",
    "# 출력하면 집합자료형으로 출력이된다\n",
    "\n",
    "# 리스트나, 튜플 자료형으로 가지고 오고 싶다면?\n",
    "l=list(s2)\n",
    "t=tuple(s1)\n",
    "print(l)\n",
    "print(t)\n",
    "# 집합 자료형은 index를 사용하지 않는다. 왜? 순서가 없기 때문이다. \n",
    "\n",
    "\n",
    "\n",
    "print(\"==\"*30)\n",
    "\n",
    "\n",
    "\n",
    "# 집합 자료형 : 교집합, 합집합, 차집합을 구하기 위한 자료형이다.\n",
    "s1={1,2,3,4,5,6}\n",
    "s2={4,5,6,7,8,9}\n",
    "\n",
    "# 교집합\n",
    "print(s1&s2)\n",
    "print(s1.intersection(s2))\n",
    "# 합집합\n",
    "print(s1|s2)\n",
    "print(s1.union(s2))\n",
    "# 차집합 \n",
    "print(s1-s2)\n",
    "print(s1.difference(s2)) # s1에서 s2와 다른 것만 가져와라"
   ]
  },
  {
   "cell_type": "code",
   "execution_count": 48,
   "id": "fa02464c",
   "metadata": {},
   "outputs": [
    {
     "name": "stdout",
     "output_type": "stream",
     "text": [
      "{1, 2, 3, 4, 5, 6}\n",
      "{1, 2, 3, 4, 5, 6, 7}\n",
      "{1, 2, 3, 4, 5, 6, 7}\n",
      "{1, 2, 3, 4, 5, 6, 7, 8, 9, 10}\n",
      "{1, 2, 3, 4, 5, 6, 7, 9, 10}\n"
     ]
    }
   ],
   "source": [
    "# 집합에 값 한 개 추가하기 \n",
    "s1={1,2,3,4,5,6}\n",
    "print(s1)\n",
    "s1.add(7)\n",
    "print(s1)\n",
    "s1.add(5) # 집합 자료형에서는 데이터의 중복을 허용하지 않는다. \n",
    "print(s1)\n",
    "\n",
    "### update\n",
    "# 여러 개의 데이터를 넣고 싶다면? \n",
    "s1.update([8,9,10])\n",
    "print(s1)\n",
    "\n",
    "### remove\n",
    "# 특정 값 삭제하기 \n",
    "s1.remove(8)\n",
    "print(s1)"
   ]
  },
  {
   "cell_type": "code",
   "execution_count": null,
   "id": "98065d3b",
   "metadata": {},
   "outputs": [],
   "source": []
  },
  {
   "cell_type": "code",
   "execution_count": null,
   "id": "dea2f6aa",
   "metadata": {},
   "outputs": [],
   "source": []
  },
  {
   "cell_type": "code",
   "execution_count": null,
   "id": "c0ff27a2",
   "metadata": {},
   "outputs": [],
   "source": []
  },
  {
   "cell_type": "code",
   "execution_count": null,
   "id": "132a2a9e",
   "metadata": {},
   "outputs": [],
   "source": []
  },
  {
   "cell_type": "code",
   "execution_count": null,
   "id": "a6bcde53",
   "metadata": {},
   "outputs": [],
   "source": []
  },
  {
   "cell_type": "code",
   "execution_count": null,
   "id": "19a9fcb0",
   "metadata": {},
   "outputs": [],
   "source": [
    "\n",
    "\n",
    "\n",
    "\n",
    "\n",
    "\n",
    "\n",
    "\n"
   ]
  },
  {
   "cell_type": "code",
   "execution_count": 60,
   "id": "5ba188b0",
   "metadata": {},
   "outputs": [
    {
     "name": "stdout",
     "output_type": "stream",
     "text": [
      "True\n",
      "True\n",
      "2\n",
      "TrueTrue\n",
      "0\n"
     ]
    }
   ],
   "source": [
    "# 부울 자료형 : True/False\n",
    "\n",
    "a=True # 부울 자료형 bool  \n",
    "b=\"True\" # 문자열 자료형 string\n",
    "print(a)\n",
    "print(b)\n",
    "\n",
    "# 출력되는 결과는 같지만 다른 자료형이며 연산을 해보면 알 수 있다. \n",
    "\n",
    "print(a+a)\n",
    "print(b+b)\n",
    "\n",
    "c=False\n",
    "print(c+c)\n",
    "\n"
   ]
  },
  {
   "cell_type": "code",
   "execution_count": 61,
   "id": "ce2350e4",
   "metadata": {},
   "outputs": [
    {
     "name": "stdout",
     "output_type": "stream",
     "text": [
      "<class 'bool'>\n",
      "<class 'str'>\n",
      "<class 'bool'>\n",
      "<class 'int'>\n",
      "<class 'list'>\n",
      "<class 'tuple'>\n",
      "<class 'dict'>\n",
      "<class 'set'>\n",
      "<class 'dict'>\n"
     ]
    }
   ],
   "source": [
    "### 데이터의 자료형을 확인\n",
    "print(type(a))\n",
    "print(type(b))\n",
    "print(type(c))\n",
    "i=3\n",
    "l=[1,2,3]\n",
    "t=(1,2,3)\n",
    "dic={1:1}\n",
    "s={1,2,3}\n",
    "dic1={}\n",
    "print(type(i))\n",
    "print(type(l))\n",
    "print(type(t))\n",
    "print(type(dic))\n",
    "print(type(s))\n",
    "print(type(dic1))"
   ]
  },
  {
   "cell_type": "code",
   "execution_count": 64,
   "id": "6e91f32a",
   "metadata": {},
   "outputs": [
    {
     "name": "stdout",
     "output_type": "stream",
     "text": [
      "<class 'bool'>\n",
      "True\n",
      "True\n",
      "False\n",
      "False\n",
      "True\n",
      "False\n"
     ]
    }
   ],
   "source": [
    "# 비교 (관계) 연산자의 결과값은 부울 타입이다.\n",
    "x=10;y=20\n",
    "z=x<y\n",
    "print(type(z))\n",
    "print(z)\n",
    "z=x<=y\n",
    "print(z)\n",
    "z=x>y\n",
    "print(z)\n",
    "z=x>=y\n",
    "print(z)\n",
    "z=x!=y\n",
    "print(z)\n",
    "z=x==y\n",
    "print(z)"
   ]
  },
  {
   "cell_type": "code",
   "execution_count": 69,
   "id": "0b7dba8f",
   "metadata": {},
   "outputs": [
    {
     "name": "stdout",
     "output_type": "stream",
     "text": [
      "True\n",
      "False\n",
      "False\n",
      "False\n",
      "============================================================\n",
      "True\n",
      "True\n",
      "True\n",
      "False\n",
      "============================================================\n",
      "False\n"
     ]
    }
   ],
   "source": [
    "# 논리 연산자 (and,or) 의 결과값 \n",
    "# 부울 타입 간의 연산을 논리연산이라고 한다.\n",
    "print(True and True)\n",
    "print(True and False)\n",
    "print(False and True)\n",
    "print(False and False)\n",
    "print(\"==\"*30)\n",
    "print(True or True)\n",
    "print(True or False)\n",
    "print(False or True)\n",
    "print(False or False)\n",
    "\n",
    "\n",
    "\n",
    "print(\"==\"*30)\n",
    "\n",
    "\n",
    "# 논리연산은 비교연산과 항상 같이 써야한다. 왜?\n",
    "# 비교연산의 결과값은 부울타입이고 부울타입간의 연산을 논리연산이라고 하기 때문.\n",
    "# 논리연산을 하겠다는건, 비교연산도 같이 한다는 뜻이다.\n",
    "\n",
    "x=10;y=20;z=30\n",
    "boo=x>y and x<z      # 비교와 논리가 같이 진행됨\n",
    "print(boo)"
   ]
  },
  {
   "cell_type": "code",
   "execution_count": 112,
   "id": "6f4a9fc7",
   "metadata": {},
   "outputs": [
    {
     "name": "stdout",
     "output_type": "stream",
     "text": [
      "True\n",
      "False\n",
      "True\n",
      "True\n",
      "False\n",
      "True\n",
      "False\n",
      "True\n",
      "False\n",
      "False\n",
      "============================================================\n",
      "============================================================\n",
      "True\n",
      "False\n",
      "False\n",
      "True\n",
      "False\n",
      "평년\n"
     ]
    }
   ],
   "source": [
    "print(bool('예은'))   # 어떠한 문자열도 True 를 출력한다.\n",
    "print(bool(''))       # 값이 존재하지 않으므로 False\n",
    "print(bool(1))        # 숫자 1은 True\n",
    "print(bool(100))      # 숫자 0을 제외한 나머지는 True\n",
    "print(bool(0))        # 숫자 0은 False \n",
    "print(bool([1,2,3]))  \n",
    "print(bool([]))       # False\n",
    "print(bool((1,2,3)))\n",
    "print(bool(()))       # False \n",
    "print(bool({}))       # False\n",
    "\n",
    "# 빈 문자열, 리스트, 튜플, 딕셔너리는 전부 False\n",
    "\n",
    "\n",
    "print(\"==\"*30)\n",
    "\n",
    "### 2200년은 윤년인가요? (윤년(True), 평년(False)) \n",
    "## 4년마다 윤년, 100년마다 평년, 400년마다 윤년\n",
    "\n",
    "'''year=2200\n",
    "a=(year%4==0)      # 나머지가 0이면 윤년        # True\n",
    "b=(year%100==0)    # 나머지가 0이면 평년        # True\n",
    "c=(year%400==0)    # 나머지가 0이면 윤년        # False \n",
    "\n",
    "print(a)\n",
    "print(b)\n",
    "print(c)\n",
    "\n",
    "result=((a&b) & c)\n",
    "\n",
    "print(result)\n",
    "\n",
    "# 만약 a=0 이고 b!=0 윤년, a=0,b=0 이면 평년 \n",
    "\n",
    "'''\n",
    "\n",
    "\n",
    "print(\"==\"*30)\n",
    "\n",
    "\n",
    "\n",
    "print(2200%4==0)\n",
    "print(2200%100!=0)\n",
    "result=year%4==0 and year%100!=0 or year%400==0\n",
    "print(result)\n",
    "\n",
    "\n",
    "\n",
    "\n",
    "print(2200%4==0)\n",
    "print(2200%100!=0)\n",
    "if year%4==0 and year%100!=0 or year%400==0 :\n",
    "    print(\"윤년\")\n",
    "else :\n",
    "    print(\"평년\")"
   ]
  },
  {
   "cell_type": "code",
   "execution_count": null,
   "id": "dd37c3fc",
   "metadata": {},
   "outputs": [],
   "source": []
  },
  {
   "cell_type": "code",
   "execution_count": null,
   "id": "dd623fe9",
   "metadata": {},
   "outputs": [],
   "source": []
  },
  {
   "cell_type": "code",
   "execution_count": null,
   "id": "387e4a9c",
   "metadata": {},
   "outputs": [],
   "source": []
  },
  {
   "cell_type": "code",
   "execution_count": null,
   "id": "8586bed0",
   "metadata": {},
   "outputs": [],
   "source": []
  },
  {
   "cell_type": "code",
   "execution_count": null,
   "id": "0e491624",
   "metadata": {},
   "outputs": [],
   "source": [
    "\n",
    "\n",
    "\n",
    "\n",
    "\n",
    "\n",
    "\n",
    "\n"
   ]
  },
  {
   "cell_type": "code",
   "execution_count": 123,
   "id": "474da960",
   "metadata": {
    "scrolled": true
   },
   "outputs": [
    {
     "name": "stdout",
     "output_type": "stream",
     "text": [
      "0 0 0\n",
      "0/0/0\n",
      "python life\n",
      "python life\n",
      "python life\n",
      "python life\n",
      "[1, 2, 3, 4] [5, 6, 7, 8]\n",
      "[1, 2, 3, 4] [5, 6, 7, 8]\n",
      "3 10\n",
      "10 3\n"
     ]
    }
   ],
   "source": [
    "# 변수선언 방법\n",
    "a=1\n",
    "a=\"a\"\n",
    "a=b=c=0\n",
    "print(a,b,c)\n",
    "print(a,b,c,sep=\"/\")\n",
    "\n",
    "a,b=\"python\",\"life\"\n",
    "print(a,b)\n",
    "a,b=(\"python\",\"life\")\n",
    "print(a,b)\n",
    "(a,b)=\"python\",\"life\"\n",
    "print(a,b)\n",
    "(a,b)=(\"python\",\"life\")\n",
    "print(a,b)\n",
    "a,b=[1,2,3,4],[5,6,7,8]\n",
    "print(a,b)\n",
    "a,b=([1,2,3,4],[5,6,7,8])\n",
    "print(a,b)\n",
    "\n",
    "# a와 b가 가진 값을 교환\n",
    "a=3;b=10\n",
    "print(a,b)\n",
    "a,b=b,a\n",
    "print(a,b)\n",
    "\n",
    "\n"
   ]
  }
 ],
 "metadata": {
  "kernelspec": {
   "display_name": "Python 3 (ipykernel)",
   "language": "python",
   "name": "python3"
  },
  "language_info": {
   "codemirror_mode": {
    "name": "ipython",
    "version": 3
   },
   "file_extension": ".py",
   "mimetype": "text/x-python",
   "name": "python",
   "nbconvert_exporter": "python",
   "pygments_lexer": "ipython3",
   "version": "3.8.12"
  }
 },
 "nbformat": 4,
 "nbformat_minor": 5
}
