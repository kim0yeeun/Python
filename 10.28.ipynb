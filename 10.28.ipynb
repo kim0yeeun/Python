{
 "cells": [
  {
   "cell_type": "code",
   "execution_count": 3,
   "id": "11034dcb",
   "metadata": {
    "scrolled": true
   },
   "outputs": [
    {
     "name": "stdout",
     "output_type": "stream",
     "text": [
      "============================================================\n",
      "python is fun\n",
      "============================================================\n"
     ]
    }
   ],
   "source": [
    "### 리터널 : 자연어 (한글, 영어, 일어, 중국,..., 숫자)\n",
    "### 숫자 리터널 (숫자 자료형) : 10, 1, 2, 10.5\n",
    "### 문자열 리터널 : a(x변수), \"a\", 'a', '가', \"기\", \"1\"(문자), 1(숫자)\n",
    "###                   '''''', \"\"\"\"\"\" 개행문자(\\n) 포함\n",
    "\n",
    "### 숫자 리터널(숫자 자료형)에서 사용되는 연산자\n",
    "## +, -, *, /, %, //, **\n",
    "### 문자 리터널(문자열 자료형)에서 사용되는 연산자 \n",
    "## +(붙이기 연산자), *(반복 연산자)\n",
    "print(\"==\" * 30)\n",
    "print(\"python\" + \" \" + \"is fun\")\n",
    "print(\"==\" * 30)"
   ]
  },
  {
   "cell_type": "code",
   "execution_count": 3,
   "id": "3fdd0655",
   "metadata": {},
   "outputs": [
    {
     "name": "stdout",
     "output_type": "stream",
     "text": [
      "33\n",
      "n\n",
      "n\n",
      "L\n",
      "L\n",
      "L\n"
     ]
    }
   ],
   "source": [
    "a=\"Life is too short, You need python\"\n",
    "## 0123456789012345678901234567890123\n",
    "##           1         2         3\n",
    "### index의 마지막 번호\n",
    "print(len(a)-1)\n",
    "print(a[33])\n",
    "print(a[len(a)-1])\n",
    "### 맨 앞글자를 출력하려면?\n",
    "print(a[0])\n",
    "print(a[-34])\n",
    "print(a[-len(a)])"
   ]
  },
  {
   "cell_type": "code",
   "execution_count": 1,
   "id": "504c26dd",
   "metadata": {},
   "outputs": [
    {
     "name": "stdout",
     "output_type": "stream",
     "text": [
      "Life\n",
      "Life\n",
      "Life\n",
      "need\n",
      "need\n"
     ]
    }
   ],
   "source": [
    "### Life 를 출력하려면?\n",
    "a=\"Life is too short, You need python\"\n",
    "#  0123\n",
    "#  4567890123456789876543210987654321-\n",
    "print(a[0]+a[1]+a[2]+a[3])\n",
    "## slicing\n",
    "print(a[0:0+4])\n",
    "print(a[0:4]) #0부터 4가 되기 전까지\n",
    "\n",
    "## need를 출력하려면?\n",
    "print(a[-11:-11+4])\n",
    "print(a[-11:-7]) #-11붜터 -7가 되기 전까지\n"
   ]
  },
  {
   "cell_type": "code",
   "execution_count": 11,
   "id": "bb1033a3",
   "metadata": {
    "scrolled": true
   },
   "outputs": [
    {
     "name": "stdout",
     "output_type": "stream",
     "text": [
      "Life is too short, You need python\n",
      "Life is too short, You need python\n",
      "Lf stosot o edpto\n",
      "Lesosr ue tn\n",
      "nohtyp deen uoY ,trohs oot si efiL\n",
      "nohtyp\n",
      "python\n",
      "nohtyp\n",
      "================================================================================\n",
      "nohtyp\n",
      "nhy\n"
     ]
    }
   ],
   "source": [
    "\n",
    "print(a[:])\n",
    "print(a[:34])\n",
    "print(a[::2]) \n",
    "print(a[::3]) \n",
    "print(a[::-1]) \n",
    "print(a[:27:-1])\n",
    " \n",
    "s=a[28:]\n",
    "print(s)\n",
    "print(s[::-1])\n",
    "\n",
    "print(\"====\"*20)\n",
    "\n",
    "print(a[:27:-1])\n",
    "print(a[:27:-2])"
   ]
  },
  {
   "cell_type": "code",
   "execution_count": null,
   "id": "0c3254c3",
   "metadata": {},
   "outputs": [],
   "source": []
  },
  {
   "cell_type": "code",
   "execution_count": 23,
   "id": "48f4601c",
   "metadata": {},
   "outputs": [
    {
     "name": "stdout",
     "output_type": "stream",
     "text": [
      "나의 이름은 이숭무이고 나이는 35이며 키는 170.500000입니다.\n",
      "나의 이름은 이숭무이고 나이는 35이며 키는 170.5입니다.\n",
      "나의 이름은        이숭무이고 나이는 35이며 키는 170.500000입니다.\n"
     ]
    }
   ],
   "source": [
    "## 포멧문자를 이용해서 출력\n",
    "name='이숭무'\n",
    "age=35\n",
    "height=170.5\n",
    "print(\"나의 이름은 %s이고 나이는 %d이며 키는 %f입니다.\" % \\\n",
    "      (name, age, height))\n",
    "print(\"나의 이름은 %s이고 나이는 %d이며 키는 %.1f입니다.\" % \\\n",
    "      (name, age, height))\n",
    "print(\"나의 이름은 %10s이고 나이는 %d이며 키는 %f입니다.\" % \\\n",
    "      (name, age, height))\n",
    "\n"
   ]
  },
  {
   "cell_type": "code",
   "execution_count": 21,
   "id": "d7fa3cfd",
   "metadata": {
    "scrolled": true
   },
   "outputs": [
    {
     "name": "stdout",
     "output_type": "stream",
     "text": [
      "나의 이름은 이숭무이고 나이는 35이며 키는 170.5입니다.\n",
      "나의 이름은 35이고 나이는 이숭무이며 키는 170.5입니다.\n",
      "나의 이름은 이숭무이고 블로그는 이숭무이다.\n",
      "나의 이름은 이숭무이고 나이는35이며 키는170.5입니다.\n",
      "나의 이름은 이숭무이고 나이는 35이며 키는 170.5입니다\n"
     ]
    }
   ],
   "source": [
    "## format 함수\n",
    "\n",
    "name='이숭무'\n",
    "age=35\n",
    "height=170.5\n",
    "\n",
    "print(\"나의 이름은 {0}이고 나이는 {1}이며 키는 {2}입니다.\"  \\\n",
    "      .format(name, age, height))\n",
    "\n",
    "print(\"나의 이름은 {1}이고 나이는 {0}이며 키는 {2}입니다.\"  \\\n",
    "      .format(name, age, height))\n",
    "\n",
    "print(\"나의 이름은 {0}이고 블로그는 {0}이다.\".format(name))\n",
    "print(\"나의 이름은 {1}이고 나이는{0}이며 키는{h}입니다.\" \\\n",
    "      .format(age,name,h=height))\n",
    "\n",
    "print(f\"나의 이름은 {name}이고 나이는 {age}이며 키는 {height}입니다\")"
   ]
  },
  {
   "cell_type": "code",
   "execution_count": 2,
   "id": "c0a4f664",
   "metadata": {},
   "outputs": [
    {
     "name": "stdout",
     "output_type": "stream",
     "text": [
      "나의 이름은 {name}이고 나이는 {age}이며 키는 {height}입니다\n"
     ]
    }
   ],
   "source": [
    "print(\"나의 이름은 {name}이고 나이는 {age}이며 키는 {height}입니다\")"
   ]
  },
  {
   "cell_type": "code",
   "execution_count": null,
   "id": "19578fbc",
   "metadata": {},
   "outputs": [],
   "source": []
  },
  {
   "cell_type": "code",
   "execution_count": null,
   "id": "91b9de08",
   "metadata": {},
   "outputs": [],
   "source": []
  },
  {
   "cell_type": "code",
   "execution_count": null,
   "id": "17cde496",
   "metadata": {},
   "outputs": [],
   "source": []
  },
  {
   "cell_type": "code",
   "execution_count": null,
   "id": "ed81f9ff",
   "metadata": {},
   "outputs": [],
   "source": []
  },
  {
   "cell_type": "code",
   "execution_count": null,
   "id": "f495f7ae",
   "metadata": {},
   "outputs": [],
   "source": []
  },
  {
   "cell_type": "code",
   "execution_count": 60,
   "id": "188ece5e",
   "metadata": {},
   "outputs": [],
   "source": [
    "## 10/28"
   ]
  },
  {
   "cell_type": "code",
   "execution_count": null,
   "id": "599e5370",
   "metadata": {},
   "outputs": [],
   "source": []
  },
  {
   "cell_type": "code",
   "execution_count": 42,
   "id": "78021e66",
   "metadata": {},
   "outputs": [
    {
     "name": "stdout",
     "output_type": "stream",
     "text": [
      "hobby\n",
      "5\n",
      "2\n",
      "1\n",
      "obb\n",
      "-1\n",
      "1\n",
      "obb\n"
     ]
    }
   ],
   "source": [
    "### 문자열 함수 : 문자열을 원하는 형태로 가공\n",
    "\n",
    "a=\"hobby\"\n",
    "print(a)\n",
    "print(len(a))\n",
    "# 변수 a에 'b'문자가 몇개가 있을까?\n",
    "b=a.count('b')\n",
    "print(b)\n",
    "\n",
    "### 원하는 문자가 있는 index를 가져오기\n",
    "print(a.find('o'))\n",
    "c=a.find('o')\n",
    "print(a[c:c+3])\n",
    "### 't'문자의 위치를 찾으시오. : find 또는 index 사용\n",
    "print(a.find('t')) # 없는 문자의 경우 -1을 가져온다.\n",
    "print(a.index('o'))\n",
    "c=a.index('o')\n",
    "print(a[c:c+3]) \n",
    "#print(a.index('t')) 없는 문자의 경우 요류 발생\n"
   ]
  },
  {
   "cell_type": "code",
   "execution_count": 55,
   "id": "8c3bb8b0",
   "metadata": {
    "scrolled": true
   },
   "outputs": [
    {
     "name": "stdout",
     "output_type": "stream",
     "text": [
      "2\n",
      "2\n",
      "10\n",
      "10\n",
      "17\n",
      "17\n"
     ]
    }
   ],
   "source": [
    "a='Python is the best choice'\n",
    "idx=a.index('t')\n",
    "print(idx)\n",
    "idx=a.find('t')\n",
    "print(idx)\n",
    "\n",
    "## 처음의 t의 인덱스 번호를 가져온다.\n",
    "## 10index 다음에 있는 t를 찾으려면?\n",
    "idx=a.index('t', 9)\n",
    "print(idx)\n",
    "idx=a.find('t', 9)\n",
    "print(idx)\n",
    "\n",
    "## 뒤에 있는 t를 찾으려면?\n",
    "idx=a.rfind('t')\n",
    "print(idx)\n",
    "idx=a.rindex('t')\n",
    "print(idx)\n",
    "\n",
    "\n"
   ]
  },
  {
   "cell_type": "code",
   "execution_count": 61,
   "id": "83667250",
   "metadata": {},
   "outputs": [
    {
     "name": "stdout",
     "output_type": "stream",
     "text": [
      "Python is the best choice\n",
      "PYTHON IS THE BEST CHOICE\n",
      "Python is the best choice\n",
      "python is the best choice\n"
     ]
    }
   ],
   "source": [
    "## 소문자를 대문자로 바꾸기\n",
    "print(a)\n",
    "print(a.upper())\n",
    "\n",
    "# 대문자를 소문자로 바꾸기\n",
    "print(a)\n",
    "print(a.lower())"
   ]
  },
  {
   "cell_type": "code",
   "execution_count": 74,
   "id": "84851828",
   "metadata": {
    "scrolled": true
   },
   "outputs": [
    {
     "name": "stdout",
     "output_type": "stream",
     "text": [
      "     abcd\n",
      "abcd\n",
      "abcd     \n",
      "abcd\n",
      "   ab cd       \n",
      "ab cd\n",
      "ab가나다라ab\n",
      "가나다라\n",
      "Python/is/the/best/choice\n",
      "Python,is,the,best,choice\n",
      "Python is the best choice\n",
      "Life is too short\n",
      "Your leg is too short\n"
     ]
    }
   ],
   "source": [
    "### 공백문자 지우기\n",
    "\n",
    "a='     abcd'\n",
    "print(a)\n",
    "print(a.strip())\n",
    "a='abcd     '\n",
    "print(a)\n",
    "print(a.strip()) # 뒤의 공백문자는 마우스로 스크롤 해보기\n",
    "\n",
    "\n",
    "# 안의 공백문자는 데이터이기때문에 지워지지않는다.  \n",
    "a='   ab cd       '\n",
    "print(a)\n",
    "print(a.strip())\n",
    "\n",
    "\n",
    "a='ab가나다라ab'\n",
    "print(a)\n",
    "print(a.strip('ab')) ### 양 옆에 있는 문자열을 제거\n",
    "\n",
    "## 문자열 대체하기\n",
    "a='Python is the best choice'\n",
    "# 'Python/is/the/best/choice'\n",
    "print(a.replace(\" \",\"/\"))\n",
    "a='Python,is,the,best,choice'\n",
    "print(a)\n",
    "print(a.replace(\",\",\" \"))\n",
    "a=\"Life is too short\"\n",
    "print(a)\n",
    "print(a.replace(\"Life\",\"Your leg\"))\n",
    "\n",
    "\n",
    "\n"
   ]
  },
  {
   "cell_type": "code",
   "execution_count": 79,
   "id": "d4b01ea7",
   "metadata": {},
   "outputs": [
    {
     "name": "stdout",
     "output_type": "stream",
     "text": [
      "Life:is:too:short\n",
      "['Life:is:too:short']\n",
      "Life:is:too:short\n",
      "['Life', 'is', 'too', 'short']\n"
     ]
    }
   ],
   "source": [
    "## 문자열 잘라내기 \n",
    "print(a)\n",
    "b=a.split() # 공백문자를 기준으로 잘라주기\n",
    "print(b) \n",
    "a='Life:is:too:short'\n",
    "print(a)\n",
    "b=a.split(\":\") # 문자열을 split하게되면 리스트로 가져온다. \n",
    "print(b)\n",
    "\n",
    "\n"
   ]
  },
  {
   "cell_type": "code",
   "execution_count": 97,
   "id": "d181b046",
   "metadata": {},
   "outputs": [
    {
     "name": "stdout",
     "output_type": "stream",
     "text": [
      "0\n",
      "9\n",
      "9\n",
      "10\n",
      "10\n",
      "8\n",
      "8\n",
      "LIFE IS TOO SHORT\n",
      "life is too short\n",
      "   Life is too short   \n",
      "   Life is too short\n",
      "Life is too short   \n",
      "   Your leg is too short   \n",
      "True\n",
      "False\n",
      "숫자만 있어야 합니다.\n",
      "True\n",
      "True\n",
      "False\n",
      "abcdef\n",
      "True\n"
     ]
    }
   ],
   "source": [
    "########### 정리 ##########\n",
    "\n",
    "\n",
    "a=\"Life is too short\"\n",
    "\n",
    "# count 문자의 개수\n",
    "print(a.count('b'))\n",
    "# 문자의 index를 가져오기\n",
    "print(a.index('o'))\n",
    "print(a.find('o'))\n",
    "print(a.index('o',10))\n",
    "print(a.find('o',10))\n",
    "print(a.find(\"too\")) # 문자열의 경우 맨 앞의 문자의 index를 가져온다.\n",
    "print(a.index(\"too\"))\n",
    "# 대문자 <-> 소문자 바꾸기\n",
    "print(a.upper())\n",
    "print(a.lower())\n",
    "# 공백문자 지우기\n",
    "a=\"   Life is too short   \"\n",
    "print(a)\n",
    "print(a.rstrip())\n",
    "print(a.lstrip())\n",
    "\n",
    "#문자열 대체 \n",
    "print(a.replace(\"Life\",\"Your leg\"))\n",
    "\n",
    "\n",
    "################### 알아두면 좋은 것\n",
    "s=\"01068769495\"\n",
    "print(s.isdigit()) # 문자열이 모두 숫자인지 확인\n",
    "s=\"010-6876-9495\"\n",
    "print(s.isdigit())\n",
    "\n",
    "if s.isdigit():\n",
    "    print(\"숫자만 포함되어 있습니다.\")\n",
    "\n",
    "else: \n",
    "    print(\"숫자만 있어야 합니다.\")\n",
    "    \n",
    "# print(int(s)) 에러. 왜? 문자열에 문자가 있기 때문에 숫자로 변환이 안 된다. \n",
    "\n",
    "s=\"abcdef\"\n",
    "print(s.isalpha())\n",
    "print(s.islower())\n",
    "print(s.isupper())\n",
    "\n",
    "s=\"ABCDEF\"\n",
    "if s.islower():\n",
    "    print(s)\n",
    "else:\n",
    "    print(s.lower())\n",
    "    \n",
    "print(s.isupper())\n",
    "\n",
    "# isdigit, isalphe, islower, isupper 기억해두기\n",
    "\n"
   ]
  },
  {
   "cell_type": "code",
   "execution_count": 103,
   "id": "7f314315",
   "metadata": {},
   "outputs": [
    {
     "name": "stdout",
     "output_type": "stream",
     "text": [
      "[1, 2, 3, 4, 5]\n",
      "['Life', 'is', 'too', 'short']\n",
      "Life is too short\n",
      "['Life', 'is', 'too', 'short']\n",
      "e\n",
      "4\n",
      "Life\n"
     ]
    }
   ],
   "source": [
    "### 리스트 자료형 : 여러 개의 데이터를 저장할 수 있는 자료형 \n",
    "a=1 # 숫자 자료형\n",
    "a=\"1\" # 문자열 자료형\n",
    "a=[1] # 리스트 자료형\n",
    "a=[1,2,3,4,5] # 숫자 리스트\n",
    "print(a)\n",
    "s=['Life','is','too','short'] # 문자열 리스트\n",
    "print(s)\n",
    "\n",
    "\n",
    "## []가 포함되어 있으면 리스트 라고 한다. \n",
    "b='Life is too short'\n",
    "print(b)\n",
    "c=b.split()\n",
    "print(c)   # 문자열을 split하면 리스트를 가져온다\n",
    "\n",
    "\n",
    "\n",
    "\n",
    "b='Life is too short'\n",
    "#  0123456789\n",
    "print(b[3])\n",
    "# 문자열에서 원하는 인덱스를 출력할 수 있다. 리스트도 마찬가지\n",
    "s=['Life','is','too','short']\n",
    "#     0     1     2     3\n",
    "# 리스트 안에 있는 데이터(자료)를 요소라고 한다. \n",
    "# 리스트 안에 있는 각 요소에는 고유의 번호인 index가 있다. \n",
    "# 리스트의 크기 = 요소의 개수  \n",
    "print(len(s)) \n",
    "print(s[0]) # 리스트의 첫 번째 요소\n",
    "\n"
   ]
  },
  {
   "cell_type": "code",
   "execution_count": 25,
   "id": "f70973cb",
   "metadata": {},
   "outputs": [
    {
     "name": "stdout",
     "output_type": "stream",
     "text": [
      "[1, 2, 3, 4, 5]\n",
      "1\n",
      "2\n",
      "3\n",
      "['Life', 'is', 'too', 'short']\n",
      "Life\n",
      "is\n",
      "Life is\n",
      "LifeLifeLife\n",
      "============================================================\n",
      "Life\n",
      "['Life', 'is']\n",
      "Life\n",
      "['Life', 'is']\n",
      "Lf stosot\n",
      "['Life', 'too']\n",
      "short\n"
     ]
    }
   ],
   "source": [
    "# 문자열, 리스트 가져올때 출력값 주의 ※ 리스트로? 문자열로? 슬라이싱?\n",
    "\n",
    "\n",
    "i=[1,2,3,4,5,]\n",
    "print(i)\n",
    "print(i[0]) # 숫자\n",
    "print(i[1]) # 숫자\n",
    "print(i[0]+i[1])\n",
    "s=['Life','is','too','short']\n",
    "print(s)\n",
    "print(s[0]) # 문자열 (리스트에서 요소를 갖고 오므로 문자열로 가져온다.)\n",
    "print(s[1]) # 문자열\n",
    "print(s[0]+\" \"+s[1]) \n",
    "print(s[0]*3)\n",
    "\n",
    "print(\"==\"*30)\n",
    "\n",
    "# 리스트 슬라이싱-> 리스트로 가져온다 ( [] )\n",
    "b= 'Life is too short' # 문자열 \n",
    "print(b[0:4]) # 문자열 그대로 가져옴\n",
    "print(s[0:2]) # 리스트 슬라이싱이므로 리스트로 가져옴 \n",
    "print(b[:4])\n",
    "print(s[:2])\n",
    "print(b[::2])\n",
    "print(s[::2])\n",
    "print(s[-1]) # 슬라이싱이 아니므로 리스트로 갖고오지 않음 "
   ]
  },
  {
   "cell_type": "code",
   "execution_count": 115,
   "id": "5ca48d2b",
   "metadata": {},
   "outputs": [
    {
     "name": "stdout",
     "output_type": "stream",
     "text": [
      "abcdef\n",
      "abcabcabc\n",
      "[1, 2, 3, 4, 5, 6]\n",
      "[1, 2, 3, 1, 2, 3, 1, 2, 3]\n",
      "2\n",
      "[1, 10, 3, 4]\n",
      "[1, 3, 4]\n"
     ]
    }
   ],
   "source": [
    "### 리스트 연산자\n",
    "\n",
    "s='abc'\n",
    "s1='def'\n",
    "\n",
    "print(s+s1)\n",
    "print(s*3)\n",
    "l=[1,2,3]\n",
    "l1=[4,5,6]\n",
    "print(l+l1)\n",
    "print(l*3)\n",
    "\n",
    "\n",
    "\n",
    "# 문자열에서는 문자를 변경할 수 없음\n",
    "# 리스트에서는? 바뀐다 \n",
    "\n",
    "l=[1,2,3,4]\n",
    "print(l[1])\n",
    "\n",
    "l[1]=10\n",
    "print(l)\n",
    "\n",
    "# 리스트 요소 삭제\n",
    "del l[1]\n",
    "print(l)\n"
   ]
  },
  {
   "cell_type": "code",
   "execution_count": 30,
   "id": "54274f9b",
   "metadata": {},
   "outputs": [
    {
     "name": "stdout",
     "output_type": "stream",
     "text": [
      "[1, 2, 3, 4, 5]\n",
      "[1, 2, 3, 4, 5, 6]\n",
      "[1, 3, 4]\n",
      "[2, 4, 3, 1, 5]\n",
      "[1, 2, 3, 4, 5]\n",
      "[5, 4, 3, 2, 1]\n",
      "[5, 1, 3, 4, 2]\n"
     ]
    }
   ],
   "source": [
    "### 리스트에서 사용하는 기본 함수\n",
    "\n",
    "# 리스트 뒤에 요소 추가\n",
    "l=[1,2,3,4]\n",
    "l.append(5)\n",
    "print(l)\n",
    "\n",
    "# 리스트 뒤에 리스트 추가\n",
    "l=[1,2,3,4]\n",
    "l.extend([5,6])\n",
    "print(l)\n",
    "\n",
    "# 리스트 정렬\n",
    "l=[2,4,3,1,5]\n",
    "print(l)\n",
    "l.sort() # 리스트의 요소를 오름차순으로 정렬\n",
    "print(l)\n",
    "l.sort(reverse=True) # 리스트에 있는 요소를 역순으로 정렬 (내림차순)\n",
    "print(l)\n",
    "\n",
    "l=[2,4,3,1,5]\n",
    "l.reverse() # 거꾸로 저장\n",
    "print(l)\n",
    "\n"
   ]
  },
  {
   "cell_type": "code",
   "execution_count": 124,
   "id": "71e625ac",
   "metadata": {},
   "outputs": [
    {
     "name": "stdout",
     "output_type": "stream",
     "text": [
      "6\n",
      "6\n",
      "2\n"
     ]
    }
   ],
   "source": [
    "s='Life is too short'\n",
    "print(s.index('s'))\n",
    "print(s.find('s'))\n",
    "# print(s.index('y')) 없는 데이터는 오류 발생\n",
    "\n",
    "l=[2,4,3,1,5]\n",
    "print(l.index(3))\n",
    "# print(l.find(3)) 리스트는 find 사용 불가능\n",
    "# print(l.index(6)) 없는 데이터는 오류 발생"
   ]
  },
  {
   "cell_type": "code",
   "execution_count": 144,
   "id": "2d1cc9ee",
   "metadata": {},
   "outputs": [
    {
     "name": "stdout",
     "output_type": "stream",
     "text": [
      "[1, 2, 3, 4, 5, 6]\n",
      "[1, 2, 3, 4, 5, 6, 7]\n",
      "[1, 2, 10, 3, 4, 5, 6, 7]\n",
      "[1, 2, 10, 3, 4, 20, 5, 6, 7]\n",
      "[1, 2, 3, 4, 20, 6, 7]\n",
      "[1, 2, 10, 3, 4, 6, 7]\n",
      "[1, 2, 3, 20, 5, 7]\n",
      "[1, 2, 3, 20, 5]\n",
      "5\n",
      "[1, 2, 20]\n",
      "[1, 2, 3, (10, 20), 4, 5]\n",
      "[1, 2, 3, 4, 5, 10, 20]\n"
     ]
    }
   ],
   "source": [
    "\n",
    "# append와 달리 insert는 원하는 위치에 \"삽입\" 가능\n",
    "\n",
    "l=[1,2,3,4,5]\n",
    "l.append(6)\n",
    "print(l)\n",
    "l.append(7)\n",
    "print(l)\n",
    "\n",
    "##  insert\n",
    "l.insert(2,10)\n",
    "print(l)\n",
    "l.insert(5,20)\n",
    "print(l)\n",
    "\n",
    "\n",
    "\n",
    "# 리스트 인덱스를 이용한 삭제 del \n",
    "# 위치를 알려줘서 요소를 삭제한다. \n",
    "l=[1,2,10,3,4,20,6,7]\n",
    "del l[2]\n",
    "print(l)\n",
    "\n",
    "## remove \n",
    "# del과 달리 remove는 요소의 위치를 모르고 값만 알아도 \"삭제\" 가능 \n",
    "l=[1,2,10,3,4,20,6,7]\n",
    "l.remove(20)\n",
    "print(l)\n",
    "\n",
    "\n",
    "\n",
    "\n",
    "# pop 함수를 이용해서 삭제\n",
    "l=[1,2,3,20,5,7]\n",
    "print(l)\n",
    "l.pop() # 뒤에서부터 지워진다\n",
    "print(l)\n",
    "result=l.pop() # pop은 삭제한 데이터를 가지고 나온다. -> 삭제  \n",
    "print(result)\n",
    "l.pop(2) #index를 이용해서 요소 삭제\n",
    "print(l)\n",
    "\n",
    "\n",
    "# append로는 여러 소로를 한꺼번에 저장할 수 없다. 하나의 요소만 가능\n",
    "# insert는 index를 알아야 저장할 수 있고, 원하는 형태로 들어가지 않는다.\n",
    "\n",
    "l=[1,2,3,4,5]\n",
    "l.insert(3,(10,20)) # index 3에 10,20을 넣겠다\n",
    "print(l)\n",
    "l=[1,2,3,4,5]\n",
    "## extend\n",
    "l.extend([10,20])\n",
    "print(l)\n",
    "\n"
   ]
  },
  {
   "cell_type": "code",
   "execution_count": 166,
   "id": "55bf9fd0",
   "metadata": {
    "scrolled": false
   },
   "outputs": [
    {
     "name": "stdout",
     "output_type": "stream",
     "text": [
      "[]\n",
      "[1]\n",
      "[1, 2]\n",
      "2\n",
      "Rhee\n",
      "[5, 6, 7, 8]\n"
     ]
    }
   ],
   "source": [
    "\n",
    "l=[1,2,3]\n",
    "l.pop()\n",
    "l.pop()\n",
    "l.pop()\n",
    "print(l)\n",
    "l=[] # 빈리스트\n",
    "l.append(1)\n",
    "print(l)\n",
    "l.append(2)\n",
    "print(l) # 빈리스트를 채울 수 있다. \n",
    "\n",
    "\n",
    "l=[1,2,3,4]\n",
    "l=[1,2,3,4,'Rhee','Soong','Moo',5,6,7] # 혼합형 리스트\n",
    "#  0 1 2 3    4      5      6   7 8 9 \n",
    "print(l[1])\n",
    "print(l[4])\n",
    "l=[1,2,3,4,[5,6,7,8],'Rhee'] # 리스트를 포함하고 있는 리스트\n",
    "#  0 1 2 3     4        5\n",
    "print(l[4])\n"
   ]
  },
  {
   "cell_type": "code",
   "execution_count": null,
   "id": "5acbfac6",
   "metadata": {},
   "outputs": [],
   "source": []
  },
  {
   "cell_type": "code",
   "execution_count": null,
   "id": "3923f57f",
   "metadata": {},
   "outputs": [],
   "source": [
    "\n"
   ]
  },
  {
   "cell_type": "code",
   "execution_count": null,
   "id": "587e2573",
   "metadata": {},
   "outputs": [],
   "source": []
  },
  {
   "cell_type": "code",
   "execution_count": null,
   "id": "5b222629",
   "metadata": {},
   "outputs": [],
   "source": []
  },
  {
   "cell_type": "code",
   "execution_count": null,
   "id": "2ce1b62f",
   "metadata": {},
   "outputs": [],
   "source": []
  },
  {
   "cell_type": "code",
   "execution_count": null,
   "id": "48f71811",
   "metadata": {},
   "outputs": [],
   "source": []
  },
  {
   "cell_type": "code",
   "execution_count": null,
   "id": "ebdc8c68",
   "metadata": {},
   "outputs": [],
   "source": [
    "\n",
    "\n"
   ]
  },
  {
   "cell_type": "code",
   "execution_count": 153,
   "id": "a67113b4",
   "metadata": {},
   "outputs": [
    {
     "name": "stdout",
     "output_type": "stream",
     "text": [
      "Life\n",
      "L\n",
      "L\n",
      "['Life', 'is', 'too']\n",
      "============================================================\n",
      "short\n",
      "ho\n",
      "ho\n",
      "1\n",
      "1\n"
     ]
    }
   ],
   "source": [
    "l=[\"Life\",\"is\", \"too\", \"short\"]\n",
    "#     0     1      2      3\n",
    "print(l[0])   # Life\n",
    "#               0123\n",
    "print(\"Life\"[0])     # Life = l[0] \n",
    "print(l[0][0]) \n",
    "print(l[0:3])\n",
    "\n",
    "print(\"==\"*30)\n",
    "\n",
    "print(l[3]) #short\n",
    "print(l[3][1:3])\n",
    "print(\"short\"[1:3])\n",
    "\n",
    "\n",
    "l=[1,2,3,4]\n",
    "print(l[0])\n",
    "print([1,2,3,4][0])"
   ]
  },
  {
   "cell_type": "code",
   "execution_count": 160,
   "id": "8c201366",
   "metadata": {},
   "outputs": [
    {
     "name": "stdout",
     "output_type": "stream",
     "text": [
      "[5, 6, 7, 8]\n",
      "7\n",
      "[6, 7]\n",
      "[2, 3, 4, [5, 6, 7, 8]]\n",
      "Life is\n",
      "too\n",
      "12\n"
     ]
    }
   ],
   "source": [
    "l=[1,2,3,4,[5,6,7,8],\"Life is too short\",9,10,[11,12,13]]\n",
    "#  0 1 2 3     4             5           6 7       8\n",
    "print(l[4])\n",
    "# 7?\n",
    "print(l[4][2])\n",
    "# 6,7?\n",
    "print(l[4][1:3])\n",
    "# 2,3,4,[5,6,7,8]?\n",
    "print(l[1:5])\n",
    "# 문자열에서 Life is?\n",
    "print(l[5][:7])\n",
    "# too?\n",
    "print(l[5][8:11])\n",
    "# 12?\n",
    "print(l[8][1])\n"
   ]
  },
  {
   "cell_type": "code",
   "execution_count": 178,
   "id": "162b6e27",
   "metadata": {},
   "outputs": [
    {
     "name": "stdout",
     "output_type": "stream",
     "text": [
      "[6, 7, 8, 9]\n",
      "7\n",
      "[7, 8]\n",
      "KimYeEun\n",
      "['a', 'b', 'KimYeEun', 'c', 'd']\n",
      "KimYeEun\n",
      "KimYeEun\n",
      "KimYeEun\n",
      "Ye\n",
      "Ye\n"
     ]
    }
   ],
   "source": [
    "# 리스트 안의 리스트\n",
    "\n",
    "l=[1,2,3,[4,5,[6,7,8,9],10,11],12,13]\n",
    "#  0 1 2          3             4  5\n",
    "#         0 1     2      3  4\n",
    "#              0 1 2 3 \n",
    "\n",
    "# [6,7,8,9]?\n",
    "print(l[3][2])\n",
    "# 7?\n",
    "print(l[3][2][1])\n",
    "# 7,8?\n",
    "print(l[3][2][1:3])\n",
    "\n",
    "\n",
    "\n",
    "\n",
    "l=[1,2,3,['a','b','KimYeEun','c','d'],4,5]\n",
    "#  0 1 2              3               4 5 \n",
    "#          0   1      2       3   4   \n",
    "#                  01234567\n",
    "\n",
    "# KimYeEun?\n",
    "print(l[3][2])\n",
    "\n",
    "c=l[3]\n",
    "print(l[3])\n",
    "# KimYeEun?\n",
    "print(c[2])\n",
    "print(l[3][2])\n",
    "d=l[3][2]\n",
    "print(d)\n",
    "# Ye?\n",
    "print(d[3:5])\n",
    "print(l[3][2][3:5]) \n",
    "\n",
    "\n",
    "\n",
    "\n",
    "\n",
    "\n",
    "l=[1,2,3,['a','b','c',[4,5,6,],'d','e'],[7,8,9,[10,11],12],13]\n",
    "#  0 1 2              3                           4         5\n",
    "#          0   1   2      3     4    5   0 1 2    3    4\n",
    "#                      0 1 2                    0  1\n",
    "\n",
    "# c?\n",
    "print(l[3][2])\n",
    "# 4,5,6?\n",
    "print(l[3][3])\n",
    "# 5?\n",
    "print(l[3][3][1])\n",
    "# 10?\n",
    "print(l[4][3][0])\n",
    "\n",
    "\n",
    "\n",
    "\n",
    "# indexing과 slicing은 계속 반복해줘야한다.\n",
    "\n"
   ]
  },
  {
   "cell_type": "code",
   "execution_count": null,
   "id": "358a7c6c",
   "metadata": {},
   "outputs": [],
   "source": []
  },
  {
   "cell_type": "code",
   "execution_count": null,
   "id": "d21ef179",
   "metadata": {},
   "outputs": [],
   "source": []
  },
  {
   "cell_type": "code",
   "execution_count": null,
   "id": "15d3ec64",
   "metadata": {},
   "outputs": [],
   "source": []
  },
  {
   "cell_type": "code",
   "execution_count": null,
   "id": "6c7761b9",
   "metadata": {},
   "outputs": [],
   "source": []
  },
  {
   "cell_type": "code",
   "execution_count": null,
   "id": "04ac196a",
   "metadata": {},
   "outputs": [],
   "source": []
  },
  {
   "cell_type": "code",
   "execution_count": null,
   "id": "0c0590bf",
   "metadata": {},
   "outputs": [],
   "source": []
  },
  {
   "cell_type": "code",
   "execution_count": null,
   "id": "60f11642",
   "metadata": {},
   "outputs": [],
   "source": []
  },
  {
   "cell_type": "code",
   "execution_count": null,
   "id": "50ddf3d5",
   "metadata": {},
   "outputs": [],
   "source": []
  },
  {
   "cell_type": "code",
   "execution_count": null,
   "id": "cda6de8a",
   "metadata": {},
   "outputs": [],
   "source": []
  },
  {
   "cell_type": "code",
   "execution_count": null,
   "id": "b9a87927",
   "metadata": {},
   "outputs": [],
   "source": [
    "\n",
    "\n",
    "\n",
    "\n",
    "\n",
    "\n",
    "\n",
    "\n",
    "\n"
   ]
  },
  {
   "cell_type": "code",
   "execution_count": null,
   "id": "7c3471d2",
   "metadata": {},
   "outputs": [],
   "source": [
    "\n"
   ]
  },
  {
   "cell_type": "code",
   "execution_count": 202,
   "id": "ef5ff0b3",
   "metadata": {
    "scrolled": true
   },
   "outputs": [
    {
     "name": "stdout",
     "output_type": "stream",
     "text": [
      "1\n",
      "(1,)\n",
      "[1]\n",
      "(1, 2, 3, 4, 5)\n",
      "3\n",
      "[2, 3, 4]\n",
      "3\n",
      "(2, 3, 4)\n",
      "============================================================\n",
      "[1, 3, 4, 5]\n",
      "(1, 2, 3, 4)\n",
      "[4, 5]\n",
      "[1, 2, 3, 4, 5]\n",
      "2\n",
      "2\n",
      "[1, 2, 3, 4]\n",
      "(1, 2, 3, 4)\n",
      "3\n",
      "[1, 2, 10, 4]\n",
      "3\n",
      "(1, 2, 3, 4)\n",
      "[1, 2, 4]\n",
      "============================================================\n"
     ]
    }
   ],
   "source": [
    "# 튜플 자료형 : () 로 되어있음\n",
    "\n",
    "t=(1) # 튜플 아니다. 왜? () 는 최우선 연산자이므로 정수로 인식한다. \n",
    "print(t)\n",
    "t=(1,) # 튜플 자료형인 경우 요소가 한개이면 ',' 가 있어야 한다.\n",
    "print(t)\n",
    "l=[1] # 리스트는 [] 같이 출력\n",
    "print(l)\n",
    "t=(1,2,3,4,5) # ','가 들어가기 때문에 최우선 연산자가 아니라 튜플로 인식한다.\n",
    "print(t)\n",
    "\n",
    "l=[1,2,3,4,5]\n",
    "print(l[2])\n",
    "print(l[1:4])\n",
    "t=(1,2,3,4,5)\n",
    "print(t[2])\n",
    "print(t[1:4])\n",
    "\n",
    "print(\"==\"*30)\n",
    "\n",
    "t=(1,2,3,4,[1,3,4,5,],6,(1,2,3,4))\n",
    "#  0 1 2 3      4     5     6\n",
    "#           0 1 2 3      0 1 2 3 \n",
    "print(t[4])\n",
    "print(t[6])\n",
    "print(t[4][2:4])\n",
    "print(l)\n",
    "print(l.index(3))\n",
    "print(t.index(3))\n",
    "\n",
    "# 리스트와 튜플의 차이가 없다!?\n",
    "\n",
    "\n",
    "\n",
    "\n",
    "l=[1,2,3,4]\n",
    "t=(1,2,3,4)\n",
    "print(l)\n",
    "print(t)\n",
    "\n",
    "print(l[2])\n",
    "l[2]=10    ### 리스트에 있는 요소의 값은 변경할 수 있다.\n",
    "print(l)\n",
    "\n",
    "print(t[2])\n",
    "'''\n",
    "t[2]=10    # 튜플은 요소의 값을 변경할 수 없다.\n",
    "'''\n",
    "print(t)\n",
    "\n",
    "\n",
    "del l[2]\n",
    "print(l)\n",
    "\n",
    "#  del t[2] 튜플은 요소를 삭제할 수도 없다.\n",
    "\n",
    "\n",
    "\n",
    "\n",
    "print(\"==\"*30)\n",
    "\n",
    "t=() # 빈튜플\n",
    "t1=(1,) # 요소가 하나인 튜플\n",
    "t2=(1,2,3,4) # 정수형 튜플\n",
    "t3=('a','b','c') # 문자열 튜플\n",
    "t4=(1,2,3,'a','b','c',4,5) # 혼합형 튜플\n",
    "t5=(1,2,3,4,[5,6,7],(8,9,10),'a','b',11)\n",
    "\n",
    "\n",
    "\n",
    "\n"
   ]
  },
  {
   "cell_type": "code",
   "execution_count": 218,
   "id": "b87bbdc7",
   "metadata": {
    "scrolled": true
   },
   "outputs": [
    {
     "name": "stdout",
     "output_type": "stream",
     "text": [
      "나의 이름은 김예은이고 나이는 27이며 키는 168.900000이다.\n",
      "나의 이름은 김예은이고 나이는 27이며 키는 168.900000이다.\n",
      "('abcde', 'fghijk', 'aaaa')\n",
      "abcde\n",
      "de\n"
     ]
    }
   ],
   "source": [
    "name='김예은'\n",
    "age=27\n",
    "height=168.9\n",
    "print(\"나의 이름은 %s이고 나이는 %d이며 키는 %f이다.\"  % \\\n",
    "      (name,age,height))\n",
    "print(\"나의 이름은 %s이고 나이는 %d이며 키는 %f이다.\"  % \\\n",
    "      ('김예은',27,168.9))\n",
    "\n",
    "#  ('김예은',27,168.9) 는 튜플 자료형이다. \n",
    "\n",
    "\n",
    "\n",
    "\n",
    "t=(1,2,3,('abcde','fghijk','aaaa'),[1,2,3])\n",
    "#  0 1 2              3               4\n",
    "\n",
    "print(t[3])\n",
    "# abcde?\n",
    "print(t[3][0])\n",
    "# de\n",
    "print(t[3][0][3:])\n",
    "\n",
    "## 정리\n",
    "\n",
    "# 숫자, 문자열, 리스트:[], 튜플:()"
   ]
  },
  {
   "cell_type": "code",
   "execution_count": 38,
   "id": "2110fab4",
   "metadata": {},
   "outputs": [
    {
     "name": "stdout",
     "output_type": "stream",
     "text": [
      "[4, 20, 6]\n"
     ]
    }
   ],
   "source": [
    "##### 문제\n",
    "\n",
    "t=(1,2,3,[4,5,6],(7,8,9))\n",
    "#  0 1 2    3       4\n",
    "\n",
    "t[3][1]=20                  ###### 튜플 안의 리스트! \"리스트\"이므로 값을 바꿀 수 있다. \n",
    "print(t[3])\n",
    "\n",
    "#t[4][1]=20                 ###### t[4] 는 튜플 자료형이므로 값을 바꿀 수 없다. \n"
   ]
  },
  {
   "cell_type": "code",
   "execution_count": null,
   "id": "5cec8d2e",
   "metadata": {},
   "outputs": [],
   "source": []
  },
  {
   "cell_type": "code",
   "execution_count": null,
   "id": "ef06f8fd",
   "metadata": {},
   "outputs": [],
   "source": []
  },
  {
   "cell_type": "code",
   "execution_count": null,
   "id": "912e47e3",
   "metadata": {},
   "outputs": [],
   "source": []
  },
  {
   "cell_type": "code",
   "execution_count": null,
   "id": "825a7825",
   "metadata": {},
   "outputs": [],
   "source": []
  },
  {
   "cell_type": "code",
   "execution_count": null,
   "id": "b4ea091f",
   "metadata": {},
   "outputs": [],
   "source": []
  },
  {
   "cell_type": "code",
   "execution_count": null,
   "id": "65f625ba",
   "metadata": {},
   "outputs": [],
   "source": []
  },
  {
   "cell_type": "code",
   "execution_count": null,
   "id": "7717ea49",
   "metadata": {},
   "outputs": [],
   "source": []
  },
  {
   "cell_type": "code",
   "execution_count": null,
   "id": "c0ddf27d",
   "metadata": {},
   "outputs": [],
   "source": [
    "\n",
    "\n",
    "\n",
    "\n",
    "\n",
    "\n",
    "\n",
    "\n"
   ]
  },
  {
   "cell_type": "code",
   "execution_count": 234,
   "id": "157f9ffe",
   "metadata": {},
   "outputs": [
    {
     "name": "stdout",
     "output_type": "stream",
     "text": [
      "1\n",
      "{'name': '김예은', 'phone': '01068769495', 'birth': '0925'}\n",
      "김예은\n",
      "01068769495\n",
      "0925\n",
      "예\n",
      "{1: '김', 0: 27, 3: 10}\n",
      "1\n",
      "김\n",
      "[1, 2, 3]\n",
      "(1, 2, 4)\n",
      "[1, 2, 3]\n",
      "2\n",
      "============================================================\n",
      "{1: 'b'}\n",
      "b\n",
      "{1: '김'}\n",
      "{1: '김', 2: '예', 3: '은'}\n"
     ]
    }
   ],
   "source": [
    "\n",
    "# 딕셔너리 (사전):{단어와 뜻} 으로 이뤄진 것 {키,값}\n",
    "# {키1:값1, 키2:값2, 키3:값3,...}\n",
    "# 딕셔너리는 키와 값을 쌍으로 묶은 자료형이다. \n",
    "i=1\n",
    "s='1'\n",
    "l=[1]\n",
    "t=(1,)\n",
    "dic={'a':1}              #dic = {a:1} xxxx변수는 키값으로 사용할수 없다. \n",
    "print(dic['a'])   \n",
    "\n",
    "#dic[키], 딕셔너리는 index를 사용하지 않는다. \n",
    "# 키, 값 모두 정수일 수 있기 떄문에 딕셔너리에서는 무조건 키만 사용할 수 있다.     \n",
    "\n",
    "dic={'name':'김예은','phone':'01068769495','birth':'0925'}\n",
    "print(dic)\n",
    "print(dic['name'])\n",
    "print(dic['phone'])\n",
    "print(dic['birth'])\n",
    "\n",
    "\n",
    "# 키는 리터널(숫자,문자열)이다. 그렇다면 리스트는 사용 가능할까? X불가능X\n",
    "dic={1:'김',0:'예',3:10}\n",
    "print(dic[0])\n",
    "dic[0]=27\n",
    "print(dic)\n",
    "\n",
    "dic={1:'김','나이':35,2:'예'} # [1]:'은' 은 불가능하다. 키는 리스트일 수 없다. \n",
    "\n",
    "\n",
    "\n",
    "# 반면에 값은 리스트,튜플도 가능하다. \n",
    "dic={1:1,2:2,3:3}\n",
    "print(dic[1])\n",
    "dic[1]='김'\n",
    "dic[2]=[1,2,3]\n",
    "dic[3]=(1,2,4)\n",
    "print(dic[1])\n",
    "print(dic[2])\n",
    "print(dic[3])\n",
    "\n",
    "\n",
    "print(dic[2]) # 의 출력결과 : [1,2,4] 로 리스트다 -> 인덱스가 존재한다.\n",
    "print(dic[2][1]) # 2만 출력하고 싶다면?\n",
    "\n",
    "\n",
    "\n",
    "print(\"==\"*30)\n",
    "\n",
    "# 딕셔너리는 중복키를 인정하지 않는다. 즉 키는 유일성을 갖는다.\n",
    "# 중복키가 있는 경우 \"마지막 값\"을 갖는다. \n",
    "dic={1:'a',1:'b'}\n",
    "print(dic)\n",
    "print(dic[1])\n",
    "dic[1]='김'\n",
    "print(dic)\n",
    "dic[2]='예'\n",
    "dic[3]='은'\n",
    "print(dic)    # 키가 있으면 값의 변경이 가능하며, 키가 없으면 추가가 가능하다. "
   ]
  },
  {
   "cell_type": "code",
   "execution_count": 240,
   "id": "22374463",
   "metadata": {
    "scrolled": true
   },
   "outputs": [
    {
     "name": "stdout",
     "output_type": "stream",
     "text": [
      "{}\n",
      "1995\n",
      "0925\n",
      "09\n",
      "25\n"
     ]
    }
   ],
   "source": [
    "dic={}\n",
    "print(dic)\n",
    "\n",
    "# 키 값은 변수일 수 없다. 문자열에 '' 가 없으면 변수가 되므로 꼭 잊지말기! \n",
    "dic['name']='김예은'\n",
    "dic['phone']='01068769495'\n",
    "dic['birth']='19950925'\n",
    "\n",
    "### 문제 : 생년월일에서 년만 가져오시오.\n",
    "print(dic['birth'][:4])\n",
    "\n",
    "### 문제 : 생년월일에서 월과 일을 출력하시오.\n",
    "print(dic['birth'][4:])\n",
    "print(dic['birth'][4:6])\n",
    "print(dic['birth'][-2:])\n",
    "\n",
    "\n"
   ]
  }
 ],
 "metadata": {
  "kernelspec": {
   "display_name": "Python 3 (ipykernel)",
   "language": "python",
   "name": "python3"
  },
  "language_info": {
   "codemirror_mode": {
    "name": "ipython",
    "version": 3
   },
   "file_extension": ".py",
   "mimetype": "text/x-python",
   "name": "python",
   "nbconvert_exporter": "python",
   "pygments_lexer": "ipython3",
   "version": "3.8.12"
  }
 },
 "nbformat": 4,
 "nbformat_minor": 5
}
