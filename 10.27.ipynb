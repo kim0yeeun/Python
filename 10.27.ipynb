{
 "cells": [
  {
   "cell_type": "code",
   "execution_count": 1,
   "id": "170e6236",
   "metadata": {},
   "outputs": [
    {
     "name": "stdout",
     "output_type": "stream",
     "text": [
      "hello python\n"
     ]
    }
   ],
   "source": [
    "print(\"hello python\")"
   ]
  },
  {
   "cell_type": "code",
   "execution_count": 19,
   "id": "e179c934",
   "metadata": {},
   "outputs": [
    {
     "name": "stdout",
     "output_type": "stream",
     "text": [
      "실행1\n",
      "실행2\n",
      "파이썬은쉬워요\n",
      "파이썬은쉬워요\n",
      "파이썬은쉬워요\n",
      "실행1\n",
      "실행2\n",
      "1\n",
      "True\n"
     ]
    }
   ],
   "source": [
    "print(\"실행1\")\n",
    "print(\"실행2\")\n",
    "# 파이썬의 명령문은 줄단위이다.\n",
    "print(\"파이썬은\"\n",
    "      +\"쉬워요\")\n",
    "# 일반적으로 이렇게하면 에러가 생길 수 있다. (쥬피터라 ㄱㅊ)\n",
    "print(\"파이썬은\"+\"쉬워요\")\n",
    "# 한줄에 작성해야한다\n",
    "print(\"파이썬은\"\\\n",
    "      +\"쉬워요\")\n",
    "# 명령어가 길 경우? 역슬래쉬(\\)한 후에 행을 바꾸면 정상적으로 동작한다. \n",
    "\n",
    "print(\"실행1\"); print(\"실행2\")\n",
    "# 여러개의 명령어를 한 줄에 사용하고 싶을 때 세미콜론(;)사용\n",
    "\n",
    "num=1\n",
    "if num>=1:\n",
    "    print(\"1\")\n",
    "    if 1==1:\n",
    "        print(\"True\")\n",
    "# if문처럼 (콜론):를 써야하는 경우에는 들여쓰기 (tap) 사용해야 에러가 나지 않는다."
   ]
  },
  {
   "cell_type": "code",
   "execution_count": 24,
   "id": "c53cd990",
   "metadata": {},
   "outputs": [
    {
     "name": "stdout",
     "output_type": "stream",
     "text": [
      "1\n",
      "11\n",
      "-9\n",
      "10\n",
      "0.1\n",
      "1\n",
      "1\n",
      "11\n",
      "-9\n",
      "10\n",
      "0.1\n"
     ]
    }
   ],
   "source": [
    "# 리터널 : 언어(한국어,영어,중국어등) 와 숫자(정수,실수,지수)\n",
    "# 문자열 리터널, 숫자 리터널\n",
    "\n",
    "# 숫자형 : 숫자 리터널\n",
    "### 1, 2, 10, 0.5, 10.6 등 \n",
    "### +, -, *, /\n",
    "print(1)\n",
    "print(1+10)\n",
    "print(1-10)\n",
    "print(1*10)\n",
    "print(1/10)\n",
    "### 리터널 값을 저장하는 것을 변수라고 한다.\n",
    "\n",
    "가=1 ## '='을 대입\n",
    "print(가)\n",
    "# 파이썬을 제외한 다른 언어는 한글 사용이 불가하므로 보통 한글은 사용하지 않는다.\n",
    "a=1 \n",
    "print(a)\n",
    "b=10\n",
    "print(a+b)\n",
    "print(a-b)\n",
    "print(a*b)\n",
    "print(a/b)\n"
   ]
  },
  {
   "cell_type": "code",
   "execution_count": 32,
   "id": "ee7a6c60",
   "metadata": {},
   "outputs": [
    {
     "name": "stdout",
     "output_type": "stream",
     "text": [
      "1\n",
      "10\n",
      "10\n",
      "3\n",
      "3.3333333333333335\n",
      "1\n",
      "3\n",
      "1000\n",
      "9\n"
     ]
    }
   ],
   "source": [
    "a=1\n",
    "b=10\n",
    "print(a)\n",
    "print(b)\n",
    "\n",
    "\n",
    "# 하나의 변수는 하나의 값만 저장하므로 마지막 값만 저장한다.\n",
    "\n",
    "a=10\n",
    "b=3\n",
    "print(a)\n",
    "print(b)\n",
    "\n",
    "c=a/b # 나누기\n",
    "print(c)\n",
    "c=a%b # 나머지\n",
    "print(c)\n",
    "c=a//b # 몫\n",
    "print(c)\n",
    "c=a**b # 제곱승\n",
    "print(c)\n",
    "\n",
    "### 숫자 리터널 연산자 : +, -, *, /, %, //, ** "
   ]
  },
  {
   "cell_type": "code",
   "execution_count": 3,
   "id": "121e09e9",
   "metadata": {},
   "outputs": [
    {
     "name": "stdout",
     "output_type": "stream",
     "text": [
      "f\n",
      "2\n",
      "11\n",
      "12\n",
      "Life is too short, You need Python.\n",
      "Life is too short, You need Python.\n",
      "Life is too short, \"You need Python.\"\n",
      "Life is too short, \"You need Python.\"\n",
      "이\n",
      "숭\n",
      "무\n",
      "이\n",
      "숭\n",
      "무\n",
      "Life is too short,\n",
      "You need Python.\n",
      "5\n",
      "a\n",
      "1\n",
      "1\n"
     ]
    }
   ],
   "source": [
    "# 문자열 리터널 : a, b, c, 가, 나\n",
    "# print(a) 의 a는 변수를 뜻하며 문자열 리너털이 아니다. \n",
    "# 변수와 문자열을 구분하기위한 기호 : \" \" 문자열을 뜻함 ('' 도 포함 )\n",
    "\n",
    "print(\"f\")\n",
    "print(1+1) # 숫자\n",
    "print(\"1\"+\"1\") # 문자열\n",
    "print(\"1\"+\"2\") # 문자열이기 때문에 1과 2가 이어서 출력이 됨. \n",
    "\n",
    "# 각자의 의미 잘 알고 다음에 주의 ※※※\n",
    "\n",
    "\n",
    "print(\"Life is too short, You need Python.\")\n",
    "print('Life is too short, You need Python.')\n",
    "# 파이썬은 자바등 다른 언어와 달리 문자열 사용시 \"\" 과 '' 둘 다 사용 가능하다. \n",
    "'''print('Life's too short, You need Python.')''' #''''''' 얘도 주석으로 사용 가능\n",
    "# 인용어를 쓸 때 이런 문제가 발생하기때문에 둘 다 사용 가능하게 만들었다. \n",
    "print('Life is too short, \"You need Python.\"')\n",
    "# 이렇게 동시에 사용하면 정상적으로 작동한다. \n",
    "print(\"Life is too short, \\\"You need Python.\\\"\")\n",
    "# \\\" 즉, 기호 앞에 역슬래쉬(\\)를 사용해주면 문자열이 아니라 문자로서 사용하겠다는\n",
    "      # 의미로 되어 사용가능하다. (예외, 제외)\n",
    "\n",
    "'''\n",
    "print('이\n",
    "      숭\n",
    "      무')\n",
    "'''\n",
    "      \n",
    "print('''이\n",
    "숭\n",
    "무''') ### 행 바꿈 문자 시용\n",
    "print(\"\"\"이\n",
    "숭\n",
    "무\"\"\")\n",
    "\n",
    "print(\"\"\"Life is too short,\n",
    "You need Python.\"\"\")\n",
    "\n",
    "### 문자열리터널을 나타내는 기호 : \"\", '', \"\"\"\"\"\", ''''''\n",
    "\n",
    "a=5\n",
    "print(a) # 변수 a\n",
    "print(\"a\") # 문자열 a\n",
    "print(1) # 숫자1\n",
    "print(\"1\") # 문자열 1"
   ]
  },
  {
   "cell_type": "code",
   "execution_count": 49,
   "id": "85ce1f8d",
   "metadata": {
    "scrolled": false
   },
   "outputs": [
    {
     "name": "stdout",
     "output_type": "stream",
     "text": [
      "Python \n",
      "is fun\n",
      "2\n",
      "Python is fun\n",
      "Python Python Python \n"
     ]
    }
   ],
   "source": [
    "head=\"Python \"\n",
    "tail=\"is fun\"\n",
    "print(head)\n",
    "print(tail)\n",
    "\n",
    "print(1+1) # 숫자에서 + 는 더하기 연산자\n",
    "print(head+tail) # 문자열에서 + 는 붙이기 연산자\n",
    "# print(1+\"1\") 숫자와 문자열은 +연산할 수 없다. 즉 자료형이 다르면 +연산 불가능\n",
    "\n",
    "print(head*3) # 문자열에서 *는 반복 연산자\n",
    "\n",
    "## 문자열에서 연산자는 +,* 두 개의 연산자가 존재한다. \n",
    "## 숫자에서 연산자는 +, -, *, /, %, **, // 존재한다.\n",
    "## 자료형에 따라서 연산자의 용도는 달라질 수 있다. \n",
    "\n",
    "\n"
   ]
  },
  {
   "cell_type": "code",
   "execution_count": 65,
   "id": "995683bd",
   "metadata": {},
   "outputs": [
    {
     "name": "stdout",
     "output_type": "stream",
     "text": [
      "Life is too short, You need python\n",
      "34\n",
      "s\n",
      "Y\n",
      "s\n",
      "n\n",
      "n\n",
      "e\n",
      "Life\n",
      "Life\n",
      "Life \n",
      "Life \n",
      "Life\n",
      "o sho\n",
      "o sho\n"
     ]
    }
   ],
   "source": [
    "# 문자열 인덱싱과 슬라이싱\n",
    "\n",
    "a=\"Life is too short, You need python\"\n",
    "#  0123456789012345678901234567890123\n",
    "#       1          2         3\n",
    "#  4321098765432109876543210987654321-\n",
    "#       1          2         3\n",
    "\n",
    "print(a)\n",
    "print(len(a)) # len() : 자료의 크기를 확인\n",
    "\n",
    "# index : 문자열에서 각 문자가 가지고 있는 번호 :[0] 부터 시작 \n",
    "# index의 마지막 번호는 크기보다 1 작다. \n",
    "\n",
    "print(a[12])\n",
    "print(a[19])\n",
    "print(a[6])\n",
    "print(a[33])\n",
    "print(a[-1]) #33이랑 -1 의 값은 같다. \n",
    "# indexing : 각 문자가 가지고 있는 고유의 번호를 이용해서\n",
    "# 원하는 문자를 가지고 오는 것을 말한다. \n",
    "### index번호 24번과 같은 마이너스 번호는 몇번?\n",
    "print(a[-10])\n",
    "\n",
    "### 문제 : 변수 a에 있는 문자열에서 life만 출력하시오 (+연산자 사용)\n",
    "\n",
    "print(a[0]+a[1]+a[2]+a[3])\n",
    "\n",
    "### slicing : 원하는 문자열을 잘라서 가져오기\n",
    "print(a[0:4])\n",
    "a[0:0+4]\n",
    "a[0:4]\n",
    "#0번부터 4글자 즉, 0+4 = 4 \n",
    "#0번부터 3번까지의 의미가 아니라 0번부터 '몇글자의수'를 가져와라의 의미\n",
    "\n",
    "num=5\n",
    "print(a[0:0+num])\n",
    "print(a[0:num])\n",
    "\n",
    "print(a[0:4]) # 0번부터 4번전까지\n",
    "print(a[10:10+num])\n",
    "print(a[10:15]) # 10번부터 15번전까지 5글자"
   ]
  },
  {
   "cell_type": "code",
   "execution_count": null,
   "id": "74721178",
   "metadata": {},
   "outputs": [],
   "source": []
  },
  {
   "cell_type": "code",
   "execution_count": null,
   "id": "17d870db",
   "metadata": {},
   "outputs": [],
   "source": []
  }
 ],
 "metadata": {
  "kernelspec": {
   "display_name": "Python 3 (ipykernel)",
   "language": "python",
   "name": "python3"
  },
  "language_info": {
   "codemirror_mode": {
    "name": "ipython",
    "version": 3
   },
   "file_extension": ".py",
   "mimetype": "text/x-python",
   "name": "python",
   "nbconvert_exporter": "python",
   "pygments_lexer": "ipython3",
   "version": "3.8.12"
  }
 },
 "nbformat": 4,
 "nbformat_minor": 5
}
